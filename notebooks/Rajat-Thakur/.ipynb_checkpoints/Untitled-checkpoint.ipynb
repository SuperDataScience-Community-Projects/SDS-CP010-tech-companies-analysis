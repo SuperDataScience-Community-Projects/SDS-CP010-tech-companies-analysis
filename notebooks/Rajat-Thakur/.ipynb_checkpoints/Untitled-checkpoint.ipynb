{
 "cells": [
  {
   "cell_type": "code",
   "execution_count": null,
   "id": "c93eff32",
   "metadata": {},
   "outputs": [],
   "source": [
    "# Import yfinance package\n",
    "import yfinance as yf"
   ]
  },
  {
   "cell_type": "code",
   "execution_count": null,
   "id": "d9ef8bb2",
   "metadata": {},
   "outputs": [],
   "source": [
    "# Set the start and end date\n",
    "#start_date = '1990-01-01'\n",
    "#end_date = '2021-07-12'\n",
    "\n",
    "testYfin = data = yf.download('IFX', period=\"1d\")\n",
    "testYfin"
   ]
  },
  {
   "cell_type": "code",
   "execution_count": null,
   "id": "230aab70",
   "metadata": {},
   "outputs": [],
   "source": [
    "# Method to get the latest closing price using yfinance for known tickers\n",
    "def get_yfinance_price(ticker):\n",
    "    try:\n",
    "        data_yf = yf.download(ticker, period=\"1d\")  # Fetch latest data\n",
    "        if not data_yf.empty:\n",
    "            return data['Close'].iloc[-1]  # Return the latest closing price\n",
    "        else:\n",
    "            return None\n",
    "    except Exception as e:\n",
    "        print(f\"Error fetching data for {ticker} using yfinance: {e}\")\n",
    "        return None"
   ]
  },
  {
   "cell_type": "code",
   "execution_count": null,
   "id": "cbc172ab",
   "metadata": {},
   "outputs": [],
   "source": [
    "pip install investiny"
   ]
  },
  {
   "cell_type": "code",
   "execution_count": null,
   "id": "b6d495c2",
   "metadata": {},
   "outputs": [],
   "source": [
    "from investiny import search_assets\n",
    "import time"
   ]
  },
  {
   "cell_type": "code",
   "execution_count": null,
   "id": "26cb492a",
   "metadata": {},
   "outputs": [],
   "source": [
    "from investiny import search_assets, historical_data\n"
   ]
  },
  {
   "cell_type": "code",
   "execution_count": null,
   "id": "696de99e",
   "metadata": {},
   "outputs": [],
   "source": [
    "\n",
    "\n",
    "# Method to get the latest closing price using investiny for unknown tickers\n",
    "def get_investiny_price(stock_name):\n",
    "    try:\n",
    "        # Search for the asset in investiny\n",
    "        search_result = search_assets(query=stock_name)\n",
    "        if search_result:\n",
    "            asset_info = search_result[0]\n",
    "            asset_id = asset_info['ticker']\n",
    "\n",
    "            # Fetch the latest available historical data\n",
    "            current_date = time.strftime(\"%m-%d-%Y\")  # Get today's date\n",
    "            data = historical_data(asset_id, from_date=\"09/20/2024\", to_date=\"09/20/2024\")\n",
    "            #print('data value: ',data)\n",
    "            if data:\n",
    "                return data['close']  # Return the latest closing price\n",
    "            else:\n",
    "                return None\n",
    "        else:\n",
    "            return None\n",
    "    except Exception as e:\n",
    "        print(f\"Error fetching data for {stock_name}\")\n",
    "        return None"
   ]
  },
  {
   "cell_type": "code",
   "execution_count": null,
   "id": "d49343f8",
   "metadata": {},
   "outputs": [],
   "source": [
    "print(get_investiny_price(603508))"
   ]
  },
  {
   "cell_type": "code",
   "execution_count": null,
   "id": "510cb1f8",
   "metadata": {},
   "outputs": [],
   "source": [
    "def get_stock_price(ticker):\n",
    "    if ticker.isdigit():\n",
    "        return get_investiny_price(ticker)\n",
    "    else:\n",
    "        return get_yfinance_price(ticker)"
   ]
  },
  {
   "cell_type": "code",
   "execution_count": null,
   "id": "7ebebf7b",
   "metadata": {},
   "outputs": [],
   "source": [
    "# Add new column\n",
    "df['Stock Price'] = df['Stock'].apply(get_stock_price)\n"
   ]
  },
  {
   "cell_type": "code",
   "execution_count": null,
   "id": "798a9652",
   "metadata": {},
   "outputs": [],
   "source": [
    "#For the unkown stock symbol we use investiny library to get the stock ticker and then get the closing price"
   ]
  },
  {
   "cell_type": "code",
   "execution_count": null,
   "id": "fe28c643",
   "metadata": {},
   "outputs": [],
   "source": [
    "from investiny import search_assets\n",
    "\n",
    "results = search_assets(query=\"603508\")"
   ]
  },
  {
   "cell_type": "code",
   "execution_count": null,
   "id": "85dace42",
   "metadata": {},
   "outputs": [],
   "source": [
    "from investiny import search_assets, historical_data"
   ]
  },
  {
   "cell_type": "code",
   "execution_count": null,
   "id": "de3b107e",
   "metadata": {},
   "outputs": [],
   "source": [
    "info = results[0]\n",
    "info['ticker']"
   ]
  },
  {
   "cell_type": "code",
   "execution_count": null,
   "id": "76bba8c6",
   "metadata": {},
   "outputs": [],
   "source": [
    "data2 = historical_data(investing_id=994568, from_date=\"09/20/2024\", to_date=\"09/21/2024\")\n"
   ]
  },
  {
   "cell_type": "code",
   "execution_count": null,
   "id": "e051bc64",
   "metadata": {},
   "outputs": [],
   "source": [
    "data2['close']"
   ]
  },
  {
   "cell_type": "code",
   "execution_count": null,
   "id": "2d27c011",
   "metadata": {},
   "outputs": [],
   "source": []
  },
  {
   "cell_type": "code",
   "execution_count": null,
   "id": "c1e3fe73",
   "metadata": {},
   "outputs": [],
   "source": []
  }
 ],
 "metadata": {
  "kernelspec": {
   "display_name": "Python 3 (ipykernel)",
   "language": "python",
   "name": "python3"
  },
  "language_info": {
   "codemirror_mode": {
    "name": "ipython",
    "version": 3
   },
   "file_extension": ".py",
   "mimetype": "text/x-python",
   "name": "python",
   "nbconvert_exporter": "python",
   "pygments_lexer": "ipython3",
   "version": "3.9.7"
  }
 },
 "nbformat": 4,
 "nbformat_minor": 5
}
