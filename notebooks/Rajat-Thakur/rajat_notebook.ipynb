{
 "cells": [
  {
   "cell_type": "code",
   "execution_count": 155,
   "id": "de4575cd",
   "metadata": {},
   "outputs": [],
   "source": [
    "import pandas as pd"
   ]
  },
  {
   "cell_type": "markdown",
   "id": "9151110d",
   "metadata": {},
   "source": [
    "# Data Exploration & Cleaning (Week 1)"
   ]
  },
  {
   "cell_type": "code",
   "execution_count": 156,
   "id": "159d7a90",
   "metadata": {},
   "outputs": [],
   "source": [
    "data = pd.read_csv(\"/Users/rajatthakur/Desktop/SuperDataScienceML/CollaborationProjects/SDS-CP010-tech-companies-analysis/data/tech-companies.csv\")"
   ]
  },
  {
   "cell_type": "code",
   "execution_count": null,
   "id": "39a5a0ac",
   "metadata": {},
   "outputs": [],
   "source": []
  },
  {
   "cell_type": "code",
   "execution_count": 157,
   "id": "ca9ffcd0",
   "metadata": {
    "scrolled": true
   },
   "outputs": [
    {
     "data": {
      "text/html": [
       "<div>\n",
       "<style scoped>\n",
       "    .dataframe tbody tr th:only-of-type {\n",
       "        vertical-align: middle;\n",
       "    }\n",
       "\n",
       "    .dataframe tbody tr th {\n",
       "        vertical-align: top;\n",
       "    }\n",
       "\n",
       "    .dataframe thead th {\n",
       "        text-align: right;\n",
       "    }\n",
       "</style>\n",
       "<table border=\"1\" class=\"dataframe\">\n",
       "  <thead>\n",
       "    <tr style=\"text-align: right;\">\n",
       "      <th></th>\n",
       "      <th>Ranking</th>\n",
       "      <th>Company</th>\n",
       "      <th>Market Cap</th>\n",
       "      <th>Stock</th>\n",
       "      <th>Country</th>\n",
       "      <th>Sector</th>\n",
       "      <th>Industry</th>\n",
       "    </tr>\n",
       "  </thead>\n",
       "  <tbody>\n",
       "    <tr>\n",
       "      <th>0</th>\n",
       "      <td>1</td>\n",
       "      <td>Apple Inc.</td>\n",
       "      <td>$2.866 T</td>\n",
       "      <td>AAPL</td>\n",
       "      <td>United States</td>\n",
       "      <td>Technology</td>\n",
       "      <td>Consumer Electronics</td>\n",
       "    </tr>\n",
       "    <tr>\n",
       "      <th>1</th>\n",
       "      <td>2</td>\n",
       "      <td>Microsoft Corporation</td>\n",
       "      <td>$2.755 T</td>\n",
       "      <td>MSFT</td>\n",
       "      <td>United States</td>\n",
       "      <td>Technology</td>\n",
       "      <td>Software—Infrastructure</td>\n",
       "    </tr>\n",
       "    <tr>\n",
       "      <th>2</th>\n",
       "      <td>3</td>\n",
       "      <td>Nvidia Corporation</td>\n",
       "      <td>$1.186 T</td>\n",
       "      <td>NVDA</td>\n",
       "      <td>United States</td>\n",
       "      <td>Technology</td>\n",
       "      <td>Semiconductors</td>\n",
       "    </tr>\n",
       "    <tr>\n",
       "      <th>3</th>\n",
       "      <td>4</td>\n",
       "      <td>Broadcom Inc.</td>\n",
       "      <td>$495.95 B</td>\n",
       "      <td>AVGO</td>\n",
       "      <td>United States</td>\n",
       "      <td>Technology</td>\n",
       "      <td>Semiconductors</td>\n",
       "    </tr>\n",
       "    <tr>\n",
       "      <th>4</th>\n",
       "      <td>5</td>\n",
       "      <td>Taiwan Semiconductor Manufacturing Company Lim...</td>\n",
       "      <td>$487.64 B</td>\n",
       "      <td>2330</td>\n",
       "      <td>Taiwan</td>\n",
       "      <td>Technology</td>\n",
       "      <td>Semiconductors</td>\n",
       "    </tr>\n",
       "    <tr>\n",
       "      <th>...</th>\n",
       "      <td>...</td>\n",
       "      <td>...</td>\n",
       "      <td>...</td>\n",
       "      <td>...</td>\n",
       "      <td>...</td>\n",
       "      <td>...</td>\n",
       "      <td>...</td>\n",
       "    </tr>\n",
       "    <tr>\n",
       "      <th>995</th>\n",
       "      <td>996</td>\n",
       "      <td>Henan Thinker Automatic Equipment Co.,Ltd.</td>\n",
       "      <td>$825.4 M</td>\n",
       "      <td>603508</td>\n",
       "      <td>China</td>\n",
       "      <td>Technology</td>\n",
       "      <td>Scientific &amp; Technical Instruments</td>\n",
       "    </tr>\n",
       "    <tr>\n",
       "      <th>996</th>\n",
       "      <td>997</td>\n",
       "      <td>transcosmos, Inc.</td>\n",
       "      <td>$819.5 M</td>\n",
       "      <td>9715</td>\n",
       "      <td>Japan</td>\n",
       "      <td>Technology</td>\n",
       "      <td>Information Technology Services</td>\n",
       "    </tr>\n",
       "    <tr>\n",
       "      <th>997</th>\n",
       "      <td>998</td>\n",
       "      <td>Yeahka Ltd</td>\n",
       "      <td>$819.3 M</td>\n",
       "      <td>9923</td>\n",
       "      <td>China</td>\n",
       "      <td>Technology</td>\n",
       "      <td>Software—Infrastructure</td>\n",
       "    </tr>\n",
       "    <tr>\n",
       "      <th>998</th>\n",
       "      <td>999</td>\n",
       "      <td>Beijing Wanji Technology Co. Ltd</td>\n",
       "      <td>$816.1 M</td>\n",
       "      <td>300552</td>\n",
       "      <td>China</td>\n",
       "      <td>Technology</td>\n",
       "      <td>Scientific &amp; Technical Instruments</td>\n",
       "    </tr>\n",
       "    <tr>\n",
       "      <th>999</th>\n",
       "      <td>1000</td>\n",
       "      <td>Fujian Foxit Software Development Joint Stock ...</td>\n",
       "      <td>$811.5 M</td>\n",
       "      <td>688095</td>\n",
       "      <td>China</td>\n",
       "      <td>Technology</td>\n",
       "      <td>Software—Application</td>\n",
       "    </tr>\n",
       "  </tbody>\n",
       "</table>\n",
       "<p>1000 rows × 7 columns</p>\n",
       "</div>"
      ],
      "text/plain": [
       "     Ranking                                            Company Market Cap  \\\n",
       "0          1                                         Apple Inc.   $2.866 T   \n",
       "1          2                              Microsoft Corporation   $2.755 T   \n",
       "2          3                                 Nvidia Corporation   $1.186 T   \n",
       "3          4                                      Broadcom Inc.  $495.95 B   \n",
       "4          5  Taiwan Semiconductor Manufacturing Company Lim...  $487.64 B   \n",
       "..       ...                                                ...        ...   \n",
       "995      996         Henan Thinker Automatic Equipment Co.,Ltd.   $825.4 M   \n",
       "996      997                                  transcosmos, Inc.   $819.5 M   \n",
       "997      998                                         Yeahka Ltd   $819.3 M   \n",
       "998      999                   Beijing Wanji Technology Co. Ltd   $816.1 M   \n",
       "999     1000  Fujian Foxit Software Development Joint Stock ...   $811.5 M   \n",
       "\n",
       "      Stock        Country      Sector                            Industry  \n",
       "0      AAPL  United States  Technology                Consumer Electronics  \n",
       "1      MSFT  United States  Technology             Software—Infrastructure  \n",
       "2      NVDA  United States  Technology                      Semiconductors  \n",
       "3      AVGO  United States  Technology                      Semiconductors  \n",
       "4      2330         Taiwan  Technology                      Semiconductors  \n",
       "..      ...            ...         ...                                 ...  \n",
       "995  603508          China  Technology  Scientific & Technical Instruments  \n",
       "996    9715          Japan  Technology     Information Technology Services  \n",
       "997    9923          China  Technology             Software—Infrastructure  \n",
       "998  300552          China  Technology  Scientific & Technical Instruments  \n",
       "999  688095          China  Technology                Software—Application  \n",
       "\n",
       "[1000 rows x 7 columns]"
      ]
     },
     "execution_count": 157,
     "metadata": {},
     "output_type": "execute_result"
    }
   ],
   "source": [
    "data"
   ]
  },
  {
   "cell_type": "code",
   "execution_count": 158,
   "id": "9cdebde2",
   "metadata": {
    "scrolled": false
   },
   "outputs": [
    {
     "name": "stdout",
     "output_type": "stream",
     "text": [
      "<class 'pandas.core.frame.DataFrame'>\n",
      "RangeIndex: 1000 entries, 0 to 999\n",
      "Data columns (total 7 columns):\n",
      " #   Column      Non-Null Count  Dtype \n",
      "---  ------      --------------  ----- \n",
      " 0   Ranking     1000 non-null   int64 \n",
      " 1   Company     1000 non-null   object\n",
      " 2   Market Cap  1000 non-null   object\n",
      " 3   Stock       1000 non-null   object\n",
      " 4   Country     1000 non-null   object\n",
      " 5   Sector      1000 non-null   object\n",
      " 6   Industry    1000 non-null   object\n",
      "dtypes: int64(1), object(6)\n",
      "memory usage: 54.8+ KB\n"
     ]
    }
   ],
   "source": [
    "data.info()"
   ]
  },
  {
   "cell_type": "markdown",
   "id": "54afc8e0",
   "metadata": {},
   "source": [
    "# Summary Statistics:"
   ]
  },
  {
   "cell_type": "code",
   "execution_count": 159,
   "id": "8b87b6d7",
   "metadata": {},
   "outputs": [
    {
     "name": "stderr",
     "output_type": "stream",
     "text": [
      "/var/folders/7h/099t5t950s10yv3y5sz80ls00000gn/T/ipykernel_56706/547994546.py:14: SettingWithCopyWarning:\n",
      "\n",
      "\n",
      "A value is trying to be set on a copy of a slice from a DataFrame\n",
      "\n",
      "See the caveats in the documentation: https://pandas.pydata.org/pandas-docs/stable/user_guide/indexing.html#returning-a-view-versus-a-copy\n",
      "\n"
     ]
    }
   ],
   "source": [
    "#Transformation of Market Cap to Numeric data to understand Marktet Cap Statistics\n",
    "for i, marketCap in enumerate(data['Market Cap']):\n",
    "    marketCap = marketCap.replace('$', '')\n",
    "    \n",
    "    if 'T' in marketCap:\n",
    "        marketCap = float(marketCap.replace('T', '')) * 1e12\n",
    "    elif 'B' in marketCap:\n",
    "        marketCap = float(marketCap.replace('B', '')) * 1e9\n",
    "    elif 'M' in marketCap:\n",
    "        marketCap = float(marketCap.replace('M', '')) * 1e6\n",
    "    else:\n",
    "        marketCap = float(marketCap) \n",
    "    \n",
    "    data['Market Cap'][i] = marketCap\n"
   ]
  },
  {
   "cell_type": "code",
   "execution_count": 160,
   "id": "1e8b7862",
   "metadata": {},
   "outputs": [
    {
     "data": {
      "text/html": [
       "<div>\n",
       "<style scoped>\n",
       "    .dataframe tbody tr th:only-of-type {\n",
       "        vertical-align: middle;\n",
       "    }\n",
       "\n",
       "    .dataframe tbody tr th {\n",
       "        vertical-align: top;\n",
       "    }\n",
       "\n",
       "    .dataframe thead th {\n",
       "        text-align: right;\n",
       "    }\n",
       "</style>\n",
       "<table border=\"1\" class=\"dataframe\">\n",
       "  <thead>\n",
       "    <tr style=\"text-align: right;\">\n",
       "      <th></th>\n",
       "      <th>Ranking</th>\n",
       "      <th>Company</th>\n",
       "      <th>Market Cap</th>\n",
       "      <th>Stock</th>\n",
       "      <th>Country</th>\n",
       "      <th>Sector</th>\n",
       "      <th>Industry</th>\n",
       "    </tr>\n",
       "  </thead>\n",
       "  <tbody>\n",
       "    <tr>\n",
       "      <th>0</th>\n",
       "      <td>1</td>\n",
       "      <td>Apple Inc.</td>\n",
       "      <td>2866000000000.0</td>\n",
       "      <td>AAPL</td>\n",
       "      <td>United States</td>\n",
       "      <td>Technology</td>\n",
       "      <td>Consumer Electronics</td>\n",
       "    </tr>\n",
       "    <tr>\n",
       "      <th>1</th>\n",
       "      <td>2</td>\n",
       "      <td>Microsoft Corporation</td>\n",
       "      <td>2755000000000.0</td>\n",
       "      <td>MSFT</td>\n",
       "      <td>United States</td>\n",
       "      <td>Technology</td>\n",
       "      <td>Software—Infrastructure</td>\n",
       "    </tr>\n",
       "    <tr>\n",
       "      <th>2</th>\n",
       "      <td>3</td>\n",
       "      <td>Nvidia Corporation</td>\n",
       "      <td>1186000000000.0</td>\n",
       "      <td>NVDA</td>\n",
       "      <td>United States</td>\n",
       "      <td>Technology</td>\n",
       "      <td>Semiconductors</td>\n",
       "    </tr>\n",
       "    <tr>\n",
       "      <th>3</th>\n",
       "      <td>4</td>\n",
       "      <td>Broadcom Inc.</td>\n",
       "      <td>495950000000.0</td>\n",
       "      <td>AVGO</td>\n",
       "      <td>United States</td>\n",
       "      <td>Technology</td>\n",
       "      <td>Semiconductors</td>\n",
       "    </tr>\n",
       "    <tr>\n",
       "      <th>4</th>\n",
       "      <td>5</td>\n",
       "      <td>Taiwan Semiconductor Manufacturing Company Lim...</td>\n",
       "      <td>487640000000.0</td>\n",
       "      <td>2330</td>\n",
       "      <td>Taiwan</td>\n",
       "      <td>Technology</td>\n",
       "      <td>Semiconductors</td>\n",
       "    </tr>\n",
       "    <tr>\n",
       "      <th>...</th>\n",
       "      <td>...</td>\n",
       "      <td>...</td>\n",
       "      <td>...</td>\n",
       "      <td>...</td>\n",
       "      <td>...</td>\n",
       "      <td>...</td>\n",
       "      <td>...</td>\n",
       "    </tr>\n",
       "    <tr>\n",
       "      <th>995</th>\n",
       "      <td>996</td>\n",
       "      <td>Henan Thinker Automatic Equipment Co.,Ltd.</td>\n",
       "      <td>825400000.0</td>\n",
       "      <td>603508</td>\n",
       "      <td>China</td>\n",
       "      <td>Technology</td>\n",
       "      <td>Scientific &amp; Technical Instruments</td>\n",
       "    </tr>\n",
       "    <tr>\n",
       "      <th>996</th>\n",
       "      <td>997</td>\n",
       "      <td>transcosmos, Inc.</td>\n",
       "      <td>819500000.0</td>\n",
       "      <td>9715</td>\n",
       "      <td>Japan</td>\n",
       "      <td>Technology</td>\n",
       "      <td>Information Technology Services</td>\n",
       "    </tr>\n",
       "    <tr>\n",
       "      <th>997</th>\n",
       "      <td>998</td>\n",
       "      <td>Yeahka Ltd</td>\n",
       "      <td>819300000.0</td>\n",
       "      <td>9923</td>\n",
       "      <td>China</td>\n",
       "      <td>Technology</td>\n",
       "      <td>Software—Infrastructure</td>\n",
       "    </tr>\n",
       "    <tr>\n",
       "      <th>998</th>\n",
       "      <td>999</td>\n",
       "      <td>Beijing Wanji Technology Co. Ltd</td>\n",
       "      <td>816100000.0</td>\n",
       "      <td>300552</td>\n",
       "      <td>China</td>\n",
       "      <td>Technology</td>\n",
       "      <td>Scientific &amp; Technical Instruments</td>\n",
       "    </tr>\n",
       "    <tr>\n",
       "      <th>999</th>\n",
       "      <td>1000</td>\n",
       "      <td>Fujian Foxit Software Development Joint Stock ...</td>\n",
       "      <td>811500000.0</td>\n",
       "      <td>688095</td>\n",
       "      <td>China</td>\n",
       "      <td>Technology</td>\n",
       "      <td>Software—Application</td>\n",
       "    </tr>\n",
       "  </tbody>\n",
       "</table>\n",
       "<p>1000 rows × 7 columns</p>\n",
       "</div>"
      ],
      "text/plain": [
       "     Ranking                                            Company  \\\n",
       "0          1                                         Apple Inc.   \n",
       "1          2                              Microsoft Corporation   \n",
       "2          3                                 Nvidia Corporation   \n",
       "3          4                                      Broadcom Inc.   \n",
       "4          5  Taiwan Semiconductor Manufacturing Company Lim...   \n",
       "..       ...                                                ...   \n",
       "995      996         Henan Thinker Automatic Equipment Co.,Ltd.   \n",
       "996      997                                  transcosmos, Inc.   \n",
       "997      998                                         Yeahka Ltd   \n",
       "998      999                   Beijing Wanji Technology Co. Ltd   \n",
       "999     1000  Fujian Foxit Software Development Joint Stock ...   \n",
       "\n",
       "          Market Cap   Stock        Country      Sector  \\\n",
       "0    2866000000000.0    AAPL  United States  Technology   \n",
       "1    2755000000000.0    MSFT  United States  Technology   \n",
       "2    1186000000000.0    NVDA  United States  Technology   \n",
       "3     495950000000.0    AVGO  United States  Technology   \n",
       "4     487640000000.0    2330         Taiwan  Technology   \n",
       "..               ...     ...            ...         ...   \n",
       "995      825400000.0  603508          China  Technology   \n",
       "996      819500000.0    9715          Japan  Technology   \n",
       "997      819300000.0    9923          China  Technology   \n",
       "998      816100000.0  300552          China  Technology   \n",
       "999      811500000.0  688095          China  Technology   \n",
       "\n",
       "                               Industry  \n",
       "0                  Consumer Electronics  \n",
       "1               Software—Infrastructure  \n",
       "2                        Semiconductors  \n",
       "3                        Semiconductors  \n",
       "4                        Semiconductors  \n",
       "..                                  ...  \n",
       "995  Scientific & Technical Instruments  \n",
       "996     Information Technology Services  \n",
       "997             Software—Infrastructure  \n",
       "998  Scientific & Technical Instruments  \n",
       "999                Software—Application  \n",
       "\n",
       "[1000 rows x 7 columns]"
      ]
     },
     "execution_count": 160,
     "metadata": {},
     "output_type": "execute_result"
    }
   ],
   "source": [
    "data"
   ]
  },
  {
   "cell_type": "code",
   "execution_count": 161,
   "id": "5f17564a",
   "metadata": {},
   "outputs": [
    {
     "name": "stdout",
     "output_type": "stream",
     "text": [
      "Requirement already satisfied: numerize in /Users/rajatthakur/opt/anaconda3/lib/python3.9/site-packages (0.12)\n",
      "Note: you may need to restart the kernel to use updated packages.\n"
     ]
    }
   ],
   "source": [
    "pip install numerize "
   ]
  },
  {
   "cell_type": "code",
   "execution_count": 162,
   "id": "16114364",
   "metadata": {},
   "outputs": [],
   "source": [
    "from numerize import numerize \n"
   ]
  },
  {
   "cell_type": "code",
   "execution_count": 163,
   "id": "0b5ebb60",
   "metadata": {
    "scrolled": true
   },
   "outputs": [
    {
     "name": "stdout",
     "output_type": "stream",
     "text": [
      "Average Market Cap of Top 1000 Companies:  18.76B\n"
     ]
    }
   ],
   "source": [
    "averageMarketCap = numerize.numerize(data['Market Cap'].mean())\n",
    "print('Average Market Cap of Top 1000 Companies: ',averageMarketCap)\n"
   ]
  },
  {
   "cell_type": "code",
   "execution_count": 164,
   "id": "1b853214",
   "metadata": {},
   "outputs": [
    {
     "name": "stdout",
     "output_type": "stream",
     "text": [
      "Standard Deviation(Market Cap Variation):  135.73B\n"
     ]
    }
   ],
   "source": [
    "marketCapVariation = numerize.numerize(data['Market Cap'].std())\n",
    "print('Standard Deviation(Market Cap Variation): ', marketCapVariation)"
   ]
  },
  {
   "cell_type": "code",
   "execution_count": 165,
   "id": "953ef2e6",
   "metadata": {},
   "outputs": [
    {
     "name": "stdout",
     "output_type": "stream",
     "text": [
      "Meidan Market Cap:  2.74B\n"
     ]
    }
   ],
   "source": [
    "medianMarketCap = numerize.numerize(data['Market Cap'].median())\n",
    "print('Meidan Market Cap: ', medianMarketCap)"
   ]
  },
  {
   "cell_type": "code",
   "execution_count": 166,
   "id": "d4fe2a18",
   "metadata": {},
   "outputs": [
    {
     "data": {
      "text/plain": [
       "'Top Ten Companies according to their Market Cap'"
      ]
     },
     "metadata": {},
     "output_type": "display_data"
    },
    {
     "data": {
      "text/plain": [
       "0                                           Apple Inc.\n",
       "1                                Microsoft Corporation\n",
       "2                                   Nvidia Corporation\n",
       "3                                        Broadcom Inc.\n",
       "4    Taiwan Semiconductor Manufacturing Company Lim...\n",
       "5                        Samsung Electronics Co., Ltd.\n",
       "6                                    ASML Holding N.V.\n",
       "7                                   Oracle Corporation\n",
       "8                                           Adobe Inc.\n",
       "9                                 salesforce.com, inc.\n",
       "Name: Company, dtype: object"
      ]
     },
     "metadata": {},
     "output_type": "display_data"
    },
    {
     "data": {
      "text/plain": [
       "0      2.87T\n",
       "1      2.76T\n",
       "2      1.19T\n",
       "3    495.95B\n",
       "4    487.64B\n",
       "5    392.38B\n",
       "6     297.1B\n",
       "7    282.01B\n",
       "8    260.23B\n",
       "9    243.78B\n",
       "Name: Market Cap, dtype: object"
      ]
     },
     "metadata": {},
     "output_type": "display_data"
    }
   ],
   "source": [
    "topTenCompanies = data[['Company', 'Market Cap']].head(10)\n",
    "display('Top Ten Companies according to their Market Cap', topTenCompanies['Company'], topTenCompanies['Market Cap'].apply(numerize.numerize))"
   ]
  },
  {
   "cell_type": "code",
   "execution_count": 167,
   "id": "588a5c5d",
   "metadata": {},
   "outputs": [
    {
     "name": "stdout",
     "output_type": "stream",
     "text": [
      "Requirement already satisfied: matplotlib in /Users/rajatthakur/opt/anaconda3/lib/python3.9/site-packages (3.4.3)\n",
      "Requirement already satisfied: seaborn in /Users/rajatthakur/opt/anaconda3/lib/python3.9/site-packages (0.11.2)\n",
      "Requirement already satisfied: pyparsing>=2.2.1 in /Users/rajatthakur/opt/anaconda3/lib/python3.9/site-packages (from matplotlib) (3.0.6)\n",
      "Requirement already satisfied: pillow>=6.2.0 in /Users/rajatthakur/opt/anaconda3/lib/python3.9/site-packages (from matplotlib) (8.4.0)\n",
      "Requirement already satisfied: python-dateutil>=2.7 in /Users/rajatthakur/opt/anaconda3/lib/python3.9/site-packages (from matplotlib) (2.8.2)\n",
      "Requirement already satisfied: numpy>=1.16 in /Users/rajatthakur/opt/anaconda3/lib/python3.9/site-packages (from matplotlib) (1.22.2)\n",
      "Requirement already satisfied: kiwisolver>=1.0.1 in /Users/rajatthakur/opt/anaconda3/lib/python3.9/site-packages (from matplotlib) (1.3.1)\n",
      "Requirement already satisfied: cycler>=0.10 in /Users/rajatthakur/opt/anaconda3/lib/python3.9/site-packages (from matplotlib) (0.10.0)\n",
      "Requirement already satisfied: pandas>=0.23 in /Users/rajatthakur/opt/anaconda3/lib/python3.9/site-packages (from seaborn) (1.3.4)\n",
      "Requirement already satisfied: scipy>=1.0 in /Users/rajatthakur/opt/anaconda3/lib/python3.9/site-packages (from seaborn) (1.7.1)\n",
      "Requirement already satisfied: six in /Users/rajatthakur/opt/anaconda3/lib/python3.9/site-packages (from cycler>=0.10->matplotlib) (1.15.0)\n",
      "Requirement already satisfied: pytz>=2017.3 in /Users/rajatthakur/opt/anaconda3/lib/python3.9/site-packages (from pandas>=0.23->seaborn) (2024.2)\n",
      "Note: you may need to restart the kernel to use updated packages.\n"
     ]
    }
   ],
   "source": [
    "pip install matplotlib seaborn\n"
   ]
  },
  {
   "cell_type": "markdown",
   "id": "c61e1fdb",
   "metadata": {},
   "source": [
    "# Top Ten Companies according to their market cap"
   ]
  },
  {
   "cell_type": "code",
   "execution_count": 168,
   "id": "be2a6dbb",
   "metadata": {
    "scrolled": true
   },
   "outputs": [
    {
     "data": {
      "image/png": "[encoded data removed]",
      "text/plain": [
       "<Figure size 1080x576 with 1 Axes>"
      ]
     },
     "metadata": {
      "needs_background": "light"
     },
     "output_type": "display_data"
    }
   ],
   "source": [
    "import seaborn as sns\n",
    "import matplotlib.pyplot as plt\n",
    "\n",
    "marketCap = topTenCompanies['Market Cap']\n",
    "\n",
    "plt.figure(figsize=(15, 8))\n",
    "\n",
    "ax = sns.barplot(x=topTenCompanies['Company'], y= marketCap, palette='viridis')\n",
    "numerized_values = [numerize.numerize(val) for val in marketCap]\n",
    "for i, val in enumerate(numerized_values):\n",
    "    ax.text(i, marketCap[i], val, ha='center', va='bottom', fontsize=11, color='black')\n",
    "\n",
    "\n",
    "plt.title('Top Ten Companies according to their market cap', fontsize=16)\n",
    "\n",
    "plt.xlabel('Company Name', fontsize=12)\n",
    "plt.ylabel('Market Cap(in Trillion)', fontsize=12)\n",
    "plt.xticks(rotation=85)\n",
    "plt.show()"
   ]
  },
  {
   "cell_type": "code",
   "execution_count": 169,
   "id": "73a98abf",
   "metadata": {},
   "outputs": [
    {
     "name": "stdout",
     "output_type": "stream",
     "text": [
      "38 countries are represented by the companies there.\n"
     ]
    }
   ],
   "source": [
    "totalCountries = data['Country'].unique().size\n",
    "print(totalCountries ,'countries are represented by the companies there.')"
   ]
  },
  {
   "cell_type": "code",
   "execution_count": 170,
   "id": "f54a1ef9",
   "metadata": {},
   "outputs": [
    {
     "name": "stdout",
     "output_type": "stream",
     "text": [
      "Total number of Industries:  12\n"
     ]
    }
   ],
   "source": [
    "totalIndustries = data['Industry'].unique().size\n",
    "print('Total number of Industries: ', totalIndustries)"
   ]
  },
  {
   "cell_type": "code",
   "execution_count": 171,
   "id": "ed1cd058",
   "metadata": {},
   "outputs": [
    {
     "name": "stdout",
     "output_type": "stream",
     "text": [
      "All the industries belongs to ['Technology'] sector\n"
     ]
    }
   ],
   "source": [
    "industriesSector = data['Sector'].unique()\n",
    "print('All the industries belongs to', industriesSector, 'sector')"
   ]
  },
  {
   "cell_type": "code",
   "execution_count": null,
   "id": "de5e6c15",
   "metadata": {},
   "outputs": [],
   "source": []
  },
  {
   "cell_type": "markdown",
   "id": "9b7aa179",
   "metadata": {},
   "source": [
    "# Regional Market Analysis by Market Cap"
   ]
  },
  {
   "cell_type": "code",
   "execution_count": null,
   "id": "a467767b",
   "metadata": {},
   "outputs": [],
   "source": []
  },
  {
   "cell_type": "code",
   "execution_count": 172,
   "id": "b6c72018",
   "metadata": {
    "scrolled": true
   },
   "outputs": [
    {
     "data": {
      "application/vnd.plotly.v1+json": {
       "config": {
        "plotlyServerURL": "https://plot.ly"
       },
       "data": [
        {
         "colorscale": [
          [
           0,
           "#636efa"
          ],
          [
           1,
           "#636efa"
          ]
         ],
         "geo": "geo",
         "hovertemplate": "<b>%{hovertext}</b><br><br>Market Cap=97.9B<br>Country=%{location}<extra></extra>",
         "hovertext": [
          "Australia"
         ],
         "locationmode": "country names",
         "locations": [
          "Australia"
         ],
         "name": "97.9B",
         "showlegend": true,
         "showscale": false,
         "type": "choropleth",
         "z": [
          1
         ]
        },
        {
         "colorscale": [
          [
           0,
           "#EF553B"
          ],
          [
           1,
           "#EF553B"
          ]
         ],
         "geo": "geo",
         "hovertemplate": "<b>%{hovertext}</b><br><br>Market Cap=2.23B<br>Country=%{location}<extra></extra>",
         "hovertext": [
          "Austria"
         ],
         "locationmode": "country names",
         "locations": [
          "Austria"
         ],
         "name": "2.23B",
         "showlegend": true,
         "showscale": false,
         "type": "choropleth",
         "z": [
          1
         ]
        },
        {
         "colorscale": [
          [
           0,
           "#00cc96"
          ],
          [
           1,
           "#00cc96"
          ]
         ],
         "geo": "geo",
         "hovertemplate": "<b>%{hovertext}</b><br><br>Market Cap=7.88B<br>Country=%{location}<extra></extra>",
         "hovertext": [
          "Belgium"
         ],
         "locationmode": "country names",
         "locations": [
          "Belgium"
         ],
         "name": "7.88B",
         "showlegend": true,
         "showscale": false,
         "type": "choropleth",
         "z": [
          1
         ]
        },
        {
         "colorscale": [
          [
           0,
           "#ab63fa"
          ],
          [
           1,
           "#ab63fa"
          ]
         ],
         "geo": "geo",
         "hovertemplate": "<b>%{hovertext}</b><br><br>Market Cap=56.38B<br>Country=%{location}<extra></extra>",
         "hovertext": [
          "Bermuda"
         ],
         "locationmode": "country names",
         "locations": [
          "Bermuda"
         ],
         "name": "56.38B",
         "showlegend": true,
         "showscale": false,
         "type": "choropleth",
         "z": [
          1
         ]
        },
        {
         "colorscale": [
          [
           0,
           "#FFA15A"
          ],
          [
           1,
           "#FFA15A"
          ]
         ],
         "geo": "geo",
         "hovertemplate": "<b>%{hovertext}</b><br><br>Market Cap=13.51B<br>Country=%{location}<extra></extra>",
         "hovertext": [
          "Brazil"
         ],
         "locationmode": "country names",
         "locations": [
          "Brazil"
         ],
         "name": "13.51B",
         "showlegend": true,
         "showscale": false,
         "type": "choropleth",
         "z": [
          1
         ]
        },
        {
         "colorscale": [
          [
           0,
           "#19d3f3"
          ],
          [
           1,
           "#19d3f3"
          ]
         ],
         "geo": "geo",
         "hovertemplate": "<b>%{hovertext}</b><br><br>Market Cap=224.57B<br>Country=%{location}<extra></extra>",
         "hovertext": [
          "Canada"
         ],
         "locationmode": "country names",
         "locations": [
          "Canada"
         ],
         "name": "224.57B",
         "showlegend": true,
         "showscale": false,
         "type": "choropleth",
         "z": [
          1
         ]
        },
        {
         "colorscale": [
          [
           0,
           "#FF6692"
          ],
          [
           1,
           "#FF6692"
          ]
         ],
         "geo": "geo",
         "hovertemplate": "<b>%{hovertext}</b><br><br>Market Cap=18.24B<br>Country=%{location}<extra></extra>",
         "hovertext": [
          "Cayman Islands"
         ],
         "locationmode": "country names",
         "locations": [
          "Cayman Islands"
         ],
         "name": "18.24B",
         "showlegend": true,
         "showscale": false,
         "type": "choropleth",
         "z": [
          1
         ]
        },
        {
         "colorscale": [
          [
           0,
           "#B6E880"
          ],
          [
           1,
           "#B6E880"
          ]
         ],
         "geo": "geo",
         "hovertemplate": "<b>%{hovertext}</b><br><br>Market Cap=863.73B<br>Country=%{location}<extra></extra>",
         "hovertext": [
          "China"
         ],
         "locationmode": "country names",
         "locations": [
          "China"
         ],
         "name": "863.73B",
         "showlegend": true,
         "showscale": false,
         "type": "choropleth",
         "z": [
          1
         ]
        },
        {
         "colorscale": [
          [
           0,
           "#FF97FF"
          ],
          [
           1,
           "#FF97FF"
          ]
         ],
         "geo": "geo",
         "hovertemplate": "<b>%{hovertext}</b><br><br>Market Cap=8.72B<br>Country=%{location}<extra></extra>",
         "hovertext": [
          "Czechia"
         ],
         "locationmode": "country names",
         "locations": [
          "Czechia"
         ],
         "name": "8.72B",
         "showlegend": true,
         "showscale": false,
         "type": "choropleth",
         "z": [
          1
         ]
        },
        {
         "colorscale": [
          [
           0,
           "#FECB52"
          ],
          [
           1,
           "#FECB52"
          ]
         ],
         "geo": "geo",
         "hovertemplate": "<b>%{hovertext}</b><br><br>Market Cap=8.14B<br>Country=%{location}<extra></extra>",
         "hovertext": [
          "Denmark"
         ],
         "locationmode": "country names",
         "locations": [
          "Denmark"
         ],
         "name": "8.14B",
         "showlegend": true,
         "showscale": false,
         "type": "choropleth",
         "z": [
          1
         ]
        },
        {
         "colorscale": [
          [
           0,
           "#636efa"
          ],
          [
           1,
           "#636efa"
          ]
         ],
         "geo": "geo",
         "hovertemplate": "<b>%{hovertext}</b><br><br>Market Cap=25.6B<br>Country=%{location}<extra></extra>",
         "hovertext": [
          "Finland"
         ],
         "locationmode": "country names",
         "locations": [
          "Finland"
         ],
         "name": "25.6B",
         "showlegend": true,
         "showscale": false,
         "type": "choropleth",
         "z": [
          1
         ]
        },
        {
         "colorscale": [
          [
           0,
           "#EF553B"
          ],
          [
           1,
           "#EF553B"
          ]
         ],
         "geo": "geo",
         "hovertemplate": "<b>%{hovertext}</b><br><br>Market Cap=137.47B<br>Country=%{location}<extra></extra>",
         "hovertext": [
          "France"
         ],
         "locationmode": "country names",
         "locations": [
          "France"
         ],
         "name": "137.47B",
         "showlegend": true,
         "showscale": false,
         "type": "choropleth",
         "z": [
          1
         ]
        },
        {
         "colorscale": [
          [
           0,
           "#00cc96"
          ],
          [
           1,
           "#00cc96"
          ]
         ],
         "geo": "geo",
         "hovertemplate": "<b>%{hovertext}</b><br><br>Market Cap=271.43B<br>Country=%{location}<extra></extra>",
         "hovertext": [
          "Germany"
         ],
         "locationmode": "country names",
         "locations": [
          "Germany"
         ],
         "name": "271.43B",
         "showlegend": true,
         "showscale": false,
         "type": "choropleth",
         "z": [
          1
         ]
        },
        {
         "colorscale": [
          [
           0,
           "#ab63fa"
          ],
          [
           1,
           "#ab63fa"
          ]
         ],
         "geo": "geo",
         "hovertemplate": "<b>%{hovertext}</b><br><br>Market Cap=148.71B<br>Country=%{location}<extra></extra>",
         "hovertext": [
          "Hong Kong"
         ],
         "locationmode": "country names",
         "locations": [
          "Hong Kong"
         ],
         "name": "148.71B",
         "showlegend": true,
         "showscale": false,
         "type": "choropleth",
         "z": [
          1
         ]
        },
        {
         "colorscale": [
          [
           0,
           "#FFA15A"
          ],
          [
           1,
           "#FFA15A"
          ]
         ],
         "geo": "geo",
         "hovertemplate": "<b>%{hovertext}</b><br><br>Market Cap=108.54B<br>Country=%{location}<extra></extra>",
         "hovertext": [
          "India"
         ],
         "locationmode": "country names",
         "locations": [
          "India"
         ],
         "name": "108.54B",
         "showlegend": true,
         "showscale": false,
         "type": "choropleth",
         "z": [
          1
         ]
        },
        {
         "colorscale": [
          [
           0,
           "#19d3f3"
          ],
          [
           1,
           "#19d3f3"
          ]
         ],
         "geo": "geo",
         "hovertemplate": "<b>%{hovertext}</b><br><br>Market Cap=228.77B<br>Country=%{location}<extra></extra>",
         "hovertext": [
          "Ireland"
         ],
         "locationmode": "country names",
         "locations": [
          "Ireland"
         ],
         "name": "228.77B",
         "showlegend": true,
         "showscale": false,
         "type": "choropleth",
         "z": [
          1
         ]
        },
        {
         "colorscale": [
          [
           0,
           "#FF6692"
          ],
          [
           1,
           "#FF6692"
          ]
         ],
         "geo": "geo",
         "hovertemplate": "<b>%{hovertext}</b><br><br>Market Cap=73.99B<br>Country=%{location}<extra></extra>",
         "hovertext": [
          "Israel"
         ],
         "locationmode": "country names",
         "locations": [
          "Israel"
         ],
         "name": "73.99B",
         "showlegend": true,
         "showscale": false,
         "type": "choropleth",
         "z": [
          1
         ]
        },
        {
         "colorscale": [
          [
           0,
           "#B6E880"
          ],
          [
           1,
           "#B6E880"
          ]
         ],
         "geo": "geo",
         "hovertemplate": "<b>%{hovertext}</b><br><br>Market Cap=21.31B<br>Country=%{location}<extra></extra>",
         "hovertext": [
          "Italy"
         ],
         "locationmode": "country names",
         "locations": [
          "Italy"
         ],
         "name": "21.31B",
         "showlegend": true,
         "showscale": false,
         "type": "choropleth",
         "z": [
          1
         ]
        },
        {
         "colorscale": [
          [
           0,
           "#FF97FF"
          ],
          [
           1,
           "#FF97FF"
          ]
         ],
         "geo": "geo",
         "hovertemplate": "<b>%{hovertext}</b><br><br>Market Cap=842.89B<br>Country=%{location}<extra></extra>",
         "hovertext": [
          "Japan"
         ],
         "locationmode": "country names",
         "locations": [
          "Japan"
         ],
         "name": "842.89B",
         "showlegend": true,
         "showscale": false,
         "type": "choropleth",
         "z": [
          1
         ]
        },
        {
         "colorscale": [
          [
           0,
           "#FECB52"
          ],
          [
           1,
           "#FECB52"
          ]
         ],
         "geo": "geo",
         "hovertemplate": "<b>%{hovertext}</b><br><br>Market Cap=18.64B<br>Country=%{location}<extra></extra>",
         "hovertext": [
          "Kazakhstan"
         ],
         "locationmode": "country names",
         "locations": [
          "Kazakhstan"
         ],
         "name": "18.64B",
         "showlegend": true,
         "showscale": false,
         "type": "choropleth",
         "z": [
          1
         ]
        },
        {
         "colorscale": [
          [
           0,
           "#636efa"
          ],
          [
           1,
           "#636efa"
          ]
         ],
         "geo": "geo",
         "hovertemplate": "<b>%{hovertext}</b><br><br>Market Cap=9.49B<br>Country=%{location}<extra></extra>",
         "hovertext": [
          "Luxembourg"
         ],
         "locationmode": "country names",
         "locations": [
          "Luxembourg"
         ],
         "name": "9.49B",
         "showlegend": true,
         "showscale": false,
         "type": "choropleth",
         "z": [
          1
         ]
        },
        {
         "colorscale": [
          [
           0,
           "#EF553B"
          ],
          [
           1,
           "#EF553B"
          ]
         ],
         "geo": "geo",
         "hovertemplate": "<b>%{hovertext}</b><br><br>Market Cap=1.51B<br>Country=%{location}<extra></extra>",
         "hovertext": [
          "Mauritius"
         ],
         "locationmode": "country names",
         "locations": [
          "Mauritius"
         ],
         "name": "1.51B",
         "showlegend": true,
         "showscale": false,
         "type": "choropleth",
         "z": [
          1
         ]
        },
        {
         "colorscale": [
          [
           0,
           "#00cc96"
          ],
          [
           1,
           "#00cc96"
          ]
         ],
         "geo": "geo",
         "hovertemplate": "<b>%{hovertext}</b><br><br>Market Cap=432.19B<br>Country=%{location}<extra></extra>",
         "hovertext": [
          "Netherlands"
         ],
         "locationmode": "country names",
         "locations": [
          "Netherlands"
         ],
         "name": "432.19B",
         "showlegend": true,
         "showscale": false,
         "type": "choropleth",
         "z": [
          1
         ]
        },
        {
         "colorscale": [
          [
           0,
           "#ab63fa"
          ],
          [
           1,
           "#ab63fa"
          ]
         ],
         "geo": "geo",
         "hovertemplate": "<b>%{hovertext}</b><br><br>Market Cap=12.12B<br>Country=%{location}<extra></extra>",
         "hovertext": [
          "New Zealand"
         ],
         "locationmode": "country names",
         "locations": [
          "New Zealand"
         ],
         "name": "12.12B",
         "showlegend": true,
         "showscale": false,
         "type": "choropleth",
         "z": [
          1
         ]
        },
        {
         "colorscale": [
          [
           0,
           "#FFA15A"
          ],
          [
           1,
           "#FFA15A"
          ]
         ],
         "geo": "geo",
         "hovertemplate": "<b>%{hovertext}</b><br><br>Market Cap=9.58B<br>Country=%{location}<extra></extra>",
         "hovertext": [
          "Norway"
         ],
         "locationmode": "country names",
         "locations": [
          "Norway"
         ],
         "name": "9.58B",
         "showlegend": true,
         "showscale": false,
         "type": "choropleth",
         "z": [
          1
         ]
        },
        {
         "colorscale": [
          [
           0,
           "#19d3f3"
          ],
          [
           1,
           "#19d3f3"
          ]
         ],
         "geo": "geo",
         "hovertemplate": "<b>%{hovertext}</b><br><br>Market Cap=2.18B<br>Country=%{location}<extra></extra>",
         "hovertext": [
          "Poland"
         ],
         "locationmode": "country names",
         "locations": [
          "Poland"
         ],
         "name": "2.18B",
         "showlegend": true,
         "showscale": false,
         "type": "choropleth",
         "z": [
          1
         ]
        },
        {
         "colorscale": [
          [
           0,
           "#FF6692"
          ],
          [
           1,
           "#FF6692"
          ]
         ],
         "geo": "geo",
         "hovertemplate": "<b>%{hovertext}</b><br><br>Market Cap=925.3M<br>Country=%{location}<extra></extra>",
         "hovertext": [
          "Portugal"
         ],
         "locationmode": "country names",
         "locations": [
          "Portugal"
         ],
         "name": "925.3M",
         "showlegend": true,
         "showscale": false,
         "type": "choropleth",
         "z": [
          1
         ]
        },
        {
         "colorscale": [
          [
           0,
           "#B6E880"
          ],
          [
           1,
           "#B6E880"
          ]
         ],
         "geo": "geo",
         "hovertemplate": "<b>%{hovertext}</b><br><br>Market Cap=18.01B<br>Country=%{location}<extra></extra>",
         "hovertext": [
          "Singapore"
         ],
         "locationmode": "country names",
         "locations": [
          "Singapore"
         ],
         "name": "18.01B",
         "showlegend": true,
         "showscale": false,
         "type": "choropleth",
         "z": [
          1
         ]
        },
        {
         "colorscale": [
          [
           0,
           "#FF97FF"
          ],
          [
           1,
           "#FF97FF"
          ]
         ],
         "geo": "geo",
         "hovertemplate": "<b>%{hovertext}</b><br><br>Market Cap=490.98B<br>Country=%{location}<extra></extra>",
         "hovertext": [
          "South Korea"
         ],
         "locationmode": "country names",
         "locations": [
          "South Korea"
         ],
         "name": "490.98B",
         "showlegend": true,
         "showscale": false,
         "type": "choropleth",
         "z": [
          1
         ]
        },
        {
         "colorscale": [
          [
           0,
           "#FECB52"
          ],
          [
           1,
           "#FECB52"
          ]
         ],
         "geo": "geo",
         "hovertemplate": "<b>%{hovertext}</b><br><br>Market Cap=33.87B<br>Country=%{location}<extra></extra>",
         "hovertext": [
          "Spain"
         ],
         "locationmode": "country names",
         "locations": [
          "Spain"
         ],
         "name": "33.87B",
         "showlegend": true,
         "showscale": false,
         "type": "choropleth",
         "z": [
          1
         ]
        },
        {
         "colorscale": [
          [
           0,
           "#636efa"
          ],
          [
           1,
           "#636efa"
          ]
         ],
         "geo": "geo",
         "hovertemplate": "<b>%{hovertext}</b><br><br>Market Cap=67.09B<br>Country=%{location}<extra></extra>",
         "hovertext": [
          "Sweden"
         ],
         "locationmode": "country names",
         "locations": [
          "Sweden"
         ],
         "name": "67.09B",
         "showlegend": true,
         "showscale": false,
         "type": "choropleth",
         "z": [
          1
         ]
        },
        {
         "colorscale": [
          [
           0,
           "#EF553B"
          ],
          [
           1,
           "#EF553B"
          ]
         ],
         "geo": "geo",
         "hovertemplate": "<b>%{hovertext}</b><br><br>Market Cap=144.37B<br>Country=%{location}<extra></extra>",
         "hovertext": [
          "Switzerland"
         ],
         "locationmode": "country names",
         "locations": [
          "Switzerland"
         ],
         "name": "144.37B",
         "showlegend": true,
         "showscale": false,
         "type": "choropleth",
         "z": [
          1
         ]
        },
        {
         "colorscale": [
          [
           0,
           "#00cc96"
          ],
          [
           1,
           "#00cc96"
          ]
         ],
         "geo": "geo",
         "hovertemplate": "<b>%{hovertext}</b><br><br>Market Cap=1.03T<br>Country=%{location}<extra></extra>",
         "hovertext": [
          "Taiwan"
         ],
         "locationmode": "country names",
         "locations": [
          "Taiwan"
         ],
         "name": "1.03T",
         "showlegend": true,
         "showscale": false,
         "type": "choropleth",
         "z": [
          1
         ]
        },
        {
         "colorscale": [
          [
           0,
           "#ab63fa"
          ],
          [
           1,
           "#ab63fa"
          ]
         ],
         "geo": "geo",
         "hovertemplate": "<b>%{hovertext}</b><br><br>Market Cap=4.87B<br>Country=%{location}<extra></extra>",
         "hovertext": [
          "Thailand"
         ],
         "locationmode": "country names",
         "locations": [
          "Thailand"
         ],
         "name": "4.87B",
         "showlegend": true,
         "showscale": false,
         "type": "choropleth",
         "z": [
          1
         ]
        },
        {
         "colorscale": [
          [
           0,
           "#FFA15A"
          ],
          [
           1,
           "#FFA15A"
          ]
         ],
         "geo": "geo",
         "hovertemplate": "<b>%{hovertext}</b><br><br>Market Cap=3.53B<br>Country=%{location}<extra></extra>",
         "hovertext": [
          "Turkey"
         ],
         "locationmode": "country names",
         "locations": [
          "Turkey"
         ],
         "name": "3.53B",
         "showlegend": true,
         "showscale": false,
         "type": "choropleth",
         "z": [
          1
         ]
        },
        {
         "colorscale": [
          [
           0,
           "#19d3f3"
          ],
          [
           1,
           "#19d3f3"
          ]
         ],
         "geo": "geo",
         "hovertemplate": "<b>%{hovertext}</b><br><br>Market Cap=3.57B<br>Country=%{location}<extra></extra>",
         "hovertext": [
          "United Arab Emirates"
         ],
         "locationmode": "country names",
         "locations": [
          "United Arab Emirates"
         ],
         "name": "3.57B",
         "showlegend": true,
         "showscale": false,
         "type": "choropleth",
         "z": [
          1
         ]
        },
        {
         "colorscale": [
          [
           0,
           "#FF6692"
          ],
          [
           1,
           "#FF6692"
          ]
         ],
         "geo": "geo",
         "hovertemplate": "<b>%{hovertext}</b><br><br>Market Cap=54.49B<br>Country=%{location}<extra></extra>",
         "hovertext": [
          "United Kingdom"
         ],
         "locationmode": "country names",
         "locations": [
          "United Kingdom"
         ],
         "name": "54.49B",
         "showlegend": true,
         "showscale": false,
         "type": "choropleth",
         "z": [
          1
         ]
        },
        {
         "colorscale": [
          [
           0,
           "#B6E880"
          ],
          [
           1,
           "#B6E880"
          ]
         ],
         "geo": "geo",
         "hovertemplate": "<b>%{hovertext}</b><br><br>Market Cap=13.26T<br>Country=%{location}<extra></extra>",
         "hovertext": [
          "United States"
         ],
         "locationmode": "country names",
         "locations": [
          "United States"
         ],
         "name": "13.26T",
         "showlegend": true,
         "showscale": false,
         "type": "choropleth",
         "z": [
          1
         ]
        }
       ],
       "layout": {
        "geo": {
         "center": {},
         "domain": {
          "x": [
           0,
           1
          ],
          "y": [
           0,
           1
          ]
         }
        },
        "legend": {
         "title": {
          "text": "Market Cap"
         },
         "tracegroupgap": 0
        },
        "margin": {
         "t": 60
        },
        "template": {
         "data": {
          "bar": [
           {
            "error_x": {
             "color": "#2a3f5f"
            },
            "error_y": {
             "color": "#2a3f5f"
            },
            "marker": {
             "line": {
              "color": "#E5ECF6",
              "width": 0.5
             },
             "pattern": {
              "fillmode": "overlay",
              "size": 10,
              "solidity": 0.2
             }
            },
            "type": "bar"
           }
          ],
          "barpolar": [
           {
            "marker": {
             "line": {
              "color": "#E5ECF6",
              "width": 0.5
             },
             "pattern": {
              "fillmode": "overlay",
              "size": 10,
              "solidity": 0.2
             }
            },
            "type": "barpolar"
           }
          ],
          "carpet": [
           {
            "aaxis": {
             "endlinecolor": "#2a3f5f",
             "gridcolor": "white",
             "linecolor": "white",
             "minorgridcolor": "white",
             "startlinecolor": "#2a3f5f"
            },
            "baxis": {
             "endlinecolor": "#2a3f5f",
             "gridcolor": "white",
             "linecolor": "white",
             "minorgridcolor": "white",
             "startlinecolor": "#2a3f5f"
            },
            "type": "carpet"
           }
          ],
          "choropleth": [
           {
            "colorbar": {
             "outlinewidth": 0,
             "ticks": ""
            },
            "type": "choropleth"
           }
          ],
          "contour": [
           {
            "colorbar": {
             "outlinewidth": 0,
             "ticks": ""
            },
            "colorscale": [
             [
              0,
              "#0d0887"
             ],
             [
              0.1111111111111111,
              "#46039f"
             ],
             [
              0.2222222222222222,
              "#7201a8"
             ],
             [
              0.3333333333333333,
              "#9c179e"
             ],
             [
              0.4444444444444444,
              "#bd3786"
             ],
             [
              0.5555555555555556,
              "#d8576b"
             ],
             [
              0.6666666666666666,
              "#ed7953"
             ],
             [
              0.7777777777777778,
              "#fb9f3a"
             ],
             [
              0.8888888888888888,
              "#fdca26"
             ],
             [
              1,
              "#f0f921"
             ]
            ],
            "type": "contour"
           }
          ],
          "contourcarpet": [
           {
            "colorbar": {
             "outlinewidth": 0,
             "ticks": ""
            },
            "type": "contourcarpet"
           }
          ],
          "heatmap": [
           {
            "colorbar": {
             "outlinewidth": 0,
             "ticks": ""
            },
            "colorscale": [
             [
              0,
              "#0d0887"
             ],
             [
              0.1111111111111111,
              "#46039f"
             ],
             [
              0.2222222222222222,
              "#7201a8"
             ],
             [
              0.3333333333333333,
              "#9c179e"
             ],
             [
              0.4444444444444444,
              "#bd3786"
             ],
             [
              0.5555555555555556,
              "#d8576b"
             ],
             [
              0.6666666666666666,
              "#ed7953"
             ],
             [
              0.7777777777777778,
              "#fb9f3a"
             ],
             [
              0.8888888888888888,
              "#fdca26"
             ],
             [
              1,
              "#f0f921"
             ]
            ],
            "type": "heatmap"
           }
          ],
          "heatmapgl": [
           {
            "colorbar": {
             "outlinewidth": 0,
             "ticks": ""
            },
            "colorscale": [
             [
              0,
              "#0d0887"
             ],
             [
              0.1111111111111111,
              "#46039f"
             ],
             [
              0.2222222222222222,
              "#7201a8"
             ],
             [
              0.3333333333333333,
              "#9c179e"
             ],
             [
              0.4444444444444444,
              "#bd3786"
             ],
             [
              0.5555555555555556,
              "#d8576b"
             ],
             [
              0.6666666666666666,
              "#ed7953"
             ],
             [
              0.7777777777777778,
              "#fb9f3a"
             ],
             [
              0.8888888888888888,
              "#fdca26"
             ],
             [
              1,
              "#f0f921"
             ]
            ],
            "type": "heatmapgl"
           }
          ],
          "histogram": [
           {
            "marker": {
             "pattern": {
              "fillmode": "overlay",
              "size": 10,
              "solidity": 0.2
             }
            },
            "type": "histogram"
           }
          ],
          "histogram2d": [
           {
            "colorbar": {
             "outlinewidth": 0,
             "ticks": ""
            },
            "colorscale": [
             [
              0,
              "#0d0887"
             ],
             [
              0.1111111111111111,
              "#46039f"
             ],
             [
              0.2222222222222222,
              "#7201a8"
             ],
             [
              0.3333333333333333,
              "#9c179e"
             ],
             [
              0.4444444444444444,
              "#bd3786"
             ],
             [
              0.5555555555555556,
              "#d8576b"
             ],
             [
              0.6666666666666666,
              "#ed7953"
             ],
             [
              0.7777777777777778,
              "#fb9f3a"
             ],
             [
              0.8888888888888888,
              "#fdca26"
             ],
             [
              1,
              "#f0f921"
             ]
            ],
            "type": "histogram2d"
           }
          ],
          "histogram2dcontour": [
           {
            "colorbar": {
             "outlinewidth": 0,
             "ticks": ""
            },
            "colorscale": [
             [
              0,
              "#0d0887"
             ],
             [
              0.1111111111111111,
              "#46039f"
             ],
             [
              0.2222222222222222,
              "#7201a8"
             ],
             [
              0.3333333333333333,
              "#9c179e"
             ],
             [
              0.4444444444444444,
              "#bd3786"
             ],
             [
              0.5555555555555556,
              "#d8576b"
             ],
             [
              0.6666666666666666,
              "#ed7953"
             ],
             [
              0.7777777777777778,
              "#fb9f3a"
             ],
             [
              0.8888888888888888,
              "#fdca26"
             ],
             [
              1,
              "#f0f921"
             ]
            ],
            "type": "histogram2dcontour"
           }
          ],
          "mesh3d": [
           {
            "colorbar": {
             "outlinewidth": 0,
             "ticks": ""
            },
            "type": "mesh3d"
           }
          ],
          "parcoords": [
           {
            "line": {
             "colorbar": {
              "outlinewidth": 0,
              "ticks": ""
             }
            },
            "type": "parcoords"
           }
          ],
          "pie": [
           {
            "automargin": true,
            "type": "pie"
           }
          ],
          "scatter": [
           {
            "marker": {
             "colorbar": {
              "outlinewidth": 0,
              "ticks": ""
             }
            },
            "type": "scatter"
           }
          ],
          "scatter3d": [
           {
            "line": {
             "colorbar": {
              "outlinewidth": 0,
              "ticks": ""
             }
            },
            "marker": {
             "colorbar": {
              "outlinewidth": 0,
              "ticks": ""
             }
            },
            "type": "scatter3d"
           }
          ],
          "scattercarpet": [
           {
            "marker": {
             "colorbar": {
              "outlinewidth": 0,
              "ticks": ""
             }
            },
            "type": "scattercarpet"
           }
          ],
          "scattergeo": [
           {
            "marker": {
             "colorbar": {
              "outlinewidth": 0,
              "ticks": ""
             }
            },
            "type": "scattergeo"
           }
          ],
          "scattergl": [
           {
            "marker": {
             "colorbar": {
              "outlinewidth": 0,
              "ticks": ""
             }
            },
            "type": "scattergl"
           }
          ],
          "scattermapbox": [
           {
            "marker": {
             "colorbar": {
              "outlinewidth": 0,
              "ticks": ""
             }
            },
            "type": "scattermapbox"
           }
          ],
          "scatterpolar": [
           {
            "marker": {
             "colorbar": {
              "outlinewidth": 0,
              "ticks": ""
             }
            },
            "type": "scatterpolar"
           }
          ],
          "scatterpolargl": [
           {
            "marker": {
             "colorbar": {
              "outlinewidth": 0,
              "ticks": ""
             }
            },
            "type": "scatterpolargl"
           }
          ],
          "scatterternary": [
           {
            "marker": {
             "colorbar": {
              "outlinewidth": 0,
              "ticks": ""
             }
            },
            "type": "scatterternary"
           }
          ],
          "surface": [
           {
            "colorbar": {
             "outlinewidth": 0,
             "ticks": ""
            },
            "colorscale": [
             [
              0,
              "#0d0887"
             ],
             [
              0.1111111111111111,
              "#46039f"
             ],
             [
              0.2222222222222222,
              "#7201a8"
             ],
             [
              0.3333333333333333,
              "#9c179e"
             ],
             [
              0.4444444444444444,
              "#bd3786"
             ],
             [
              0.5555555555555556,
              "#d8576b"
             ],
             [
              0.6666666666666666,
              "#ed7953"
             ],
             [
              0.7777777777777778,
              "#fb9f3a"
             ],
             [
              0.8888888888888888,
              "#fdca26"
             ],
             [
              1,
              "#f0f921"
             ]
            ],
            "type": "surface"
           }
          ],
          "table": [
           {
            "cells": {
             "fill": {
              "color": "#EBF0F8"
             },
             "line": {
              "color": "white"
             }
            },
            "header": {
             "fill": {
              "color": "#C8D4E3"
             },
             "line": {
              "color": "white"
             }
            },
            "type": "table"
           }
          ]
         },
         "layout": {
          "annotationdefaults": {
           "arrowcolor": "#2a3f5f",
           "arrowhead": 0,
           "arrowwidth": 1
          },
          "autotypenumbers": "strict",
          "coloraxis": {
           "colorbar": {
            "outlinewidth": 0,
            "ticks": ""
           }
          },
          "colorscale": {
           "diverging": [
            [
             0,
             "#8e0152"
            ],
            [
             0.1,
             "#c51b7d"
            ],
            [
             0.2,
             "#de77ae"
            ],
            [
             0.3,
             "#f1b6da"
            ],
            [
             0.4,
             "#fde0ef"
            ],
            [
             0.5,
             "#f7f7f7"
            ],
            [
             0.6,
             "#e6f5d0"
            ],
            [
             0.7,
             "#b8e186"
            ],
            [
             0.8,
             "#7fbc41"
            ],
            [
             0.9,
             "#4d9221"
            ],
            [
             1,
             "#276419"
            ]
           ],
           "sequential": [
            [
             0,
             "#0d0887"
            ],
            [
             0.1111111111111111,
             "#46039f"
            ],
            [
             0.2222222222222222,
             "#7201a8"
            ],
            [
             0.3333333333333333,
             "#9c179e"
            ],
            [
             0.4444444444444444,
             "#bd3786"
            ],
            [
             0.5555555555555556,
             "#d8576b"
            ],
            [
             0.6666666666666666,
             "#ed7953"
            ],
            [
             0.7777777777777778,
             "#fb9f3a"
            ],
            [
             0.8888888888888888,
             "#fdca26"
            ],
            [
             1,
             "#f0f921"
            ]
           ],
           "sequentialminus": [
            [
             0,
             "#0d0887"
            ],
            [
             0.1111111111111111,
             "#46039f"
            ],
            [
             0.2222222222222222,
             "#7201a8"
            ],
            [
             0.3333333333333333,
             "#9c179e"
            ],
            [
             0.4444444444444444,
             "#bd3786"
            ],
            [
             0.5555555555555556,
             "#d8576b"
            ],
            [
             0.6666666666666666,
             "#ed7953"
            ],
            [
             0.7777777777777778,
             "#fb9f3a"
            ],
            [
             0.8888888888888888,
             "#fdca26"
            ],
            [
             1,
             "#f0f921"
            ]
           ]
          },
          "colorway": [
           "#636efa",
           "#EF553B",
           "#00cc96",
           "#ab63fa",
           "#FFA15A",
           "#19d3f3",
           "#FF6692",
           "#B6E880",
           "#FF97FF",
           "#FECB52"
          ],
          "font": {
           "color": "#2a3f5f"
          },
          "geo": {
           "bgcolor": "white",
           "lakecolor": "white",
           "landcolor": "#E5ECF6",
           "showlakes": true,
           "showland": true,
           "subunitcolor": "white"
          },
          "hoverlabel": {
           "align": "left"
          },
          "hovermode": "closest",
          "mapbox": {
           "style": "light"
          },
          "paper_bgcolor": "white",
          "plot_bgcolor": "#E5ECF6",
          "polar": {
           "angularaxis": {
            "gridcolor": "white",
            "linecolor": "white",
            "ticks": ""
           },
           "bgcolor": "#E5ECF6",
           "radialaxis": {
            "gridcolor": "white",
            "linecolor": "white",
            "ticks": ""
           }
          },
          "scene": {
           "xaxis": {
            "backgroundcolor": "#E5ECF6",
            "gridcolor": "white",
            "gridwidth": 2,
            "linecolor": "white",
            "showbackground": true,
            "ticks": "",
            "zerolinecolor": "white"
           },
           "yaxis": {
            "backgroundcolor": "#E5ECF6",
            "gridcolor": "white",
            "gridwidth": 2,
            "linecolor": "white",
            "showbackground": true,
            "ticks": "",
            "zerolinecolor": "white"
           },
           "zaxis": {
            "backgroundcolor": "#E5ECF6",
            "gridcolor": "white",
            "gridwidth": 2,
            "linecolor": "white",
            "showbackground": true,
            "ticks": "",
            "zerolinecolor": "white"
           }
          },
          "shapedefaults": {
           "line": {
            "color": "#2a3f5f"
           }
          },
          "ternary": {
           "aaxis": {
            "gridcolor": "white",
            "linecolor": "white",
            "ticks": ""
           },
           "baxis": {
            "gridcolor": "white",
            "linecolor": "white",
            "ticks": ""
           },
           "bgcolor": "#E5ECF6",
           "caxis": {
            "gridcolor": "white",
            "linecolor": "white",
            "ticks": ""
           }
          },
          "title": {
           "x": 0.05
          },
          "xaxis": {
           "automargin": true,
           "gridcolor": "white",
           "linecolor": "white",
           "ticks": "",
           "title": {
            "standoff": 15
           },
           "zerolinecolor": "white",
           "zerolinewidth": 2
          },
          "yaxis": {
           "automargin": true,
           "gridcolor": "white",
           "linecolor": "white",
           "ticks": "",
           "title": {
            "standoff": 15
           },
           "zerolinecolor": "white",
           "zerolinewidth": 2
          }
         }
        },
        "title": {
         "text": "Market Cap by Country",
         "x": 0.5
        }
       }
      },
      "text/html": [
       "<div>                            <div id=\"31c7f38a-8604-480c-b6f4-4d50e4738507\" class=\"plotly-graph-div\" style=\"height:525px; width:100%;\"></div>            <script type=\"text/javascript\">                require([\"plotly\"], function(Plotly) {                    window.PLOTLYENV=window.PLOTLYENV || {};                                    if (document.getElementById(\"31c7f38a-8604-480c-b6f4-4d50e4738507\")) {                    Plotly.newPlot(                        \"31c7f38a-8604-480c-b6f4-4d50e4738507\",                        [{\"colorscale\":[[0.0,\"#636efa\"],[1.0,\"#636efa\"]],\"geo\":\"geo\",\"hovertemplate\":\"<b>%{hovertext}</b><br><br>Market Cap=97.9B<br>Country=%{location}<extra></extra>\",\"hovertext\":[\"Australia\"],\"locationmode\":\"country names\",\"locations\":[\"Australia\"],\"name\":\"97.9B\",\"showlegend\":true,\"showscale\":false,\"z\":[1],\"type\":\"choropleth\"},{\"colorscale\":[[0.0,\"#EF553B\"],[1.0,\"#EF553B\"]],\"geo\":\"geo\",\"hovertemplate\":\"<b>%{hovertext}</b><br><br>Market Cap=2.23B<br>Country=%{location}<extra></extra>\",\"hovertext\":[\"Austria\"],\"locationmode\":\"country names\",\"locations\":[\"Austria\"],\"name\":\"2.23B\",\"showlegend\":true,\"showscale\":false,\"z\":[1],\"type\":\"choropleth\"},{\"colorscale\":[[0.0,\"#00cc96\"],[1.0,\"#00cc96\"]],\"geo\":\"geo\",\"hovertemplate\":\"<b>%{hovertext}</b><br><br>Market Cap=7.88B<br>Country=%{location}<extra></extra>\",\"hovertext\":[\"Belgium\"],\"locationmode\":\"country names\",\"locations\":[\"Belgium\"],\"name\":\"7.88B\",\"showlegend\":true,\"showscale\":false,\"z\":[1],\"type\":\"choropleth\"},{\"colorscale\":[[0.0,\"#ab63fa\"],[1.0,\"#ab63fa\"]],\"geo\":\"geo\",\"hovertemplate\":\"<b>%{hovertext}</b><br><br>Market Cap=56.38B<br>Country=%{location}<extra></extra>\",\"hovertext\":[\"Bermuda\"],\"locationmode\":\"country names\",\"locations\":[\"Bermuda\"],\"name\":\"56.38B\",\"showlegend\":true,\"showscale\":false,\"z\":[1],\"type\":\"choropleth\"},{\"colorscale\":[[0.0,\"#FFA15A\"],[1.0,\"#FFA15A\"]],\"geo\":\"geo\",\"hovertemplate\":\"<b>%{hovertext}</b><br><br>Market Cap=13.51B<br>Country=%{location}<extra></extra>\",\"hovertext\":[\"Brazil\"],\"locationmode\":\"country names\",\"locations\":[\"Brazil\"],\"name\":\"13.51B\",\"showlegend\":true,\"showscale\":false,\"z\":[1],\"type\":\"choropleth\"},{\"colorscale\":[[0.0,\"#19d3f3\"],[1.0,\"#19d3f3\"]],\"geo\":\"geo\",\"hovertemplate\":\"<b>%{hovertext}</b><br><br>Market Cap=224.57B<br>Country=%{location}<extra></extra>\",\"hovertext\":[\"Canada\"],\"locationmode\":\"country names\",\"locations\":[\"Canada\"],\"name\":\"224.57B\",\"showlegend\":true,\"showscale\":false,\"z\":[1],\"type\":\"choropleth\"},{\"colorscale\":[[0.0,\"#FF6692\"],[1.0,\"#FF6692\"]],\"geo\":\"geo\",\"hovertemplate\":\"<b>%{hovertext}</b><br><br>Market Cap=18.24B<br>Country=%{location}<extra></extra>\",\"hovertext\":[\"Cayman Islands\"],\"locationmode\":\"country names\",\"locations\":[\"Cayman Islands\"],\"name\":\"18.24B\",\"showlegend\":true,\"showscale\":false,\"z\":[1],\"type\":\"choropleth\"},{\"colorscale\":[[0.0,\"#B6E880\"],[1.0,\"#B6E880\"]],\"geo\":\"geo\",\"hovertemplate\":\"<b>%{hovertext}</b><br><br>Market Cap=863.73B<br>Country=%{location}<extra></extra>\",\"hovertext\":[\"China\"],\"locationmode\":\"country names\",\"locations\":[\"China\"],\"name\":\"863.73B\",\"showlegend\":true,\"showscale\":false,\"z\":[1],\"type\":\"choropleth\"},{\"colorscale\":[[0.0,\"#FF97FF\"],[1.0,\"#FF97FF\"]],\"geo\":\"geo\",\"hovertemplate\":\"<b>%{hovertext}</b><br><br>Market Cap=8.72B<br>Country=%{location}<extra></extra>\",\"hovertext\":[\"Czechia\"],\"locationmode\":\"country names\",\"locations\":[\"Czechia\"],\"name\":\"8.72B\",\"showlegend\":true,\"showscale\":false,\"z\":[1],\"type\":\"choropleth\"},{\"colorscale\":[[0.0,\"#FECB52\"],[1.0,\"#FECB52\"]],\"geo\":\"geo\",\"hovertemplate\":\"<b>%{hovertext}</b><br><br>Market Cap=8.14B<br>Country=%{location}<extra></extra>\",\"hovertext\":[\"Denmark\"],\"locationmode\":\"country names\",\"locations\":[\"Denmark\"],\"name\":\"8.14B\",\"showlegend\":true,\"showscale\":false,\"z\":[1],\"type\":\"choropleth\"},{\"colorscale\":[[0.0,\"#636efa\"],[1.0,\"#636efa\"]],\"geo\":\"geo\",\"hovertemplate\":\"<b>%{hovertext}</b><br><br>Market Cap=25.6B<br>Country=%{location}<extra></extra>\",\"hovertext\":[\"Finland\"],\"locationmode\":\"country names\",\"locations\":[\"Finland\"],\"name\":\"25.6B\",\"showlegend\":true,\"showscale\":false,\"z\":[1],\"type\":\"choropleth\"},{\"colorscale\":[[0.0,\"#EF553B\"],[1.0,\"#EF553B\"]],\"geo\":\"geo\",\"hovertemplate\":\"<b>%{hovertext}</b><br><br>Market Cap=137.47B<br>Country=%{location}<extra></extra>\",\"hovertext\":[\"France\"],\"locationmode\":\"country names\",\"locations\":[\"France\"],\"name\":\"137.47B\",\"showlegend\":true,\"showscale\":false,\"z\":[1],\"type\":\"choropleth\"},{\"colorscale\":[[0.0,\"#00cc96\"],[1.0,\"#00cc96\"]],\"geo\":\"geo\",\"hovertemplate\":\"<b>%{hovertext}</b><br><br>Market Cap=271.43B<br>Country=%{location}<extra></extra>\",\"hovertext\":[\"Germany\"],\"locationmode\":\"country names\",\"locations\":[\"Germany\"],\"name\":\"271.43B\",\"showlegend\":true,\"showscale\":false,\"z\":[1],\"type\":\"choropleth\"},{\"colorscale\":[[0.0,\"#ab63fa\"],[1.0,\"#ab63fa\"]],\"geo\":\"geo\",\"hovertemplate\":\"<b>%{hovertext}</b><br><br>Market Cap=148.71B<br>Country=%{location}<extra></extra>\",\"hovertext\":[\"Hong Kong\"],\"locationmode\":\"country names\",\"locations\":[\"Hong Kong\"],\"name\":\"148.71B\",\"showlegend\":true,\"showscale\":false,\"z\":[1],\"type\":\"choropleth\"},{\"colorscale\":[[0.0,\"#FFA15A\"],[1.0,\"#FFA15A\"]],\"geo\":\"geo\",\"hovertemplate\":\"<b>%{hovertext}</b><br><br>Market Cap=108.54B<br>Country=%{location}<extra></extra>\",\"hovertext\":[\"India\"],\"locationmode\":\"country names\",\"locations\":[\"India\"],\"name\":\"108.54B\",\"showlegend\":true,\"showscale\":false,\"z\":[1],\"type\":\"choropleth\"},{\"colorscale\":[[0.0,\"#19d3f3\"],[1.0,\"#19d3f3\"]],\"geo\":\"geo\",\"hovertemplate\":\"<b>%{hovertext}</b><br><br>Market Cap=228.77B<br>Country=%{location}<extra></extra>\",\"hovertext\":[\"Ireland\"],\"locationmode\":\"country names\",\"locations\":[\"Ireland\"],\"name\":\"228.77B\",\"showlegend\":true,\"showscale\":false,\"z\":[1],\"type\":\"choropleth\"},{\"colorscale\":[[0.0,\"#FF6692\"],[1.0,\"#FF6692\"]],\"geo\":\"geo\",\"hovertemplate\":\"<b>%{hovertext}</b><br><br>Market Cap=73.99B<br>Country=%{location}<extra></extra>\",\"hovertext\":[\"Israel\"],\"locationmode\":\"country names\",\"locations\":[\"Israel\"],\"name\":\"73.99B\",\"showlegend\":true,\"showscale\":false,\"z\":[1],\"type\":\"choropleth\"},{\"colorscale\":[[0.0,\"#B6E880\"],[1.0,\"#B6E880\"]],\"geo\":\"geo\",\"hovertemplate\":\"<b>%{hovertext}</b><br><br>Market Cap=21.31B<br>Country=%{location}<extra></extra>\",\"hovertext\":[\"Italy\"],\"locationmode\":\"country names\",\"locations\":[\"Italy\"],\"name\":\"21.31B\",\"showlegend\":true,\"showscale\":false,\"z\":[1],\"type\":\"choropleth\"},{\"colorscale\":[[0.0,\"#FF97FF\"],[1.0,\"#FF97FF\"]],\"geo\":\"geo\",\"hovertemplate\":\"<b>%{hovertext}</b><br><br>Market Cap=842.89B<br>Country=%{location}<extra></extra>\",\"hovertext\":[\"Japan\"],\"locationmode\":\"country names\",\"locations\":[\"Japan\"],\"name\":\"842.89B\",\"showlegend\":true,\"showscale\":false,\"z\":[1],\"type\":\"choropleth\"},{\"colorscale\":[[0.0,\"#FECB52\"],[1.0,\"#FECB52\"]],\"geo\":\"geo\",\"hovertemplate\":\"<b>%{hovertext}</b><br><br>Market Cap=18.64B<br>Country=%{location}<extra></extra>\",\"hovertext\":[\"Kazakhstan\"],\"locationmode\":\"country names\",\"locations\":[\"Kazakhstan\"],\"name\":\"18.64B\",\"showlegend\":true,\"showscale\":false,\"z\":[1],\"type\":\"choropleth\"},{\"colorscale\":[[0.0,\"#636efa\"],[1.0,\"#636efa\"]],\"geo\":\"geo\",\"hovertemplate\":\"<b>%{hovertext}</b><br><br>Market Cap=9.49B<br>Country=%{location}<extra></extra>\",\"hovertext\":[\"Luxembourg\"],\"locationmode\":\"country names\",\"locations\":[\"Luxembourg\"],\"name\":\"9.49B\",\"showlegend\":true,\"showscale\":false,\"z\":[1],\"type\":\"choropleth\"},{\"colorscale\":[[0.0,\"#EF553B\"],[1.0,\"#EF553B\"]],\"geo\":\"geo\",\"hovertemplate\":\"<b>%{hovertext}</b><br><br>Market Cap=1.51B<br>Country=%{location}<extra></extra>\",\"hovertext\":[\"Mauritius\"],\"locationmode\":\"country names\",\"locations\":[\"Mauritius\"],\"name\":\"1.51B\",\"showlegend\":true,\"showscale\":false,\"z\":[1],\"type\":\"choropleth\"},{\"colorscale\":[[0.0,\"#00cc96\"],[1.0,\"#00cc96\"]],\"geo\":\"geo\",\"hovertemplate\":\"<b>%{hovertext}</b><br><br>Market Cap=432.19B<br>Country=%{location}<extra></extra>\",\"hovertext\":[\"Netherlands\"],\"locationmode\":\"country names\",\"locations\":[\"Netherlands\"],\"name\":\"432.19B\",\"showlegend\":true,\"showscale\":false,\"z\":[1],\"type\":\"choropleth\"},{\"colorscale\":[[0.0,\"#ab63fa\"],[1.0,\"#ab63fa\"]],\"geo\":\"geo\",\"hovertemplate\":\"<b>%{hovertext}</b><br><br>Market Cap=12.12B<br>Country=%{location}<extra></extra>\",\"hovertext\":[\"New Zealand\"],\"locationmode\":\"country names\",\"locations\":[\"New Zealand\"],\"name\":\"12.12B\",\"showlegend\":true,\"showscale\":false,\"z\":[1],\"type\":\"choropleth\"},{\"colorscale\":[[0.0,\"#FFA15A\"],[1.0,\"#FFA15A\"]],\"geo\":\"geo\",\"hovertemplate\":\"<b>%{hovertext}</b><br><br>Market Cap=9.58B<br>Country=%{location}<extra></extra>\",\"hovertext\":[\"Norway\"],\"locationmode\":\"country names\",\"locations\":[\"Norway\"],\"name\":\"9.58B\",\"showlegend\":true,\"showscale\":false,\"z\":[1],\"type\":\"choropleth\"},{\"colorscale\":[[0.0,\"#19d3f3\"],[1.0,\"#19d3f3\"]],\"geo\":\"geo\",\"hovertemplate\":\"<b>%{hovertext}</b><br><br>Market Cap=2.18B<br>Country=%{location}<extra></extra>\",\"hovertext\":[\"Poland\"],\"locationmode\":\"country names\",\"locations\":[\"Poland\"],\"name\":\"2.18B\",\"showlegend\":true,\"showscale\":false,\"z\":[1],\"type\":\"choropleth\"},{\"colorscale\":[[0.0,\"#FF6692\"],[1.0,\"#FF6692\"]],\"geo\":\"geo\",\"hovertemplate\":\"<b>%{hovertext}</b><br><br>Market Cap=925.3M<br>Country=%{location}<extra></extra>\",\"hovertext\":[\"Portugal\"],\"locationmode\":\"country names\",\"locations\":[\"Portugal\"],\"name\":\"925.3M\",\"showlegend\":true,\"showscale\":false,\"z\":[1],\"type\":\"choropleth\"},{\"colorscale\":[[0.0,\"#B6E880\"],[1.0,\"#B6E880\"]],\"geo\":\"geo\",\"hovertemplate\":\"<b>%{hovertext}</b><br><br>Market Cap=18.01B<br>Country=%{location}<extra></extra>\",\"hovertext\":[\"Singapore\"],\"locationmode\":\"country names\",\"locations\":[\"Singapore\"],\"name\":\"18.01B\",\"showlegend\":true,\"showscale\":false,\"z\":[1],\"type\":\"choropleth\"},{\"colorscale\":[[0.0,\"#FF97FF\"],[1.0,\"#FF97FF\"]],\"geo\":\"geo\",\"hovertemplate\":\"<b>%{hovertext}</b><br><br>Market Cap=490.98B<br>Country=%{location}<extra></extra>\",\"hovertext\":[\"South Korea\"],\"locationmode\":\"country names\",\"locations\":[\"South Korea\"],\"name\":\"490.98B\",\"showlegend\":true,\"showscale\":false,\"z\":[1],\"type\":\"choropleth\"},{\"colorscale\":[[0.0,\"#FECB52\"],[1.0,\"#FECB52\"]],\"geo\":\"geo\",\"hovertemplate\":\"<b>%{hovertext}</b><br><br>Market Cap=33.87B<br>Country=%{location}<extra></extra>\",\"hovertext\":[\"Spain\"],\"locationmode\":\"country names\",\"locations\":[\"Spain\"],\"name\":\"33.87B\",\"showlegend\":true,\"showscale\":false,\"z\":[1],\"type\":\"choropleth\"},{\"colorscale\":[[0.0,\"#636efa\"],[1.0,\"#636efa\"]],\"geo\":\"geo\",\"hovertemplate\":\"<b>%{hovertext}</b><br><br>Market Cap=67.09B<br>Country=%{location}<extra></extra>\",\"hovertext\":[\"Sweden\"],\"locationmode\":\"country names\",\"locations\":[\"Sweden\"],\"name\":\"67.09B\",\"showlegend\":true,\"showscale\":false,\"z\":[1],\"type\":\"choropleth\"},{\"colorscale\":[[0.0,\"#EF553B\"],[1.0,\"#EF553B\"]],\"geo\":\"geo\",\"hovertemplate\":\"<b>%{hovertext}</b><br><br>Market Cap=144.37B<br>Country=%{location}<extra></extra>\",\"hovertext\":[\"Switzerland\"],\"locationmode\":\"country names\",\"locations\":[\"Switzerland\"],\"name\":\"144.37B\",\"showlegend\":true,\"showscale\":false,\"z\":[1],\"type\":\"choropleth\"},{\"colorscale\":[[0.0,\"#00cc96\"],[1.0,\"#00cc96\"]],\"geo\":\"geo\",\"hovertemplate\":\"<b>%{hovertext}</b><br><br>Market Cap=1.03T<br>Country=%{location}<extra></extra>\",\"hovertext\":[\"Taiwan\"],\"locationmode\":\"country names\",\"locations\":[\"Taiwan\"],\"name\":\"1.03T\",\"showlegend\":true,\"showscale\":false,\"z\":[1],\"type\":\"choropleth\"},{\"colorscale\":[[0.0,\"#ab63fa\"],[1.0,\"#ab63fa\"]],\"geo\":\"geo\",\"hovertemplate\":\"<b>%{hovertext}</b><br><br>Market Cap=4.87B<br>Country=%{location}<extra></extra>\",\"hovertext\":[\"Thailand\"],\"locationmode\":\"country names\",\"locations\":[\"Thailand\"],\"name\":\"4.87B\",\"showlegend\":true,\"showscale\":false,\"z\":[1],\"type\":\"choropleth\"},{\"colorscale\":[[0.0,\"#FFA15A\"],[1.0,\"#FFA15A\"]],\"geo\":\"geo\",\"hovertemplate\":\"<b>%{hovertext}</b><br><br>Market Cap=3.53B<br>Country=%{location}<extra></extra>\",\"hovertext\":[\"Turkey\"],\"locationmode\":\"country names\",\"locations\":[\"Turkey\"],\"name\":\"3.53B\",\"showlegend\":true,\"showscale\":false,\"z\":[1],\"type\":\"choropleth\"},{\"colorscale\":[[0.0,\"#19d3f3\"],[1.0,\"#19d3f3\"]],\"geo\":\"geo\",\"hovertemplate\":\"<b>%{hovertext}</b><br><br>Market Cap=3.57B<br>Country=%{location}<extra></extra>\",\"hovertext\":[\"United Arab Emirates\"],\"locationmode\":\"country names\",\"locations\":[\"United Arab Emirates\"],\"name\":\"3.57B\",\"showlegend\":true,\"showscale\":false,\"z\":[1],\"type\":\"choropleth\"},{\"colorscale\":[[0.0,\"#FF6692\"],[1.0,\"#FF6692\"]],\"geo\":\"geo\",\"hovertemplate\":\"<b>%{hovertext}</b><br><br>Market Cap=54.49B<br>Country=%{location}<extra></extra>\",\"hovertext\":[\"United Kingdom\"],\"locationmode\":\"country names\",\"locations\":[\"United Kingdom\"],\"name\":\"54.49B\",\"showlegend\":true,\"showscale\":false,\"z\":[1],\"type\":\"choropleth\"},{\"colorscale\":[[0.0,\"#B6E880\"],[1.0,\"#B6E880\"]],\"geo\":\"geo\",\"hovertemplate\":\"<b>%{hovertext}</b><br><br>Market Cap=13.26T<br>Country=%{location}<extra></extra>\",\"hovertext\":[\"United States\"],\"locationmode\":\"country names\",\"locations\":[\"United States\"],\"name\":\"13.26T\",\"showlegend\":true,\"showscale\":false,\"z\":[1],\"type\":\"choropleth\"}],                        {\"template\":{\"data\":{\"bar\":[{\"error_x\":{\"color\":\"#2a3f5f\"},\"error_y\":{\"color\":\"#2a3f5f\"},\"marker\":{\"line\":{\"color\":\"#E5ECF6\",\"width\":0.5},\"pattern\":{\"fillmode\":\"overlay\",\"size\":10,\"solidity\":0.2}},\"type\":\"bar\"}],\"barpolar\":[{\"marker\":{\"line\":{\"color\":\"#E5ECF6\",\"width\":0.5},\"pattern\":{\"fillmode\":\"overlay\",\"size\":10,\"solidity\":0.2}},\"type\":\"barpolar\"}],\"carpet\":[{\"aaxis\":{\"endlinecolor\":\"#2a3f5f\",\"gridcolor\":\"white\",\"linecolor\":\"white\",\"minorgridcolor\":\"white\",\"startlinecolor\":\"#2a3f5f\"},\"baxis\":{\"endlinecolor\":\"#2a3f5f\",\"gridcolor\":\"white\",\"linecolor\":\"white\",\"minorgridcolor\":\"white\",\"startlinecolor\":\"#2a3f5f\"},\"type\":\"carpet\"}],\"choropleth\":[{\"colorbar\":{\"outlinewidth\":0,\"ticks\":\"\"},\"type\":\"choropleth\"}],\"contour\":[{\"colorbar\":{\"outlinewidth\":0,\"ticks\":\"\"},\"colorscale\":[[0.0,\"#0d0887\"],[0.1111111111111111,\"#46039f\"],[0.2222222222222222,\"#7201a8\"],[0.3333333333333333,\"#9c179e\"],[0.4444444444444444,\"#bd3786\"],[0.5555555555555556,\"#d8576b\"],[0.6666666666666666,\"#ed7953\"],[0.7777777777777778,\"#fb9f3a\"],[0.8888888888888888,\"#fdca26\"],[1.0,\"#f0f921\"]],\"type\":\"contour\"}],\"contourcarpet\":[{\"colorbar\":{\"outlinewidth\":0,\"ticks\":\"\"},\"type\":\"contourcarpet\"}],\"heatmap\":[{\"colorbar\":{\"outlinewidth\":0,\"ticks\":\"\"},\"colorscale\":[[0.0,\"#0d0887\"],[0.1111111111111111,\"#46039f\"],[0.2222222222222222,\"#7201a8\"],[0.3333333333333333,\"#9c179e\"],[0.4444444444444444,\"#bd3786\"],[0.5555555555555556,\"#d8576b\"],[0.6666666666666666,\"#ed7953\"],[0.7777777777777778,\"#fb9f3a\"],[0.8888888888888888,\"#fdca26\"],[1.0,\"#f0f921\"]],\"type\":\"heatmap\"}],\"heatmapgl\":[{\"colorbar\":{\"outlinewidth\":0,\"ticks\":\"\"},\"colorscale\":[[0.0,\"#0d0887\"],[0.1111111111111111,\"#46039f\"],[0.2222222222222222,\"#7201a8\"],[0.3333333333333333,\"#9c179e\"],[0.4444444444444444,\"#bd3786\"],[0.5555555555555556,\"#d8576b\"],[0.6666666666666666,\"#ed7953\"],[0.7777777777777778,\"#fb9f3a\"],[0.8888888888888888,\"#fdca26\"],[1.0,\"#f0f921\"]],\"type\":\"heatmapgl\"}],\"histogram\":[{\"marker\":{\"pattern\":{\"fillmode\":\"overlay\",\"size\":10,\"solidity\":0.2}},\"type\":\"histogram\"}],\"histogram2d\":[{\"colorbar\":{\"outlinewidth\":0,\"ticks\":\"\"},\"colorscale\":[[0.0,\"#0d0887\"],[0.1111111111111111,\"#46039f\"],[0.2222222222222222,\"#7201a8\"],[0.3333333333333333,\"#9c179e\"],[0.4444444444444444,\"#bd3786\"],[0.5555555555555556,\"#d8576b\"],[0.6666666666666666,\"#ed7953\"],[0.7777777777777778,\"#fb9f3a\"],[0.8888888888888888,\"#fdca26\"],[1.0,\"#f0f921\"]],\"type\":\"histogram2d\"}],\"histogram2dcontour\":[{\"colorbar\":{\"outlinewidth\":0,\"ticks\":\"\"},\"colorscale\":[[0.0,\"#0d0887\"],[0.1111111111111111,\"#46039f\"],[0.2222222222222222,\"#7201a8\"],[0.3333333333333333,\"#9c179e\"],[0.4444444444444444,\"#bd3786\"],[0.5555555555555556,\"#d8576b\"],[0.6666666666666666,\"#ed7953\"],[0.7777777777777778,\"#fb9f3a\"],[0.8888888888888888,\"#fdca26\"],[1.0,\"#f0f921\"]],\"type\":\"histogram2dcontour\"}],\"mesh3d\":[{\"colorbar\":{\"outlinewidth\":0,\"ticks\":\"\"},\"type\":\"mesh3d\"}],\"parcoords\":[{\"line\":{\"colorbar\":{\"outlinewidth\":0,\"ticks\":\"\"}},\"type\":\"parcoords\"}],\"pie\":[{\"automargin\":true,\"type\":\"pie\"}],\"scatter\":[{\"marker\":{\"colorbar\":{\"outlinewidth\":0,\"ticks\":\"\"}},\"type\":\"scatter\"}],\"scatter3d\":[{\"line\":{\"colorbar\":{\"outlinewidth\":0,\"ticks\":\"\"}},\"marker\":{\"colorbar\":{\"outlinewidth\":0,\"ticks\":\"\"}},\"type\":\"scatter3d\"}],\"scattercarpet\":[{\"marker\":{\"colorbar\":{\"outlinewidth\":0,\"ticks\":\"\"}},\"type\":\"scattercarpet\"}],\"scattergeo\":[{\"marker\":{\"colorbar\":{\"outlinewidth\":0,\"ticks\":\"\"}},\"type\":\"scattergeo\"}],\"scattergl\":[{\"marker\":{\"colorbar\":{\"outlinewidth\":0,\"ticks\":\"\"}},\"type\":\"scattergl\"}],\"scattermapbox\":[{\"marker\":{\"colorbar\":{\"outlinewidth\":0,\"ticks\":\"\"}},\"type\":\"scattermapbox\"}],\"scatterpolar\":[{\"marker\":{\"colorbar\":{\"outlinewidth\":0,\"ticks\":\"\"}},\"type\":\"scatterpolar\"}],\"scatterpolargl\":[{\"marker\":{\"colorbar\":{\"outlinewidth\":0,\"ticks\":\"\"}},\"type\":\"scatterpolargl\"}],\"scatterternary\":[{\"marker\":{\"colorbar\":{\"outlinewidth\":0,\"ticks\":\"\"}},\"type\":\"scatterternary\"}],\"surface\":[{\"colorbar\":{\"outlinewidth\":0,\"ticks\":\"\"},\"colorscale\":[[0.0,\"#0d0887\"],[0.1111111111111111,\"#46039f\"],[0.2222222222222222,\"#7201a8\"],[0.3333333333333333,\"#9c179e\"],[0.4444444444444444,\"#bd3786\"],[0.5555555555555556,\"#d8576b\"],[0.6666666666666666,\"#ed7953\"],[0.7777777777777778,\"#fb9f3a\"],[0.8888888888888888,\"#fdca26\"],[1.0,\"#f0f921\"]],\"type\":\"surface\"}],\"table\":[{\"cells\":{\"fill\":{\"color\":\"#EBF0F8\"},\"line\":{\"color\":\"white\"}},\"header\":{\"fill\":{\"color\":\"#C8D4E3\"},\"line\":{\"color\":\"white\"}},\"type\":\"table\"}]},\"layout\":{\"annotationdefaults\":{\"arrowcolor\":\"#2a3f5f\",\"arrowhead\":0,\"arrowwidth\":1},\"autotypenumbers\":\"strict\",\"coloraxis\":{\"colorbar\":{\"outlinewidth\":0,\"ticks\":\"\"}},\"colorscale\":{\"diverging\":[[0,\"#8e0152\"],[0.1,\"#c51b7d\"],[0.2,\"#de77ae\"],[0.3,\"#f1b6da\"],[0.4,\"#fde0ef\"],[0.5,\"#f7f7f7\"],[0.6,\"#e6f5d0\"],[0.7,\"#b8e186\"],[0.8,\"#7fbc41\"],[0.9,\"#4d9221\"],[1,\"#276419\"]],\"sequential\":[[0.0,\"#0d0887\"],[0.1111111111111111,\"#46039f\"],[0.2222222222222222,\"#7201a8\"],[0.3333333333333333,\"#9c179e\"],[0.4444444444444444,\"#bd3786\"],[0.5555555555555556,\"#d8576b\"],[0.6666666666666666,\"#ed7953\"],[0.7777777777777778,\"#fb9f3a\"],[0.8888888888888888,\"#fdca26\"],[1.0,\"#f0f921\"]],\"sequentialminus\":[[0.0,\"#0d0887\"],[0.1111111111111111,\"#46039f\"],[0.2222222222222222,\"#7201a8\"],[0.3333333333333333,\"#9c179e\"],[0.4444444444444444,\"#bd3786\"],[0.5555555555555556,\"#d8576b\"],[0.6666666666666666,\"#ed7953\"],[0.7777777777777778,\"#fb9f3a\"],[0.8888888888888888,\"#fdca26\"],[1.0,\"#f0f921\"]]},\"colorway\":[\"#636efa\",\"#EF553B\",\"#00cc96\",\"#ab63fa\",\"#FFA15A\",\"#19d3f3\",\"#FF6692\",\"#B6E880\",\"#FF97FF\",\"#FECB52\"],\"font\":{\"color\":\"#2a3f5f\"},\"geo\":{\"bgcolor\":\"white\",\"lakecolor\":\"white\",\"landcolor\":\"#E5ECF6\",\"showlakes\":true,\"showland\":true,\"subunitcolor\":\"white\"},\"hoverlabel\":{\"align\":\"left\"},\"hovermode\":\"closest\",\"mapbox\":{\"style\":\"light\"},\"paper_bgcolor\":\"white\",\"plot_bgcolor\":\"#E5ECF6\",\"polar\":{\"angularaxis\":{\"gridcolor\":\"white\",\"linecolor\":\"white\",\"ticks\":\"\"},\"bgcolor\":\"#E5ECF6\",\"radialaxis\":{\"gridcolor\":\"white\",\"linecolor\":\"white\",\"ticks\":\"\"}},\"scene\":{\"xaxis\":{\"backgroundcolor\":\"#E5ECF6\",\"gridcolor\":\"white\",\"gridwidth\":2,\"linecolor\":\"white\",\"showbackground\":true,\"ticks\":\"\",\"zerolinecolor\":\"white\"},\"yaxis\":{\"backgroundcolor\":\"#E5ECF6\",\"gridcolor\":\"white\",\"gridwidth\":2,\"linecolor\":\"white\",\"showbackground\":true,\"ticks\":\"\",\"zerolinecolor\":\"white\"},\"zaxis\":{\"backgroundcolor\":\"#E5ECF6\",\"gridcolor\":\"white\",\"gridwidth\":2,\"linecolor\":\"white\",\"showbackground\":true,\"ticks\":\"\",\"zerolinecolor\":\"white\"}},\"shapedefaults\":{\"line\":{\"color\":\"#2a3f5f\"}},\"ternary\":{\"aaxis\":{\"gridcolor\":\"white\",\"linecolor\":\"white\",\"ticks\":\"\"},\"baxis\":{\"gridcolor\":\"white\",\"linecolor\":\"white\",\"ticks\":\"\"},\"bgcolor\":\"#E5ECF6\",\"caxis\":{\"gridcolor\":\"white\",\"linecolor\":\"white\",\"ticks\":\"\"}},\"title\":{\"x\":0.05},\"xaxis\":{\"automargin\":true,\"gridcolor\":\"white\",\"linecolor\":\"white\",\"ticks\":\"\",\"title\":{\"standoff\":15},\"zerolinecolor\":\"white\",\"zerolinewidth\":2},\"yaxis\":{\"automargin\":true,\"gridcolor\":\"white\",\"linecolor\":\"white\",\"ticks\":\"\",\"title\":{\"standoff\":15},\"zerolinecolor\":\"white\",\"zerolinewidth\":2}}},\"geo\":{\"domain\":{\"x\":[0.0,1.0],\"y\":[0.0,1.0]},\"center\":{}},\"legend\":{\"title\":{\"text\":\"Market Cap\"},\"tracegroupgap\":0},\"margin\":{\"t\":60},\"title\":{\"text\":\"Market Cap by Country\",\"x\":0.5}},                        {\"responsive\": true}                    ).then(function(){\n",
       "                            \n",
       "var gd = document.getElementById('31c7f38a-8604-480c-b6f4-4d50e4738507');\n",
       "var x = new MutationObserver(function (mutations, observer) {{\n",
       "        var display = window.getComputedStyle(gd).display;\n",
       "        if (!display || display === 'none') {{\n",
       "            console.log([gd, 'removed!']);\n",
       "            Plotly.purge(gd);\n",
       "            observer.disconnect();\n",
       "        }}\n",
       "}});\n",
       "\n",
       "// Listen for the removal of the full notebook cells\n",
       "var notebookContainer = gd.closest('#notebook-container');\n",
       "if (notebookContainer) {{\n",
       "    x.observe(notebookContainer, {childList: true});\n",
       "}}\n",
       "\n",
       "// Listen for the clearing of the current output cell\n",
       "var outputEl = gd.closest('.output');\n",
       "if (outputEl) {{\n",
       "    x.observe(outputEl, {childList: true});\n",
       "}}\n",
       "\n",
       "                        })                };                });            </script>        </div>"
      ]
     },
     "metadata": {},
     "output_type": "display_data"
    }
   ],
   "source": [
    "import plotly.express as px\n",
    "\n",
    "country_grouped = data.groupby('Country')['Market Cap'].sum().reset_index()\n",
    "\n",
    "country_grouped['Market Cap'] = country_grouped['Market Cap'].apply(numerize.numerize)\n",
    "fig = px.choropleth(country_grouped, locations='Country', locationmode='country names',\n",
    "                    color='Market Cap', hover_name='Country', \n",
    "                    color_continuous_scale=px.colors.sequential.Viridis)\n",
    "\n",
    "fig.update_layout(title='Market Cap by Country', title_x=0.5)\n",
    "fig.show()"
   ]
  },
  {
   "cell_type": "code",
   "execution_count": null,
   "id": "70b75f10",
   "metadata": {},
   "outputs": [],
   "source": []
  },
  {
   "cell_type": "code",
   "execution_count": null,
   "id": "88c9220e",
   "metadata": {},
   "outputs": [],
   "source": []
  },
  {
   "cell_type": "markdown",
   "id": "d135b427",
   "metadata": {},
   "source": [
    "# Industries per Country with Market Cap"
   ]
  },
  {
   "cell_type": "code",
   "execution_count": 173,
   "id": "99409fee",
   "metadata": {},
   "outputs": [
    {
     "data": {
      "text/plain": [
       "<Figure size 1080x360 with 0 Axes>"
      ]
     },
     "metadata": {},
     "output_type": "display_data"
    },
    {
     "data": {
      "image/png": "[encoded data removed]",
      "text/plain": [
       "<Figure size 864x576 with 1 Axes>"
      ]
     },
     "metadata": {
      "needs_background": "light"
     },
     "output_type": "display_data"
    }
   ],
   "source": [
    "country_grouped = data.groupby(['Country', 'Industry'])['Market Cap'].sum().unstack()\n",
    "\n",
    "\n",
    "plt.figure(figsize=(15, 5))\n",
    "country_grouped.plot(kind='bar', stacked=True, figsize=(12, 8), colormap='viridis')\n",
    "\n",
    "plt.title('Industries by Country with Market Cap', fontsize=16)\n",
    "plt.xlabel('Country', fontsize=12)\n",
    "plt.ylabel('Total Market Cap', fontsize=12)\n",
    "plt.xticks(rotation=80)\n",
    "plt.legend(title='Industry', bbox_to_anchor=(1.05, 1), loc='upper left')\n",
    "\n",
    "plt.tight_layout()\n",
    "plt.show()\n",
    "\n",
    "\n",
    "\n"
   ]
  },
  {
   "cell_type": "code",
   "execution_count": null,
   "id": "17f0c55d",
   "metadata": {},
   "outputs": [],
   "source": []
  },
  {
   "cell_type": "raw",
   "id": "878e15d7",
   "metadata": {},
   "source": [
    "#Industries per Country with Market Cap"
   ]
  },
  {
   "cell_type": "code",
   "execution_count": 174,
   "id": "2c0ce8ca",
   "metadata": {},
   "outputs": [
    {
     "data": {
      "text/html": [
       "<div>\n",
       "<style scoped>\n",
       "    .dataframe tbody tr th:only-of-type {\n",
       "        vertical-align: middle;\n",
       "    }\n",
       "\n",
       "    .dataframe tbody tr th {\n",
       "        vertical-align: top;\n",
       "    }\n",
       "\n",
       "    .dataframe thead th {\n",
       "        text-align: right;\n",
       "    }\n",
       "</style>\n",
       "<table border=\"1\" class=\"dataframe\">\n",
       "  <thead>\n",
       "    <tr style=\"text-align: right;\">\n",
       "      <th>Country</th>\n",
       "      <th>Australia</th>\n",
       "      <th>Austria</th>\n",
       "      <th>Belgium</th>\n",
       "      <th>Bermuda</th>\n",
       "      <th>Brazil</th>\n",
       "      <th>Canada</th>\n",
       "      <th>Cayman Islands</th>\n",
       "      <th>China</th>\n",
       "      <th>Czechia</th>\n",
       "      <th>Denmark</th>\n",
       "      <th>...</th>\n",
       "      <th>Spain</th>\n",
       "      <th>Sweden</th>\n",
       "      <th>Switzerland</th>\n",
       "      <th>Taiwan</th>\n",
       "      <th>Thailand</th>\n",
       "      <th>Turkey</th>\n",
       "      <th>United Arab Emirates</th>\n",
       "      <th>United Kingdom</th>\n",
       "      <th>United States</th>\n",
       "      <th>All</th>\n",
       "    </tr>\n",
       "    <tr>\n",
       "      <th>Industry</th>\n",
       "      <th></th>\n",
       "      <th></th>\n",
       "      <th></th>\n",
       "      <th></th>\n",
       "      <th></th>\n",
       "      <th></th>\n",
       "      <th></th>\n",
       "      <th></th>\n",
       "      <th></th>\n",
       "      <th></th>\n",
       "      <th></th>\n",
       "      <th></th>\n",
       "      <th></th>\n",
       "      <th></th>\n",
       "      <th></th>\n",
       "      <th></th>\n",
       "      <th></th>\n",
       "      <th></th>\n",
       "      <th></th>\n",
       "      <th></th>\n",
       "      <th></th>\n",
       "    </tr>\n",
       "  </thead>\n",
       "  <tbody>\n",
       "    <tr>\n",
       "      <th>Communication Equipment</th>\n",
       "      <td>0</td>\n",
       "      <td>0</td>\n",
       "      <td>0</td>\n",
       "      <td>0</td>\n",
       "      <td>1.41B</td>\n",
       "      <td>1.19B</td>\n",
       "      <td>0</td>\n",
       "      <td>146.84B</td>\n",
       "      <td>0</td>\n",
       "      <td>0</td>\n",
       "      <td>...</td>\n",
       "      <td>0</td>\n",
       "      <td>24.09B</td>\n",
       "      <td>1.46B</td>\n",
       "      <td>13.61B</td>\n",
       "      <td>0</td>\n",
       "      <td>0</td>\n",
       "      <td>0</td>\n",
       "      <td>0</td>\n",
       "      <td>345.63B</td>\n",
       "      <td>560.24B</td>\n",
       "    </tr>\n",
       "    <tr>\n",
       "      <th>Computer Hardware</th>\n",
       "      <td>0</td>\n",
       "      <td>1.16B</td>\n",
       "      <td>0</td>\n",
       "      <td>0</td>\n",
       "      <td>0</td>\n",
       "      <td>0</td>\n",
       "      <td>0</td>\n",
       "      <td>24.41B</td>\n",
       "      <td>0</td>\n",
       "      <td>0</td>\n",
       "      <td>...</td>\n",
       "      <td>0</td>\n",
       "      <td>0</td>\n",
       "      <td>14.57B</td>\n",
       "      <td>138.99B</td>\n",
       "      <td>0</td>\n",
       "      <td>0</td>\n",
       "      <td>0</td>\n",
       "      <td>0</td>\n",
       "      <td>224.1B</td>\n",
       "      <td>471.51B</td>\n",
       "    </tr>\n",
       "    <tr>\n",
       "      <th>Consumer Electronics</th>\n",
       "      <td>0</td>\n",
       "      <td>0</td>\n",
       "      <td>0</td>\n",
       "      <td>0</td>\n",
       "      <td>1.38B</td>\n",
       "      <td>0</td>\n",
       "      <td>0</td>\n",
       "      <td>69.64B</td>\n",
       "      <td>0</td>\n",
       "      <td>0</td>\n",
       "      <td>...</td>\n",
       "      <td>0</td>\n",
       "      <td>2.8B</td>\n",
       "      <td>0</td>\n",
       "      <td>946.9M</td>\n",
       "      <td>0</td>\n",
       "      <td>3.53B</td>\n",
       "      <td>0</td>\n",
       "      <td>0</td>\n",
       "      <td>2.88T</td>\n",
       "      <td>3.54T</td>\n",
       "    </tr>\n",
       "    <tr>\n",
       "      <th>Electronic Components</th>\n",
       "      <td>921M</td>\n",
       "      <td>1.07B</td>\n",
       "      <td>1.57B</td>\n",
       "      <td>0</td>\n",
       "      <td>0</td>\n",
       "      <td>3.35B</td>\n",
       "      <td>6.7B</td>\n",
       "      <td>110.05B</td>\n",
       "      <td>0</td>\n",
       "      <td>0</td>\n",
       "      <td>...</td>\n",
       "      <td>0</td>\n",
       "      <td>4.15B</td>\n",
       "      <td>42.62B</td>\n",
       "      <td>152.99B</td>\n",
       "      <td>3.08B</td>\n",
       "      <td>0</td>\n",
       "      <td>0</td>\n",
       "      <td>956.2M</td>\n",
       "      <td>121.26B</td>\n",
       "      <td>588.64B</td>\n",
       "    </tr>\n",
       "    <tr>\n",
       "      <th>Electronics &amp; Computer Distribution</th>\n",
       "      <td>1.42B</td>\n",
       "      <td>0</td>\n",
       "      <td>0</td>\n",
       "      <td>0</td>\n",
       "      <td>0</td>\n",
       "      <td>0</td>\n",
       "      <td>0</td>\n",
       "      <td>909.1M</td>\n",
       "      <td>0</td>\n",
       "      <td>0</td>\n",
       "      <td>...</td>\n",
       "      <td>0</td>\n",
       "      <td>0</td>\n",
       "      <td>0</td>\n",
       "      <td>4.45B</td>\n",
       "      <td>1.79B</td>\n",
       "      <td>0</td>\n",
       "      <td>0</td>\n",
       "      <td>0</td>\n",
       "      <td>13.31B</td>\n",
       "      <td>32.04B</td>\n",
       "    </tr>\n",
       "    <tr>\n",
       "      <th>Information Technology Services</th>\n",
       "      <td>15.73B</td>\n",
       "      <td>0</td>\n",
       "      <td>1.19B</td>\n",
       "      <td>6.18B</td>\n",
       "      <td>2.71B</td>\n",
       "      <td>27.46B</td>\n",
       "      <td>0</td>\n",
       "      <td>36.26B</td>\n",
       "      <td>0</td>\n",
       "      <td>1.62B</td>\n",
       "      <td>...</td>\n",
       "      <td>33.87B</td>\n",
       "      <td>3.88B</td>\n",
       "      <td>4.54B</td>\n",
       "      <td>973.7M</td>\n",
       "      <td>0</td>\n",
       "      <td>0</td>\n",
       "      <td>2.65B</td>\n",
       "      <td>7.52B</td>\n",
       "      <td>560.98B</td>\n",
       "      <td>1.36T</td>\n",
       "    </tr>\n",
       "    <tr>\n",
       "      <th>Scientific &amp; Technical Instruments</th>\n",
       "      <td>1.01B</td>\n",
       "      <td>0</td>\n",
       "      <td>0</td>\n",
       "      <td>0</td>\n",
       "      <td>0</td>\n",
       "      <td>0</td>\n",
       "      <td>0</td>\n",
       "      <td>26.58B</td>\n",
       "      <td>0</td>\n",
       "      <td>968.3M</td>\n",
       "      <td>...</td>\n",
       "      <td>0</td>\n",
       "      <td>32.17B</td>\n",
       "      <td>30.9B</td>\n",
       "      <td>2.98B</td>\n",
       "      <td>0</td>\n",
       "      <td>0</td>\n",
       "      <td>0</td>\n",
       "      <td>8.21B</td>\n",
       "      <td>131.97B</td>\n",
       "      <td>382.55B</td>\n",
       "    </tr>\n",
       "    <tr>\n",
       "      <th>Semiconductor Equipment &amp; Materials</th>\n",
       "      <td>0</td>\n",
       "      <td>0</td>\n",
       "      <td>0</td>\n",
       "      <td>0</td>\n",
       "      <td>0</td>\n",
       "      <td>0</td>\n",
       "      <td>0</td>\n",
       "      <td>101.78B</td>\n",
       "      <td>0</td>\n",
       "      <td>0</td>\n",
       "      <td>...</td>\n",
       "      <td>0</td>\n",
       "      <td>0</td>\n",
       "      <td>0</td>\n",
       "      <td>20.53B</td>\n",
       "      <td>0</td>\n",
       "      <td>0</td>\n",
       "      <td>0</td>\n",
       "      <td>1.69B</td>\n",
       "      <td>367.97B</td>\n",
       "      <td>965.52B</td>\n",
       "    </tr>\n",
       "    <tr>\n",
       "      <th>Semiconductors</th>\n",
       "      <td>0</td>\n",
       "      <td>0</td>\n",
       "      <td>5.12B</td>\n",
       "      <td>50.2B</td>\n",
       "      <td>0</td>\n",
       "      <td>0</td>\n",
       "      <td>6.18B</td>\n",
       "      <td>157.73B</td>\n",
       "      <td>0</td>\n",
       "      <td>0</td>\n",
       "      <td>...</td>\n",
       "      <td>0</td>\n",
       "      <td>0</td>\n",
       "      <td>40.87B</td>\n",
       "      <td>692.25B</td>\n",
       "      <td>0</td>\n",
       "      <td>0</td>\n",
       "      <td>0</td>\n",
       "      <td>1.08B</td>\n",
       "      <td>2.9T</td>\n",
       "      <td>4.1T</td>\n",
       "    </tr>\n",
       "    <tr>\n",
       "      <th>Software—Application</th>\n",
       "      <td>77.88B</td>\n",
       "      <td>0</td>\n",
       "      <td>0</td>\n",
       "      <td>0</td>\n",
       "      <td>3.99B</td>\n",
       "      <td>180.95B</td>\n",
       "      <td>5.36B</td>\n",
       "      <td>132.57B</td>\n",
       "      <td>0</td>\n",
       "      <td>5.55B</td>\n",
       "      <td>...</td>\n",
       "      <td>0</td>\n",
       "      <td>0</td>\n",
       "      <td>9.41B</td>\n",
       "      <td>0</td>\n",
       "      <td>0</td>\n",
       "      <td>0</td>\n",
       "      <td>915.6M</td>\n",
       "      <td>22.08B</td>\n",
       "      <td>1.58T</td>\n",
       "      <td>2.38T</td>\n",
       "    </tr>\n",
       "    <tr>\n",
       "      <th>Software—Infrastructure</th>\n",
       "      <td>945M</td>\n",
       "      <td>0</td>\n",
       "      <td>0</td>\n",
       "      <td>0</td>\n",
       "      <td>4.02B</td>\n",
       "      <td>10.08B</td>\n",
       "      <td>0</td>\n",
       "      <td>31.39B</td>\n",
       "      <td>8.72B</td>\n",
       "      <td>0</td>\n",
       "      <td>...</td>\n",
       "      <td>0</td>\n",
       "      <td>0</td>\n",
       "      <td>0</td>\n",
       "      <td>0</td>\n",
       "      <td>0</td>\n",
       "      <td>0</td>\n",
       "      <td>0</td>\n",
       "      <td>12.96B</td>\n",
       "      <td>4.1T</td>\n",
       "      <td>4.3T</td>\n",
       "    </tr>\n",
       "    <tr>\n",
       "      <th>Solar</th>\n",
       "      <td>0</td>\n",
       "      <td>0</td>\n",
       "      <td>0</td>\n",
       "      <td>0</td>\n",
       "      <td>0</td>\n",
       "      <td>1.54B</td>\n",
       "      <td>0</td>\n",
       "      <td>25.57B</td>\n",
       "      <td>0</td>\n",
       "      <td>0</td>\n",
       "      <td>...</td>\n",
       "      <td>0</td>\n",
       "      <td>0</td>\n",
       "      <td>0</td>\n",
       "      <td>0</td>\n",
       "      <td>0</td>\n",
       "      <td>0</td>\n",
       "      <td>0</td>\n",
       "      <td>0</td>\n",
       "      <td>42.93B</td>\n",
       "      <td>81.88B</td>\n",
       "    </tr>\n",
       "    <tr>\n",
       "      <th>Total</th>\n",
       "      <td>97.9B</td>\n",
       "      <td>2.23B</td>\n",
       "      <td>7.88B</td>\n",
       "      <td>56.38B</td>\n",
       "      <td>13.51B</td>\n",
       "      <td>224.57B</td>\n",
       "      <td>18.24B</td>\n",
       "      <td>863.73B</td>\n",
       "      <td>8.72B</td>\n",
       "      <td>8.14B</td>\n",
       "      <td>...</td>\n",
       "      <td>33.87B</td>\n",
       "      <td>67.09B</td>\n",
       "      <td>144.37B</td>\n",
       "      <td>1.03T</td>\n",
       "      <td>4.87B</td>\n",
       "      <td>3.53B</td>\n",
       "      <td>3.57B</td>\n",
       "      <td>54.49B</td>\n",
       "      <td>13.26T</td>\n",
       "      <td>18.76T</td>\n",
       "    </tr>\n",
       "  </tbody>\n",
       "</table>\n",
       "<p>13 rows × 39 columns</p>\n",
       "</div>"
      ],
      "text/plain": [
       "Country                             Australia Austria Belgium Bermuda  Brazil  \\\n",
       "Industry                                                                        \n",
       "Communication Equipment                     0       0       0       0   1.41B   \n",
       "Computer Hardware                           0   1.16B       0       0       0   \n",
       "Consumer Electronics                        0       0       0       0   1.38B   \n",
       "Electronic Components                    921M   1.07B   1.57B       0       0   \n",
       "Electronics & Computer Distribution     1.42B       0       0       0       0   \n",
       "Information Technology Services        15.73B       0   1.19B   6.18B   2.71B   \n",
       "Scientific & Technical Instruments      1.01B       0       0       0       0   \n",
       "Semiconductor Equipment & Materials         0       0       0       0       0   \n",
       "Semiconductors                              0       0   5.12B   50.2B       0   \n",
       "Software—Application                   77.88B       0       0       0   3.99B   \n",
       "Software—Infrastructure                  945M       0       0       0   4.02B   \n",
       "Solar                                       0       0       0       0       0   \n",
       "Total                                   97.9B   2.23B   7.88B  56.38B  13.51B   \n",
       "\n",
       "Country                               Canada Cayman Islands    China Czechia  \\\n",
       "Industry                                                                       \n",
       "Communication Equipment                1.19B              0  146.84B       0   \n",
       "Computer Hardware                          0              0   24.41B       0   \n",
       "Consumer Electronics                       0              0   69.64B       0   \n",
       "Electronic Components                  3.35B           6.7B  110.05B       0   \n",
       "Electronics & Computer Distribution        0              0   909.1M       0   \n",
       "Information Technology Services       27.46B              0   36.26B       0   \n",
       "Scientific & Technical Instruments         0              0   26.58B       0   \n",
       "Semiconductor Equipment & Materials        0              0  101.78B       0   \n",
       "Semiconductors                             0          6.18B  157.73B       0   \n",
       "Software—Application                 180.95B          5.36B  132.57B       0   \n",
       "Software—Infrastructure               10.08B              0   31.39B   8.72B   \n",
       "Solar                                  1.54B              0   25.57B       0   \n",
       "Total                                224.57B         18.24B  863.73B   8.72B   \n",
       "\n",
       "Country                             Denmark  ...   Spain  Sweden Switzerland  \\\n",
       "Industry                                     ...                               \n",
       "Communication Equipment                   0  ...       0  24.09B       1.46B   \n",
       "Computer Hardware                         0  ...       0       0      14.57B   \n",
       "Consumer Electronics                      0  ...       0    2.8B           0   \n",
       "Electronic Components                     0  ...       0   4.15B      42.62B   \n",
       "Electronics & Computer Distribution       0  ...       0       0           0   \n",
       "Information Technology Services       1.62B  ...  33.87B   3.88B       4.54B   \n",
       "Scientific & Technical Instruments   968.3M  ...       0  32.17B       30.9B   \n",
       "Semiconductor Equipment & Materials       0  ...       0       0           0   \n",
       "Semiconductors                            0  ...       0       0      40.87B   \n",
       "Software—Application                  5.55B  ...       0       0       9.41B   \n",
       "Software—Infrastructure                   0  ...       0       0           0   \n",
       "Solar                                     0  ...       0       0           0   \n",
       "Total                                 8.14B  ...  33.87B  67.09B     144.37B   \n",
       "\n",
       "Country                               Taiwan Thailand Turkey  \\\n",
       "Industry                                                       \n",
       "Communication Equipment               13.61B        0      0   \n",
       "Computer Hardware                    138.99B        0      0   \n",
       "Consumer Electronics                  946.9M        0  3.53B   \n",
       "Electronic Components                152.99B    3.08B      0   \n",
       "Electronics & Computer Distribution    4.45B    1.79B      0   \n",
       "Information Technology Services       973.7M        0      0   \n",
       "Scientific & Technical Instruments     2.98B        0      0   \n",
       "Semiconductor Equipment & Materials   20.53B        0      0   \n",
       "Semiconductors                       692.25B        0      0   \n",
       "Software—Application                       0        0      0   \n",
       "Software—Infrastructure                    0        0      0   \n",
       "Solar                                      0        0      0   \n",
       "Total                                  1.03T    4.87B  3.53B   \n",
       "\n",
       "Country                             United Arab Emirates United Kingdom  \\\n",
       "Industry                                                                  \n",
       "Communication Equipment                                0              0   \n",
       "Computer Hardware                                      0              0   \n",
       "Consumer Electronics                                   0              0   \n",
       "Electronic Components                                  0         956.2M   \n",
       "Electronics & Computer Distribution                    0              0   \n",
       "Information Technology Services                    2.65B          7.52B   \n",
       "Scientific & Technical Instruments                     0          8.21B   \n",
       "Semiconductor Equipment & Materials                    0          1.69B   \n",
       "Semiconductors                                         0          1.08B   \n",
       "Software—Application                              915.6M         22.08B   \n",
       "Software—Infrastructure                                0         12.96B   \n",
       "Solar                                                  0              0   \n",
       "Total                                              3.57B         54.49B   \n",
       "\n",
       "Country                             United States      All  \n",
       "Industry                                                    \n",
       "Communication Equipment                   345.63B  560.24B  \n",
       "Computer Hardware                          224.1B  471.51B  \n",
       "Consumer Electronics                        2.88T    3.54T  \n",
       "Electronic Components                     121.26B  588.64B  \n",
       "Electronics & Computer Distribution        13.31B   32.04B  \n",
       "Information Technology Services           560.98B    1.36T  \n",
       "Scientific & Technical Instruments        131.97B  382.55B  \n",
       "Semiconductor Equipment & Materials       367.97B  965.52B  \n",
       "Semiconductors                               2.9T     4.1T  \n",
       "Software—Application                        1.58T    2.38T  \n",
       "Software—Infrastructure                      4.1T     4.3T  \n",
       "Solar                                      42.93B   81.88B  \n",
       "Total                                      13.26T   18.76T  \n",
       "\n",
       "[13 rows x 39 columns]"
      ]
     },
     "metadata": {},
     "output_type": "display_data"
    }
   ],
   "source": [
    "\n",
    "pivot_table = data.pivot_table(values='Market Cap', index='Industry', columns='Country', aggfunc='sum',  margins=True)\n",
    "pivot_table = pivot_table.applymap(lambda x: numerize.numerize(x) if x > 0 else '0')\n",
    "pivot_table.index = pivot_table.index.map(lambda x: 'Total' if x == 'All' else x)\n",
    "pivot_table = pivot_table.fillna(0)\n",
    "\n",
    "display(pivot_table)\n"
   ]
  },
  {
   "cell_type": "markdown",
   "id": "9d2be077",
   "metadata": {},
   "source": [
    "# MarketCap percentage per Industry"
   ]
  },
  {
   "cell_type": "code",
   "execution_count": 175,
   "id": "81846ea1",
   "metadata": {},
   "outputs": [
    {
     "data": {
      "application/vnd.plotly.v1+json": {
       "config": {
        "plotlyServerURL": "https://plot.ly"
       },
       "data": [
        {
         "hole": 0.4,
         "hoverinfo": "label+percent+value",
         "labels": [
          "Communication Equipment",
          "Computer Hardware",
          "Consumer Electronics",
          "Electronic Components",
          "Electronics & Computer Distribution",
          "Information Technology Services",
          "Scientific & Technical Instruments",
          "Semiconductor Equipment & Materials",
          "Semiconductors",
          "Software—Application",
          "Software—Infrastructure",
          "Solar"
         ],
         "textfont": {
          "size": 14
         },
         "textinfo": "percent",
         "type": "pie",
         "values": [
          560242900000,
          471509900000,
          3541308000000,
          588636500000,
          32037800000,
          1358427600000,
          382550400000,
          965516100000,
          4102249500000,
          2375396900000,
          4299151000000,
          81881100000
         ]
        }
       ],
       "layout": {
        "annotations": [
         {
          "font": {
           "size": 20
          },
          "showarrow": false,
          "text": "Market Cap",
          "x": 0.5,
          "y": 0.5
         }
        ],
        "template": {
         "data": {
          "bar": [
           {
            "error_x": {
             "color": "#2a3f5f"
            },
            "error_y": {
             "color": "#2a3f5f"
            },
            "marker": {
             "line": {
              "color": "#E5ECF6",
              "width": 0.5
             },
             "pattern": {
              "fillmode": "overlay",
              "size": 10,
              "solidity": 0.2
             }
            },
            "type": "bar"
           }
          ],
          "barpolar": [
           {
            "marker": {
             "line": {
              "color": "#E5ECF6",
              "width": 0.5
             },
             "pattern": {
              "fillmode": "overlay",
              "size": 10,
              "solidity": 0.2
             }
            },
            "type": "barpolar"
           }
          ],
          "carpet": [
           {
            "aaxis": {
             "endlinecolor": "#2a3f5f",
             "gridcolor": "white",
             "linecolor": "white",
             "minorgridcolor": "white",
             "startlinecolor": "#2a3f5f"
            },
            "baxis": {
             "endlinecolor": "#2a3f5f",
             "gridcolor": "white",
             "linecolor": "white",
             "minorgridcolor": "white",
             "startlinecolor": "#2a3f5f"
            },
            "type": "carpet"
           }
          ],
          "choropleth": [
           {
            "colorbar": {
             "outlinewidth": 0,
             "ticks": ""
            },
            "type": "choropleth"
           }
          ],
          "contour": [
           {
            "colorbar": {
             "outlinewidth": 0,
             "ticks": ""
            },
            "colorscale": [
             [
              0,
              "#0d0887"
             ],
             [
              0.1111111111111111,
              "#46039f"
             ],
             [
              0.2222222222222222,
              "#7201a8"
             ],
             [
              0.3333333333333333,
              "#9c179e"
             ],
             [
              0.4444444444444444,
              "#bd3786"
             ],
             [
              0.5555555555555556,
              "#d8576b"
             ],
             [
              0.6666666666666666,
              "#ed7953"
             ],
             [
              0.7777777777777778,
              "#fb9f3a"
             ],
             [
              0.8888888888888888,
              "#fdca26"
             ],
             [
              1,
              "#f0f921"
             ]
            ],
            "type": "contour"
           }
          ],
          "contourcarpet": [
           {
            "colorbar": {
             "outlinewidth": 0,
             "ticks": ""
            },
            "type": "contourcarpet"
           }
          ],
          "heatmap": [
           {
            "colorbar": {
             "outlinewidth": 0,
             "ticks": ""
            },
            "colorscale": [
             [
              0,
              "#0d0887"
             ],
             [
              0.1111111111111111,
              "#46039f"
             ],
             [
              0.2222222222222222,
              "#7201a8"
             ],
             [
              0.3333333333333333,
              "#9c179e"
             ],
             [
              0.4444444444444444,
              "#bd3786"
             ],
             [
              0.5555555555555556,
              "#d8576b"
             ],
             [
              0.6666666666666666,
              "#ed7953"
             ],
             [
              0.7777777777777778,
              "#fb9f3a"
             ],
             [
              0.8888888888888888,
              "#fdca26"
             ],
             [
              1,
              "#f0f921"
             ]
            ],
            "type": "heatmap"
           }
          ],
          "heatmapgl": [
           {
            "colorbar": {
             "outlinewidth": 0,
             "ticks": ""
            },
            "colorscale": [
             [
              0,
              "#0d0887"
             ],
             [
              0.1111111111111111,
              "#46039f"
             ],
             [
              0.2222222222222222,
              "#7201a8"
             ],
             [
              0.3333333333333333,
              "#9c179e"
             ],
             [
              0.4444444444444444,
              "#bd3786"
             ],
             [
              0.5555555555555556,
              "#d8576b"
             ],
             [
              0.6666666666666666,
              "#ed7953"
             ],
             [
              0.7777777777777778,
              "#fb9f3a"
             ],
             [
              0.8888888888888888,
              "#fdca26"
             ],
             [
              1,
              "#f0f921"
             ]
            ],
            "type": "heatmapgl"
           }
          ],
          "histogram": [
           {
            "marker": {
             "pattern": {
              "fillmode": "overlay",
              "size": 10,
              "solidity": 0.2
             }
            },
            "type": "histogram"
           }
          ],
          "histogram2d": [
           {
            "colorbar": {
             "outlinewidth": 0,
             "ticks": ""
            },
            "colorscale": [
             [
              0,
              "#0d0887"
             ],
             [
              0.1111111111111111,
              "#46039f"
             ],
             [
              0.2222222222222222,
              "#7201a8"
             ],
             [
              0.3333333333333333,
              "#9c179e"
             ],
             [
              0.4444444444444444,
              "#bd3786"
             ],
             [
              0.5555555555555556,
              "#d8576b"
             ],
             [
              0.6666666666666666,
              "#ed7953"
             ],
             [
              0.7777777777777778,
              "#fb9f3a"
             ],
             [
              0.8888888888888888,
              "#fdca26"
             ],
             [
              1,
              "#f0f921"
             ]
            ],
            "type": "histogram2d"
           }
          ],
          "histogram2dcontour": [
           {
            "colorbar": {
             "outlinewidth": 0,
             "ticks": ""
            },
            "colorscale": [
             [
              0,
              "#0d0887"
             ],
             [
              0.1111111111111111,
              "#46039f"
             ],
             [
              0.2222222222222222,
              "#7201a8"
             ],
             [
              0.3333333333333333,
              "#9c179e"
             ],
             [
              0.4444444444444444,
              "#bd3786"
             ],
             [
              0.5555555555555556,
              "#d8576b"
             ],
             [
              0.6666666666666666,
              "#ed7953"
             ],
             [
              0.7777777777777778,
              "#fb9f3a"
             ],
             [
              0.8888888888888888,
              "#fdca26"
             ],
             [
              1,
              "#f0f921"
             ]
            ],
            "type": "histogram2dcontour"
           }
          ],
          "mesh3d": [
           {
            "colorbar": {
             "outlinewidth": 0,
             "ticks": ""
            },
            "type": "mesh3d"
           }
          ],
          "parcoords": [
           {
            "line": {
             "colorbar": {
              "outlinewidth": 0,
              "ticks": ""
             }
            },
            "type": "parcoords"
           }
          ],
          "pie": [
           {
            "automargin": true,
            "type": "pie"
           }
          ],
          "scatter": [
           {
            "marker": {
             "colorbar": {
              "outlinewidth": 0,
              "ticks": ""
             }
            },
            "type": "scatter"
           }
          ],
          "scatter3d": [
           {
            "line": {
             "colorbar": {
              "outlinewidth": 0,
              "ticks": ""
             }
            },
            "marker": {
             "colorbar": {
              "outlinewidth": 0,
              "ticks": ""
             }
            },
            "type": "scatter3d"
           }
          ],
          "scattercarpet": [
           {
            "marker": {
             "colorbar": {
              "outlinewidth": 0,
              "ticks": ""
             }
            },
            "type": "scattercarpet"
           }
          ],
          "scattergeo": [
           {
            "marker": {
             "colorbar": {
              "outlinewidth": 0,
              "ticks": ""
             }
            },
            "type": "scattergeo"
           }
          ],
          "scattergl": [
           {
            "marker": {
             "colorbar": {
              "outlinewidth": 0,
              "ticks": ""
             }
            },
            "type": "scattergl"
           }
          ],
          "scattermapbox": [
           {
            "marker": {
             "colorbar": {
              "outlinewidth": 0,
              "ticks": ""
             }
            },
            "type": "scattermapbox"
           }
          ],
          "scatterpolar": [
           {
            "marker": {
             "colorbar": {
              "outlinewidth": 0,
              "ticks": ""
             }
            },
            "type": "scatterpolar"
           }
          ],
          "scatterpolargl": [
           {
            "marker": {
             "colorbar": {
              "outlinewidth": 0,
              "ticks": ""
             }
            },
            "type": "scatterpolargl"
           }
          ],
          "scatterternary": [
           {
            "marker": {
             "colorbar": {
              "outlinewidth": 0,
              "ticks": ""
             }
            },
            "type": "scatterternary"
           }
          ],
          "surface": [
           {
            "colorbar": {
             "outlinewidth": 0,
             "ticks": ""
            },
            "colorscale": [
             [
              0,
              "#0d0887"
             ],
             [
              0.1111111111111111,
              "#46039f"
             ],
             [
              0.2222222222222222,
              "#7201a8"
             ],
             [
              0.3333333333333333,
              "#9c179e"
             ],
             [
              0.4444444444444444,
              "#bd3786"
             ],
             [
              0.5555555555555556,
              "#d8576b"
             ],
             [
              0.6666666666666666,
              "#ed7953"
             ],
             [
              0.7777777777777778,
              "#fb9f3a"
             ],
             [
              0.8888888888888888,
              "#fdca26"
             ],
             [
              1,
              "#f0f921"
             ]
            ],
            "type": "surface"
           }
          ],
          "table": [
           {
            "cells": {
             "fill": {
              "color": "#EBF0F8"
             },
             "line": {
              "color": "white"
             }
            },
            "header": {
             "fill": {
              "color": "#C8D4E3"
             },
             "line": {
              "color": "white"
             }
            },
            "type": "table"
           }
          ]
         },
         "layout": {
          "annotationdefaults": {
           "arrowcolor": "#2a3f5f",
           "arrowhead": 0,
           "arrowwidth": 1
          },
          "autotypenumbers": "strict",
          "coloraxis": {
           "colorbar": {
            "outlinewidth": 0,
            "ticks": ""
           }
          },
          "colorscale": {
           "diverging": [
            [
             0,
             "#8e0152"
            ],
            [
             0.1,
             "#c51b7d"
            ],
            [
             0.2,
             "#de77ae"
            ],
            [
             0.3,
             "#f1b6da"
            ],
            [
             0.4,
             "#fde0ef"
            ],
            [
             0.5,
             "#f7f7f7"
            ],
            [
             0.6,
             "#e6f5d0"
            ],
            [
             0.7,
             "#b8e186"
            ],
            [
             0.8,
             "#7fbc41"
            ],
            [
             0.9,
             "#4d9221"
            ],
            [
             1,
             "#276419"
            ]
           ],
           "sequential": [
            [
             0,
             "#0d0887"
            ],
            [
             0.1111111111111111,
             "#46039f"
            ],
            [
             0.2222222222222222,
             "#7201a8"
            ],
            [
             0.3333333333333333,
             "#9c179e"
            ],
            [
             0.4444444444444444,
             "#bd3786"
            ],
            [
             0.5555555555555556,
             "#d8576b"
            ],
            [
             0.6666666666666666,
             "#ed7953"
            ],
            [
             0.7777777777777778,
             "#fb9f3a"
            ],
            [
             0.8888888888888888,
             "#fdca26"
            ],
            [
             1,
             "#f0f921"
            ]
           ],
           "sequentialminus": [
            [
             0,
             "#0d0887"
            ],
            [
             0.1111111111111111,
             "#46039f"
            ],
            [
             0.2222222222222222,
             "#7201a8"
            ],
            [
             0.3333333333333333,
             "#9c179e"
            ],
            [
             0.4444444444444444,
             "#bd3786"
            ],
            [
             0.5555555555555556,
             "#d8576b"
            ],
            [
             0.6666666666666666,
             "#ed7953"
            ],
            [
             0.7777777777777778,
             "#fb9f3a"
            ],
            [
             0.8888888888888888,
             "#fdca26"
            ],
            [
             1,
             "#f0f921"
            ]
           ]
          },
          "colorway": [
           "#636efa",
           "#EF553B",
           "#00cc96",
           "#ab63fa",
           "#FFA15A",
           "#19d3f3",
           "#FF6692",
           "#B6E880",
           "#FF97FF",
           "#FECB52"
          ],
          "font": {
           "color": "#2a3f5f"
          },
          "geo": {
           "bgcolor": "white",
           "lakecolor": "white",
           "landcolor": "#E5ECF6",
           "showlakes": true,
           "showland": true,
           "subunitcolor": "white"
          },
          "hoverlabel": {
           "align": "left"
          },
          "hovermode": "closest",
          "mapbox": {
           "style": "light"
          },
          "paper_bgcolor": "white",
          "plot_bgcolor": "#E5ECF6",
          "polar": {
           "angularaxis": {
            "gridcolor": "white",
            "linecolor": "white",
            "ticks": ""
           },
           "bgcolor": "#E5ECF6",
           "radialaxis": {
            "gridcolor": "white",
            "linecolor": "white",
            "ticks": ""
           }
          },
          "scene": {
           "xaxis": {
            "backgroundcolor": "#E5ECF6",
            "gridcolor": "white",
            "gridwidth": 2,
            "linecolor": "white",
            "showbackground": true,
            "ticks": "",
            "zerolinecolor": "white"
           },
           "yaxis": {
            "backgroundcolor": "#E5ECF6",
            "gridcolor": "white",
            "gridwidth": 2,
            "linecolor": "white",
            "showbackground": true,
            "ticks": "",
            "zerolinecolor": "white"
           },
           "zaxis": {
            "backgroundcolor": "#E5ECF6",
            "gridcolor": "white",
            "gridwidth": 2,
            "linecolor": "white",
            "showbackground": true,
            "ticks": "",
            "zerolinecolor": "white"
           }
          },
          "shapedefaults": {
           "line": {
            "color": "#2a3f5f"
           }
          },
          "ternary": {
           "aaxis": {
            "gridcolor": "white",
            "linecolor": "white",
            "ticks": ""
           },
           "baxis": {
            "gridcolor": "white",
            "linecolor": "white",
            "ticks": ""
           },
           "bgcolor": "#E5ECF6",
           "caxis": {
            "gridcolor": "white",
            "linecolor": "white",
            "ticks": ""
           }
          },
          "title": {
           "x": 0.05
          },
          "xaxis": {
           "automargin": true,
           "gridcolor": "white",
           "linecolor": "white",
           "ticks": "",
           "title": {
            "standoff": 15
           },
           "zerolinecolor": "white",
           "zerolinewidth": 2
          },
          "yaxis": {
           "automargin": true,
           "gridcolor": "white",
           "linecolor": "white",
           "ticks": "",
           "title": {
            "standoff": 15
           },
           "zerolinecolor": "white",
           "zerolinewidth": 2
          }
         }
        },
        "title": {
         "text": "Market Cap per Industry"
        }
       }
      },
      "text/html": [
       "<div>                            <div id=\"560ba812-6705-44a3-a6b4-e23a8ae1d02b\" class=\"plotly-graph-div\" style=\"height:525px; width:100%;\"></div>            <script type=\"text/javascript\">                require([\"plotly\"], function(Plotly) {                    window.PLOTLYENV=window.PLOTLYENV || {};                                    if (document.getElementById(\"560ba812-6705-44a3-a6b4-e23a8ae1d02b\")) {                    Plotly.newPlot(                        \"560ba812-6705-44a3-a6b4-e23a8ae1d02b\",                        [{\"hole\":0.4,\"hoverinfo\":\"label+percent+value\",\"labels\":[\"Communication Equipment\",\"Computer Hardware\",\"Consumer Electronics\",\"Electronic Components\",\"Electronics & Computer Distribution\",\"Information Technology Services\",\"Scientific & Technical Instruments\",\"Semiconductor Equipment & Materials\",\"Semiconductors\",\"Software\\u2014Application\",\"Software\\u2014Infrastructure\",\"Solar\"],\"textfont\":{\"size\":14},\"textinfo\":\"percent\",\"values\":[560242900000.0,471509900000.0,3541308000000.0,588636500000.0,32037800000.0,1358427600000.0,382550400000.0,965516100000.0,4102249500000.0,2375396900000.0,4299151000000.0,81881100000.0],\"type\":\"pie\"}],                        {\"template\":{\"data\":{\"bar\":[{\"error_x\":{\"color\":\"#2a3f5f\"},\"error_y\":{\"color\":\"#2a3f5f\"},\"marker\":{\"line\":{\"color\":\"#E5ECF6\",\"width\":0.5},\"pattern\":{\"fillmode\":\"overlay\",\"size\":10,\"solidity\":0.2}},\"type\":\"bar\"}],\"barpolar\":[{\"marker\":{\"line\":{\"color\":\"#E5ECF6\",\"width\":0.5},\"pattern\":{\"fillmode\":\"overlay\",\"size\":10,\"solidity\":0.2}},\"type\":\"barpolar\"}],\"carpet\":[{\"aaxis\":{\"endlinecolor\":\"#2a3f5f\",\"gridcolor\":\"white\",\"linecolor\":\"white\",\"minorgridcolor\":\"white\",\"startlinecolor\":\"#2a3f5f\"},\"baxis\":{\"endlinecolor\":\"#2a3f5f\",\"gridcolor\":\"white\",\"linecolor\":\"white\",\"minorgridcolor\":\"white\",\"startlinecolor\":\"#2a3f5f\"},\"type\":\"carpet\"}],\"choropleth\":[{\"colorbar\":{\"outlinewidth\":0,\"ticks\":\"\"},\"type\":\"choropleth\"}],\"contour\":[{\"colorbar\":{\"outlinewidth\":0,\"ticks\":\"\"},\"colorscale\":[[0.0,\"#0d0887\"],[0.1111111111111111,\"#46039f\"],[0.2222222222222222,\"#7201a8\"],[0.3333333333333333,\"#9c179e\"],[0.4444444444444444,\"#bd3786\"],[0.5555555555555556,\"#d8576b\"],[0.6666666666666666,\"#ed7953\"],[0.7777777777777778,\"#fb9f3a\"],[0.8888888888888888,\"#fdca26\"],[1.0,\"#f0f921\"]],\"type\":\"contour\"}],\"contourcarpet\":[{\"colorbar\":{\"outlinewidth\":0,\"ticks\":\"\"},\"type\":\"contourcarpet\"}],\"heatmap\":[{\"colorbar\":{\"outlinewidth\":0,\"ticks\":\"\"},\"colorscale\":[[0.0,\"#0d0887\"],[0.1111111111111111,\"#46039f\"],[0.2222222222222222,\"#7201a8\"],[0.3333333333333333,\"#9c179e\"],[0.4444444444444444,\"#bd3786\"],[0.5555555555555556,\"#d8576b\"],[0.6666666666666666,\"#ed7953\"],[0.7777777777777778,\"#fb9f3a\"],[0.8888888888888888,\"#fdca26\"],[1.0,\"#f0f921\"]],\"type\":\"heatmap\"}],\"heatmapgl\":[{\"colorbar\":{\"outlinewidth\":0,\"ticks\":\"\"},\"colorscale\":[[0.0,\"#0d0887\"],[0.1111111111111111,\"#46039f\"],[0.2222222222222222,\"#7201a8\"],[0.3333333333333333,\"#9c179e\"],[0.4444444444444444,\"#bd3786\"],[0.5555555555555556,\"#d8576b\"],[0.6666666666666666,\"#ed7953\"],[0.7777777777777778,\"#fb9f3a\"],[0.8888888888888888,\"#fdca26\"],[1.0,\"#f0f921\"]],\"type\":\"heatmapgl\"}],\"histogram\":[{\"marker\":{\"pattern\":{\"fillmode\":\"overlay\",\"size\":10,\"solidity\":0.2}},\"type\":\"histogram\"}],\"histogram2d\":[{\"colorbar\":{\"outlinewidth\":0,\"ticks\":\"\"},\"colorscale\":[[0.0,\"#0d0887\"],[0.1111111111111111,\"#46039f\"],[0.2222222222222222,\"#7201a8\"],[0.3333333333333333,\"#9c179e\"],[0.4444444444444444,\"#bd3786\"],[0.5555555555555556,\"#d8576b\"],[0.6666666666666666,\"#ed7953\"],[0.7777777777777778,\"#fb9f3a\"],[0.8888888888888888,\"#fdca26\"],[1.0,\"#f0f921\"]],\"type\":\"histogram2d\"}],\"histogram2dcontour\":[{\"colorbar\":{\"outlinewidth\":0,\"ticks\":\"\"},\"colorscale\":[[0.0,\"#0d0887\"],[0.1111111111111111,\"#46039f\"],[0.2222222222222222,\"#7201a8\"],[0.3333333333333333,\"#9c179e\"],[0.4444444444444444,\"#bd3786\"],[0.5555555555555556,\"#d8576b\"],[0.6666666666666666,\"#ed7953\"],[0.7777777777777778,\"#fb9f3a\"],[0.8888888888888888,\"#fdca26\"],[1.0,\"#f0f921\"]],\"type\":\"histogram2dcontour\"}],\"mesh3d\":[{\"colorbar\":{\"outlinewidth\":0,\"ticks\":\"\"},\"type\":\"mesh3d\"}],\"parcoords\":[{\"line\":{\"colorbar\":{\"outlinewidth\":0,\"ticks\":\"\"}},\"type\":\"parcoords\"}],\"pie\":[{\"automargin\":true,\"type\":\"pie\"}],\"scatter\":[{\"marker\":{\"colorbar\":{\"outlinewidth\":0,\"ticks\":\"\"}},\"type\":\"scatter\"}],\"scatter3d\":[{\"line\":{\"colorbar\":{\"outlinewidth\":0,\"ticks\":\"\"}},\"marker\":{\"colorbar\":{\"outlinewidth\":0,\"ticks\":\"\"}},\"type\":\"scatter3d\"}],\"scattercarpet\":[{\"marker\":{\"colorbar\":{\"outlinewidth\":0,\"ticks\":\"\"}},\"type\":\"scattercarpet\"}],\"scattergeo\":[{\"marker\":{\"colorbar\":{\"outlinewidth\":0,\"ticks\":\"\"}},\"type\":\"scattergeo\"}],\"scattergl\":[{\"marker\":{\"colorbar\":{\"outlinewidth\":0,\"ticks\":\"\"}},\"type\":\"scattergl\"}],\"scattermapbox\":[{\"marker\":{\"colorbar\":{\"outlinewidth\":0,\"ticks\":\"\"}},\"type\":\"scattermapbox\"}],\"scatterpolar\":[{\"marker\":{\"colorbar\":{\"outlinewidth\":0,\"ticks\":\"\"}},\"type\":\"scatterpolar\"}],\"scatterpolargl\":[{\"marker\":{\"colorbar\":{\"outlinewidth\":0,\"ticks\":\"\"}},\"type\":\"scatterpolargl\"}],\"scatterternary\":[{\"marker\":{\"colorbar\":{\"outlinewidth\":0,\"ticks\":\"\"}},\"type\":\"scatterternary\"}],\"surface\":[{\"colorbar\":{\"outlinewidth\":0,\"ticks\":\"\"},\"colorscale\":[[0.0,\"#0d0887\"],[0.1111111111111111,\"#46039f\"],[0.2222222222222222,\"#7201a8\"],[0.3333333333333333,\"#9c179e\"],[0.4444444444444444,\"#bd3786\"],[0.5555555555555556,\"#d8576b\"],[0.6666666666666666,\"#ed7953\"],[0.7777777777777778,\"#fb9f3a\"],[0.8888888888888888,\"#fdca26\"],[1.0,\"#f0f921\"]],\"type\":\"surface\"}],\"table\":[{\"cells\":{\"fill\":{\"color\":\"#EBF0F8\"},\"line\":{\"color\":\"white\"}},\"header\":{\"fill\":{\"color\":\"#C8D4E3\"},\"line\":{\"color\":\"white\"}},\"type\":\"table\"}]},\"layout\":{\"annotationdefaults\":{\"arrowcolor\":\"#2a3f5f\",\"arrowhead\":0,\"arrowwidth\":1},\"autotypenumbers\":\"strict\",\"coloraxis\":{\"colorbar\":{\"outlinewidth\":0,\"ticks\":\"\"}},\"colorscale\":{\"diverging\":[[0,\"#8e0152\"],[0.1,\"#c51b7d\"],[0.2,\"#de77ae\"],[0.3,\"#f1b6da\"],[0.4,\"#fde0ef\"],[0.5,\"#f7f7f7\"],[0.6,\"#e6f5d0\"],[0.7,\"#b8e186\"],[0.8,\"#7fbc41\"],[0.9,\"#4d9221\"],[1,\"#276419\"]],\"sequential\":[[0.0,\"#0d0887\"],[0.1111111111111111,\"#46039f\"],[0.2222222222222222,\"#7201a8\"],[0.3333333333333333,\"#9c179e\"],[0.4444444444444444,\"#bd3786\"],[0.5555555555555556,\"#d8576b\"],[0.6666666666666666,\"#ed7953\"],[0.7777777777777778,\"#fb9f3a\"],[0.8888888888888888,\"#fdca26\"],[1.0,\"#f0f921\"]],\"sequentialminus\":[[0.0,\"#0d0887\"],[0.1111111111111111,\"#46039f\"],[0.2222222222222222,\"#7201a8\"],[0.3333333333333333,\"#9c179e\"],[0.4444444444444444,\"#bd3786\"],[0.5555555555555556,\"#d8576b\"],[0.6666666666666666,\"#ed7953\"],[0.7777777777777778,\"#fb9f3a\"],[0.8888888888888888,\"#fdca26\"],[1.0,\"#f0f921\"]]},\"colorway\":[\"#636efa\",\"#EF553B\",\"#00cc96\",\"#ab63fa\",\"#FFA15A\",\"#19d3f3\",\"#FF6692\",\"#B6E880\",\"#FF97FF\",\"#FECB52\"],\"font\":{\"color\":\"#2a3f5f\"},\"geo\":{\"bgcolor\":\"white\",\"lakecolor\":\"white\",\"landcolor\":\"#E5ECF6\",\"showlakes\":true,\"showland\":true,\"subunitcolor\":\"white\"},\"hoverlabel\":{\"align\":\"left\"},\"hovermode\":\"closest\",\"mapbox\":{\"style\":\"light\"},\"paper_bgcolor\":\"white\",\"plot_bgcolor\":\"#E5ECF6\",\"polar\":{\"angularaxis\":{\"gridcolor\":\"white\",\"linecolor\":\"white\",\"ticks\":\"\"},\"bgcolor\":\"#E5ECF6\",\"radialaxis\":{\"gridcolor\":\"white\",\"linecolor\":\"white\",\"ticks\":\"\"}},\"scene\":{\"xaxis\":{\"backgroundcolor\":\"#E5ECF6\",\"gridcolor\":\"white\",\"gridwidth\":2,\"linecolor\":\"white\",\"showbackground\":true,\"ticks\":\"\",\"zerolinecolor\":\"white\"},\"yaxis\":{\"backgroundcolor\":\"#E5ECF6\",\"gridcolor\":\"white\",\"gridwidth\":2,\"linecolor\":\"white\",\"showbackground\":true,\"ticks\":\"\",\"zerolinecolor\":\"white\"},\"zaxis\":{\"backgroundcolor\":\"#E5ECF6\",\"gridcolor\":\"white\",\"gridwidth\":2,\"linecolor\":\"white\",\"showbackground\":true,\"ticks\":\"\",\"zerolinecolor\":\"white\"}},\"shapedefaults\":{\"line\":{\"color\":\"#2a3f5f\"}},\"ternary\":{\"aaxis\":{\"gridcolor\":\"white\",\"linecolor\":\"white\",\"ticks\":\"\"},\"baxis\":{\"gridcolor\":\"white\",\"linecolor\":\"white\",\"ticks\":\"\"},\"bgcolor\":\"#E5ECF6\",\"caxis\":{\"gridcolor\":\"white\",\"linecolor\":\"white\",\"ticks\":\"\"}},\"title\":{\"x\":0.05},\"xaxis\":{\"automargin\":true,\"gridcolor\":\"white\",\"linecolor\":\"white\",\"ticks\":\"\",\"title\":{\"standoff\":15},\"zerolinecolor\":\"white\",\"zerolinewidth\":2},\"yaxis\":{\"automargin\":true,\"gridcolor\":\"white\",\"linecolor\":\"white\",\"ticks\":\"\",\"title\":{\"standoff\":15},\"zerolinecolor\":\"white\",\"zerolinewidth\":2}}},\"title\":{\"text\":\"Market Cap per Industry\"},\"annotations\":[{\"showarrow\":false,\"text\":\"Market Cap\",\"x\":0.5,\"y\":0.5,\"font\":{\"size\":20}}]},                        {\"responsive\": true}                    ).then(function(){\n",
       "                            \n",
       "var gd = document.getElementById('560ba812-6705-44a3-a6b4-e23a8ae1d02b');\n",
       "var x = new MutationObserver(function (mutations, observer) {{\n",
       "        var display = window.getComputedStyle(gd).display;\n",
       "        if (!display || display === 'none') {{\n",
       "            console.log([gd, 'removed!']);\n",
       "            Plotly.purge(gd);\n",
       "            observer.disconnect();\n",
       "        }}\n",
       "}});\n",
       "\n",
       "// Listen for the removal of the full notebook cells\n",
       "var notebookContainer = gd.closest('#notebook-container');\n",
       "if (notebookContainer) {{\n",
       "    x.observe(notebookContainer, {childList: true});\n",
       "}}\n",
       "\n",
       "// Listen for the clearing of the current output cell\n",
       "var outputEl = gd.closest('.output');\n",
       "if (outputEl) {{\n",
       "    x.observe(outputEl, {childList: true});\n",
       "}}\n",
       "\n",
       "                        })                };                });            </script>        </div>"
      ]
     },
     "metadata": {},
     "output_type": "display_data"
    }
   ],
   "source": [
    "import plotly.graph_objects as go\n",
    "\n",
    "industry_market_cap = data.groupby('Industry')['Market Cap'].sum().reset_index()\n",
    "\n",
    "\n",
    "fig = go.Figure(\n",
    "    data=[go.Pie(\n",
    "        labels=industry_market_cap['Industry'],\n",
    "        values=industry_market_cap['Market Cap'],\n",
    "        hoverinfo='label+percent+value',\n",
    "        textinfo='percent',\n",
    "        textfont_size=14,\n",
    "        hole=0.4\n",
    "    )]\n",
    ")\n",
    "fig.update_layout(\n",
    "    title_text='Market Cap per Industry',\n",
    "    annotations=[dict(text='Market Cap', x=0.5, y=0.5, font_size=20, showarrow=False)]\n",
    ")\n",
    "\n",
    "fig.show()\n"
   ]
  },
  {
   "cell_type": "code",
   "execution_count": null,
   "id": "74ee5d22",
   "metadata": {},
   "outputs": [],
   "source": []
  },
  {
   "cell_type": "code",
   "execution_count": null,
   "id": "fe1bacb3",
   "metadata": {},
   "outputs": [],
   "source": []
  },
  {
   "cell_type": "markdown",
   "id": "3fe87252",
   "metadata": {},
   "source": [
    "# Sector and Industry Insights:"
   ]
  },
  {
   "cell_type": "markdown",
   "id": "13227281",
   "metadata": {},
   "source": [
    "Comparision of companies by number of industry."
   ]
  },
  {
   "cell_type": "code",
   "execution_count": null,
   "id": "cd4b301e",
   "metadata": {},
   "outputs": [],
   "source": []
  },
  {
   "cell_type": "code",
   "execution_count": 176,
   "id": "76705b72",
   "metadata": {},
   "outputs": [
    {
     "name": "stdout",
     "output_type": "stream",
     "text": [
      "Requirement already satisfied: squarify in /Users/rajatthakur/opt/anaconda3/lib/python3.9/site-packages (0.4.4)\n",
      "Note: you may need to restart the kernel to use updated packages.\n"
     ]
    }
   ],
   "source": [
    "pip install squarify\n"
   ]
  },
  {
   "cell_type": "code",
   "execution_count": 177,
   "id": "a081baf4",
   "metadata": {},
   "outputs": [
    {
     "data": {
      "image/png": "[encoded data removed]",
      "text/plain": [
       "<Figure size 720x648 with 1 Axes>"
      ]
     },
     "metadata": {
      "needs_background": "light"
     },
     "output_type": "display_data"
    }
   ],
   "source": [
    "import matplotlib.pyplot as plt\n",
    "import squarify\n",
    "import seaborn as sb\n",
    "\n",
    "groupedIndustDF = pd.DataFrame(data)\n",
    "\n",
    "industry_count = groupedIndustDF['Industry'].value_counts().reset_index()\n",
    "industry_count.columns = ['Industry', 'Count']\n",
    "\n",
    "industry_abbrevations ={\n",
    "    'Software—Application' : 'Software App.',\n",
    "    'Semiconductors' : 'Semiconductors',\n",
    "    'Information Technology Services' : 'IT Services',\n",
    "    'Electronic Components' : 'Elec. Components',\n",
    "    'Software—Infrastructure' : 'Software Infra.',\n",
    "    'Semiconductor Equipment & Materials' : 'Semi. Equ. & Mats',\n",
    "    'Communication Equipment' : 'Comm. Equipment',\n",
    "    'Computer Hardware' : 'Comp. Hardware',\n",
    "    'Scientific & Technical Instruments' : 'Sci. & Tech. In.',\n",
    "    'Consumer Electronics' : 'Cons. Elect.',\n",
    "    'Solar' : 'Solar',\n",
    "    'Electronics & Computer Distribution' :  'Elec. \\n & C.D.'\n",
    "    \n",
    "}\n",
    "\n",
    "\n",
    "\n",
    "industry_count['Short Industry'] = industry_count['Industry'].map(industry_abbrevations)\n",
    "\n",
    "labels = [f\"{abbr}\\n({count})\" for abbr, count in zip(industry_count['Short Industry'], industry_count['Count'])]\n",
    "\n",
    "\n",
    "plt.figure(figsize=(10,9))\n",
    "squarify.plot(sizes=industry_count['Count'], label=labels,pad = 0.2,  \n",
    "              text_kwargs = {'fontsize': 10, 'color': 'white'},\n",
    "              color=sb.color_palette(\"rocket\"))\n",
    "\n",
    "plt.axis('off')\n",
    "plt.title('Companies Distribution by industries')\n",
    "\n",
    "legend_text = \"\\n\".join([f\"{abbr}: {full}\" for full,abbr in industry_abbrevations.items()])\n",
    "plt.figtext(1,  0.5, legend_text, fontsize=12, bbox={\"facecolor\":\"lightgrey\", \"alpha\":0.5,\"pad\":5})\n",
    "\n",
    "\n",
    "plt.show()"
   ]
  },
  {
   "cell_type": "code",
   "execution_count": 178,
   "id": "9e203b28",
   "metadata": {},
   "outputs": [
    {
     "data": {
      "image/png": "[encoded data removed]",
      "text/plain": [
       "<Figure size 864x576 with 1 Axes>"
      ]
     },
     "metadata": {
      "needs_background": "light"
     },
     "output_type": "display_data"
    }
   ],
   "source": [
    "import matplotlib.pyplot as plt\n",
    "import squarify\n",
    "import seaborn as sb\n",
    "\n",
    "groupedIndustDF = pd.DataFrame(data)\n",
    "\n",
    "industry_count = groupedIndustDF.groupby('Industry').agg(\n",
    "                    Company_Count = ('Company','size'),\n",
    "                    Market_Cap = ('Market Cap','sum')).reset_index()\n",
    "\n",
    "#groupedIndustDF['Industry'].value_counts().reset_index()\n",
    "#industry_count.columns = ['Industry', 'Count']\n",
    "\n",
    "industry_abbrevations ={\n",
    "    'Software—Application' : 'Software App.',\n",
    "    'Semiconductors' : 'Semiconductors',\n",
    "    'Information Technology Services' : 'IT Services',\n",
    "    'Electronic Components' : 'Elec. Components',\n",
    "    'Software—Infrastructure' : 'Software Infra.',\n",
    "    'Semiconductor Equipment & Materials' : 'Semi. Equ. & Mats',\n",
    "    'Communication Equipment' : 'Comm. Equipment',\n",
    "    'Computer Hardware' : 'Comp. Hardware',\n",
    "    'Scientific & Technical Instruments' : 'Sci. & Tech. In.',\n",
    "    'Consumer Electronics' : 'Cons. Elect.',\n",
    "    'Solar' : 'Solar',\n",
    "    'Electronics & Computer Distribution' :  'Elec. \\n & C.D.'\n",
    "    \n",
    "}\n",
    "\n",
    "\n",
    "\n",
    "industry_count['Short Industry'] = industry_count['Industry'].map(industry_abbrevations)\n",
    "industry_count['Formatted Market Cap'] = industry_count['Market_Cap'].apply(numerize.numerize)\n",
    "\n",
    "\n",
    "labels = [f\"{abbr} ({count})\\nMarket Cap: {market_cap}\" for abbr, count, market_cap\n",
    "          in zip(industry_count['Short Industry'], industry_count['Company_Count'],\n",
    "                                                                  industry_count['Formatted Market Cap'])]\n",
    "\n",
    "\n",
    "plt.figure(figsize=(12,8))\n",
    "squarify.plot(sizes=industry_count['Market_Cap'], label=labels,pad = 1.5,  \n",
    "              text_kwargs = {'fontsize': 10, 'color': 'white', 'weight': 'bold'},\n",
    "              color=sb.color_palette(\"rocket\"))\n",
    "\n",
    "plt.axis('off')\n",
    "plt.title('Companies Distribution by Industry (Market Cap)')\n",
    "\n",
    "#legend_text = \"\\n\".join([f\"{abbr}: {full}\" for full,abbr in industry_abbrevations.items()])\n",
    "legend_text = \"\\n\".join(\n",
    "    [\n",
    "        f\"{abbr}: {full}, Market Cap: {market_cap}\"\n",
    "        for full, abbr, market_cap in zip(\n",
    "            industry_count['Industry'],\n",
    "            industry_count['Short Industry'],\n",
    "            industry_count['Formatted Market Cap']\n",
    "        )\n",
    "    ]\n",
    ")\n",
    "plt.figtext(1,  0.5, legend_text, fontsize=10, bbox={\"facecolor\":\"lightgrey\", \"alpha\":0.5,\"pad\":5})\n",
    "\n",
    "\n",
    "plt.show()"
   ]
  },
  {
   "cell_type": "code",
   "execution_count": 179,
   "id": "bb872053",
   "metadata": {},
   "outputs": [
    {
     "data": {
      "application/vnd.plotly.v1+json": {
       "config": {
        "plotlyServerURL": "https://plot.ly"
       },
       "data": [
        {
         "alignmentgroup": "True",
         "customdata": [
          [
           69
          ],
          [
           60
          ],
          [
           34
          ],
          [
           122
          ],
          [
           11
          ],
          [
           129
          ],
          [
           49
          ],
          [
           70
          ],
          [
           135
          ],
          [
           198
          ],
          [
           104
          ],
          [
           19
          ]
         ],
         "hovertemplate": "Total Market Cap=%{x}<br>Industry=%{y}<br>Company_Count=%{customdata[0]}<extra></extra>",
         "legendgroup": "",
         "marker": {
          "color": "#636efa",
          "pattern": {
           "shape": ""
          }
         },
         "name": "",
         "offsetgroup": "",
         "orientation": "h",
         "showlegend": false,
         "text": [
          69,
          60,
          34,
          122,
          11,
          129,
          49,
          70,
          135,
          198,
          104,
          19
         ],
         "textposition": "auto",
         "type": "bar",
         "x": [
          "560.24B",
          "471.51B",
          "3.54T",
          "588.64B",
          "32.04B",
          "1.36T",
          "382.55B",
          "965.52B",
          "4.1T",
          "2.38T",
          "4.3T",
          "81.88B"
         ],
         "xaxis": "x",
         "y": [
          "Communication Equipment",
          "Computer Hardware",
          "Consumer Electronics",
          "Electronic Components",
          "Electronics & Computer Distribution",
          "Information Technology Services",
          "Scientific & Technical Instruments",
          "Semiconductor Equipment & Materials",
          "Semiconductors",
          "Software—Application",
          "Software—Infrastructure",
          "Solar"
         ],
         "yaxis": "y"
        }
       ],
       "layout": {
        "barmode": "relative",
        "legend": {
         "tracegroupgap": 0
        },
        "template": {
         "data": {
          "bar": [
           {
            "error_x": {
             "color": "#2a3f5f"
            },
            "error_y": {
             "color": "#2a3f5f"
            },
            "marker": {
             "line": {
              "color": "#E5ECF6",
              "width": 0.5
             },
             "pattern": {
              "fillmode": "overlay",
              "size": 10,
              "solidity": 0.2
             }
            },
            "type": "bar"
           }
          ],
          "barpolar": [
           {
            "marker": {
             "line": {
              "color": "#E5ECF6",
              "width": 0.5
             },
             "pattern": {
              "fillmode": "overlay",
              "size": 10,
              "solidity": 0.2
             }
            },
            "type": "barpolar"
           }
          ],
          "carpet": [
           {
            "aaxis": {
             "endlinecolor": "#2a3f5f",
             "gridcolor": "white",
             "linecolor": "white",
             "minorgridcolor": "white",
             "startlinecolor": "#2a3f5f"
            },
            "baxis": {
             "endlinecolor": "#2a3f5f",
             "gridcolor": "white",
             "linecolor": "white",
             "minorgridcolor": "white",
             "startlinecolor": "#2a3f5f"
            },
            "type": "carpet"
           }
          ],
          "choropleth": [
           {
            "colorbar": {
             "outlinewidth": 0,
             "ticks": ""
            },
            "type": "choropleth"
           }
          ],
          "contour": [
           {
            "colorbar": {
             "outlinewidth": 0,
             "ticks": ""
            },
            "colorscale": [
             [
              0,
              "#0d0887"
             ],
             [
              0.1111111111111111,
              "#46039f"
             ],
             [
              0.2222222222222222,
              "#7201a8"
             ],
             [
              0.3333333333333333,
              "#9c179e"
             ],
             [
              0.4444444444444444,
              "#bd3786"
             ],
             [
              0.5555555555555556,
              "#d8576b"
             ],
             [
              0.6666666666666666,
              "#ed7953"
             ],
             [
              0.7777777777777778,
              "#fb9f3a"
             ],
             [
              0.8888888888888888,
              "#fdca26"
             ],
             [
              1,
              "#f0f921"
             ]
            ],
            "type": "contour"
           }
          ],
          "contourcarpet": [
           {
            "colorbar": {
             "outlinewidth": 0,
             "ticks": ""
            },
            "type": "contourcarpet"
           }
          ],
          "heatmap": [
           {
            "colorbar": {
             "outlinewidth": 0,
             "ticks": ""
            },
            "colorscale": [
             [
              0,
              "#0d0887"
             ],
             [
              0.1111111111111111,
              "#46039f"
             ],
             [
              0.2222222222222222,
              "#7201a8"
             ],
             [
              0.3333333333333333,
              "#9c179e"
             ],
             [
              0.4444444444444444,
              "#bd3786"
             ],
             [
              0.5555555555555556,
              "#d8576b"
             ],
             [
              0.6666666666666666,
              "#ed7953"
             ],
             [
              0.7777777777777778,
              "#fb9f3a"
             ],
             [
              0.8888888888888888,
              "#fdca26"
             ],
             [
              1,
              "#f0f921"
             ]
            ],
            "type": "heatmap"
           }
          ],
          "heatmapgl": [
           {
            "colorbar": {
             "outlinewidth": 0,
             "ticks": ""
            },
            "colorscale": [
             [
              0,
              "#0d0887"
             ],
             [
              0.1111111111111111,
              "#46039f"
             ],
             [
              0.2222222222222222,
              "#7201a8"
             ],
             [
              0.3333333333333333,
              "#9c179e"
             ],
             [
              0.4444444444444444,
              "#bd3786"
             ],
             [
              0.5555555555555556,
              "#d8576b"
             ],
             [
              0.6666666666666666,
              "#ed7953"
             ],
             [
              0.7777777777777778,
              "#fb9f3a"
             ],
             [
              0.8888888888888888,
              "#fdca26"
             ],
             [
              1,
              "#f0f921"
             ]
            ],
            "type": "heatmapgl"
           }
          ],
          "histogram": [
           {
            "marker": {
             "pattern": {
              "fillmode": "overlay",
              "size": 10,
              "solidity": 0.2
             }
            },
            "type": "histogram"
           }
          ],
          "histogram2d": [
           {
            "colorbar": {
             "outlinewidth": 0,
             "ticks": ""
            },
            "colorscale": [
             [
              0,
              "#0d0887"
             ],
             [
              0.1111111111111111,
              "#46039f"
             ],
             [
              0.2222222222222222,
              "#7201a8"
             ],
             [
              0.3333333333333333,
              "#9c179e"
             ],
             [
              0.4444444444444444,
              "#bd3786"
             ],
             [
              0.5555555555555556,
              "#d8576b"
             ],
             [
              0.6666666666666666,
              "#ed7953"
             ],
             [
              0.7777777777777778,
              "#fb9f3a"
             ],
             [
              0.8888888888888888,
              "#fdca26"
             ],
             [
              1,
              "#f0f921"
             ]
            ],
            "type": "histogram2d"
           }
          ],
          "histogram2dcontour": [
           {
            "colorbar": {
             "outlinewidth": 0,
             "ticks": ""
            },
            "colorscale": [
             [
              0,
              "#0d0887"
             ],
             [
              0.1111111111111111,
              "#46039f"
             ],
             [
              0.2222222222222222,
              "#7201a8"
             ],
             [
              0.3333333333333333,
              "#9c179e"
             ],
             [
              0.4444444444444444,
              "#bd3786"
             ],
             [
              0.5555555555555556,
              "#d8576b"
             ],
             [
              0.6666666666666666,
              "#ed7953"
             ],
             [
              0.7777777777777778,
              "#fb9f3a"
             ],
             [
              0.8888888888888888,
              "#fdca26"
             ],
             [
              1,
              "#f0f921"
             ]
            ],
            "type": "histogram2dcontour"
           }
          ],
          "mesh3d": [
           {
            "colorbar": {
             "outlinewidth": 0,
             "ticks": ""
            },
            "type": "mesh3d"
           }
          ],
          "parcoords": [
           {
            "line": {
             "colorbar": {
              "outlinewidth": 0,
              "ticks": ""
             }
            },
            "type": "parcoords"
           }
          ],
          "pie": [
           {
            "automargin": true,
            "type": "pie"
           }
          ],
          "scatter": [
           {
            "marker": {
             "colorbar": {
              "outlinewidth": 0,
              "ticks": ""
             }
            },
            "type": "scatter"
           }
          ],
          "scatter3d": [
           {
            "line": {
             "colorbar": {
              "outlinewidth": 0,
              "ticks": ""
             }
            },
            "marker": {
             "colorbar": {
              "outlinewidth": 0,
              "ticks": ""
             }
            },
            "type": "scatter3d"
           }
          ],
          "scattercarpet": [
           {
            "marker": {
             "colorbar": {
              "outlinewidth": 0,
              "ticks": ""
             }
            },
            "type": "scattercarpet"
           }
          ],
          "scattergeo": [
           {
            "marker": {
             "colorbar": {
              "outlinewidth": 0,
              "ticks": ""
             }
            },
            "type": "scattergeo"
           }
          ],
          "scattergl": [
           {
            "marker": {
             "colorbar": {
              "outlinewidth": 0,
              "ticks": ""
             }
            },
            "type": "scattergl"
           }
          ],
          "scattermapbox": [
           {
            "marker": {
             "colorbar": {
              "outlinewidth": 0,
              "ticks": ""
             }
            },
            "type": "scattermapbox"
           }
          ],
          "scatterpolar": [
           {
            "marker": {
             "colorbar": {
              "outlinewidth": 0,
              "ticks": ""
             }
            },
            "type": "scatterpolar"
           }
          ],
          "scatterpolargl": [
           {
            "marker": {
             "colorbar": {
              "outlinewidth": 0,
              "ticks": ""
             }
            },
            "type": "scatterpolargl"
           }
          ],
          "scatterternary": [
           {
            "marker": {
             "colorbar": {
              "outlinewidth": 0,
              "ticks": ""
             }
            },
            "type": "scatterternary"
           }
          ],
          "surface": [
           {
            "colorbar": {
             "outlinewidth": 0,
             "ticks": ""
            },
            "colorscale": [
             [
              0,
              "#0d0887"
             ],
             [
              0.1111111111111111,
              "#46039f"
             ],
             [
              0.2222222222222222,
              "#7201a8"
             ],
             [
              0.3333333333333333,
              "#9c179e"
             ],
             [
              0.4444444444444444,
              "#bd3786"
             ],
             [
              0.5555555555555556,
              "#d8576b"
             ],
             [
              0.6666666666666666,
              "#ed7953"
             ],
             [
              0.7777777777777778,
              "#fb9f3a"
             ],
             [
              0.8888888888888888,
              "#fdca26"
             ],
             [
              1,
              "#f0f921"
             ]
            ],
            "type": "surface"
           }
          ],
          "table": [
           {
            "cells": {
             "fill": {
              "color": "#EBF0F8"
             },
             "line": {
              "color": "white"
             }
            },
            "header": {
             "fill": {
              "color": "#C8D4E3"
             },
             "line": {
              "color": "white"
             }
            },
            "type": "table"
           }
          ]
         },
         "layout": {
          "annotationdefaults": {
           "arrowcolor": "#2a3f5f",
           "arrowhead": 0,
           "arrowwidth": 1
          },
          "autotypenumbers": "strict",
          "coloraxis": {
           "colorbar": {
            "outlinewidth": 0,
            "ticks": ""
           }
          },
          "colorscale": {
           "diverging": [
            [
             0,
             "#8e0152"
            ],
            [
             0.1,
             "#c51b7d"
            ],
            [
             0.2,
             "#de77ae"
            ],
            [
             0.3,
             "#f1b6da"
            ],
            [
             0.4,
             "#fde0ef"
            ],
            [
             0.5,
             "#f7f7f7"
            ],
            [
             0.6,
             "#e6f5d0"
            ],
            [
             0.7,
             "#b8e186"
            ],
            [
             0.8,
             "#7fbc41"
            ],
            [
             0.9,
             "#4d9221"
            ],
            [
             1,
             "#276419"
            ]
           ],
           "sequential": [
            [
             0,
             "#0d0887"
            ],
            [
             0.1111111111111111,
             "#46039f"
            ],
            [
             0.2222222222222222,
             "#7201a8"
            ],
            [
             0.3333333333333333,
             "#9c179e"
            ],
            [
             0.4444444444444444,
             "#bd3786"
            ],
            [
             0.5555555555555556,
             "#d8576b"
            ],
            [
             0.6666666666666666,
             "#ed7953"
            ],
            [
             0.7777777777777778,
             "#fb9f3a"
            ],
            [
             0.8888888888888888,
             "#fdca26"
            ],
            [
             1,
             "#f0f921"
            ]
           ],
           "sequentialminus": [
            [
             0,
             "#0d0887"
            ],
            [
             0.1111111111111111,
             "#46039f"
            ],
            [
             0.2222222222222222,
             "#7201a8"
            ],
            [
             0.3333333333333333,
             "#9c179e"
            ],
            [
             0.4444444444444444,
             "#bd3786"
            ],
            [
             0.5555555555555556,
             "#d8576b"
            ],
            [
             0.6666666666666666,
             "#ed7953"
            ],
            [
             0.7777777777777778,
             "#fb9f3a"
            ],
            [
             0.8888888888888888,
             "#fdca26"
            ],
            [
             1,
             "#f0f921"
            ]
           ]
          },
          "colorway": [
           "#636efa",
           "#EF553B",
           "#00cc96",
           "#ab63fa",
           "#FFA15A",
           "#19d3f3",
           "#FF6692",
           "#B6E880",
           "#FF97FF",
           "#FECB52"
          ],
          "font": {
           "color": "#2a3f5f"
          },
          "geo": {
           "bgcolor": "white",
           "lakecolor": "white",
           "landcolor": "#E5ECF6",
           "showlakes": true,
           "showland": true,
           "subunitcolor": "white"
          },
          "hoverlabel": {
           "align": "left"
          },
          "hovermode": "closest",
          "mapbox": {
           "style": "light"
          },
          "paper_bgcolor": "white",
          "plot_bgcolor": "#E5ECF6",
          "polar": {
           "angularaxis": {
            "gridcolor": "white",
            "linecolor": "white",
            "ticks": ""
           },
           "bgcolor": "#E5ECF6",
           "radialaxis": {
            "gridcolor": "white",
            "linecolor": "white",
            "ticks": ""
           }
          },
          "scene": {
           "xaxis": {
            "backgroundcolor": "#E5ECF6",
            "gridcolor": "white",
            "gridwidth": 2,
            "linecolor": "white",
            "showbackground": true,
            "ticks": "",
            "zerolinecolor": "white"
           },
           "yaxis": {
            "backgroundcolor": "#E5ECF6",
            "gridcolor": "white",
            "gridwidth": 2,
            "linecolor": "white",
            "showbackground": true,
            "ticks": "",
            "zerolinecolor": "white"
           },
           "zaxis": {
            "backgroundcolor": "#E5ECF6",
            "gridcolor": "white",
            "gridwidth": 2,
            "linecolor": "white",
            "showbackground": true,
            "ticks": "",
            "zerolinecolor": "white"
           }
          },
          "shapedefaults": {
           "line": {
            "color": "#2a3f5f"
           }
          },
          "ternary": {
           "aaxis": {
            "gridcolor": "white",
            "linecolor": "white",
            "ticks": ""
           },
           "baxis": {
            "gridcolor": "white",
            "linecolor": "white",
            "ticks": ""
           },
           "bgcolor": "#E5ECF6",
           "caxis": {
            "gridcolor": "white",
            "linecolor": "white",
            "ticks": ""
           }
          },
          "title": {
           "x": 0.05
          },
          "xaxis": {
           "automargin": true,
           "gridcolor": "white",
           "linecolor": "white",
           "ticks": "",
           "title": {
            "standoff": 15
           },
           "zerolinecolor": "white",
           "zerolinewidth": 2
          },
          "yaxis": {
           "automargin": true,
           "gridcolor": "white",
           "linecolor": "white",
           "ticks": "",
           "title": {
            "standoff": 15
           },
           "zerolinecolor": "white",
           "zerolinewidth": 2
          }
         }
        },
        "title": {
         "text": "Industry Comparison: Total Market Cap vs Company Count"
        },
        "xaxis": {
         "anchor": "y",
         "domain": [
          0,
          1
         ],
         "title": {
          "text": "Total Market Cap"
         }
        },
        "yaxis": {
         "anchor": "x",
         "domain": [
          0,
          1
         ],
         "title": {
          "text": "Industry"
         }
        }
       }
      },
      "text/html": [
       "<div>                            <div id=\"4157baac-5ae6-4e11-830f-ce3fdd0bd07e\" class=\"plotly-graph-div\" style=\"height:525px; width:100%;\"></div>            <script type=\"text/javascript\">                require([\"plotly\"], function(Plotly) {                    window.PLOTLYENV=window.PLOTLYENV || {};                                    if (document.getElementById(\"4157baac-5ae6-4e11-830f-ce3fdd0bd07e\")) {                    Plotly.newPlot(                        \"4157baac-5ae6-4e11-830f-ce3fdd0bd07e\",                        [{\"alignmentgroup\":\"True\",\"customdata\":[[69],[60],[34],[122],[11],[129],[49],[70],[135],[198],[104],[19]],\"hovertemplate\":\"Total Market Cap=%{x}<br>Industry=%{y}<br>Company_Count=%{customdata[0]}<extra></extra>\",\"legendgroup\":\"\",\"marker\":{\"color\":\"#636efa\",\"pattern\":{\"shape\":\"\"}},\"name\":\"\",\"offsetgroup\":\"\",\"orientation\":\"h\",\"showlegend\":false,\"text\":[69.0,60.0,34.0,122.0,11.0,129.0,49.0,70.0,135.0,198.0,104.0,19.0],\"textposition\":\"auto\",\"x\":[\"560.24B\",\"471.51B\",\"3.54T\",\"588.64B\",\"32.04B\",\"1.36T\",\"382.55B\",\"965.52B\",\"4.1T\",\"2.38T\",\"4.3T\",\"81.88B\"],\"xaxis\":\"x\",\"y\":[\"Communication Equipment\",\"Computer Hardware\",\"Consumer Electronics\",\"Electronic Components\",\"Electronics & Computer Distribution\",\"Information Technology Services\",\"Scientific & Technical Instruments\",\"Semiconductor Equipment & Materials\",\"Semiconductors\",\"Software\\u2014Application\",\"Software\\u2014Infrastructure\",\"Solar\"],\"yaxis\":\"y\",\"type\":\"bar\"}],                        {\"template\":{\"data\":{\"bar\":[{\"error_x\":{\"color\":\"#2a3f5f\"},\"error_y\":{\"color\":\"#2a3f5f\"},\"marker\":{\"line\":{\"color\":\"#E5ECF6\",\"width\":0.5},\"pattern\":{\"fillmode\":\"overlay\",\"size\":10,\"solidity\":0.2}},\"type\":\"bar\"}],\"barpolar\":[{\"marker\":{\"line\":{\"color\":\"#E5ECF6\",\"width\":0.5},\"pattern\":{\"fillmode\":\"overlay\",\"size\":10,\"solidity\":0.2}},\"type\":\"barpolar\"}],\"carpet\":[{\"aaxis\":{\"endlinecolor\":\"#2a3f5f\",\"gridcolor\":\"white\",\"linecolor\":\"white\",\"minorgridcolor\":\"white\",\"startlinecolor\":\"#2a3f5f\"},\"baxis\":{\"endlinecolor\":\"#2a3f5f\",\"gridcolor\":\"white\",\"linecolor\":\"white\",\"minorgridcolor\":\"white\",\"startlinecolor\":\"#2a3f5f\"},\"type\":\"carpet\"}],\"choropleth\":[{\"colorbar\":{\"outlinewidth\":0,\"ticks\":\"\"},\"type\":\"choropleth\"}],\"contour\":[{\"colorbar\":{\"outlinewidth\":0,\"ticks\":\"\"},\"colorscale\":[[0.0,\"#0d0887\"],[0.1111111111111111,\"#46039f\"],[0.2222222222222222,\"#7201a8\"],[0.3333333333333333,\"#9c179e\"],[0.4444444444444444,\"#bd3786\"],[0.5555555555555556,\"#d8576b\"],[0.6666666666666666,\"#ed7953\"],[0.7777777777777778,\"#fb9f3a\"],[0.8888888888888888,\"#fdca26\"],[1.0,\"#f0f921\"]],\"type\":\"contour\"}],\"contourcarpet\":[{\"colorbar\":{\"outlinewidth\":0,\"ticks\":\"\"},\"type\":\"contourcarpet\"}],\"heatmap\":[{\"colorbar\":{\"outlinewidth\":0,\"ticks\":\"\"},\"colorscale\":[[0.0,\"#0d0887\"],[0.1111111111111111,\"#46039f\"],[0.2222222222222222,\"#7201a8\"],[0.3333333333333333,\"#9c179e\"],[0.4444444444444444,\"#bd3786\"],[0.5555555555555556,\"#d8576b\"],[0.6666666666666666,\"#ed7953\"],[0.7777777777777778,\"#fb9f3a\"],[0.8888888888888888,\"#fdca26\"],[1.0,\"#f0f921\"]],\"type\":\"heatmap\"}],\"heatmapgl\":[{\"colorbar\":{\"outlinewidth\":0,\"ticks\":\"\"},\"colorscale\":[[0.0,\"#0d0887\"],[0.1111111111111111,\"#46039f\"],[0.2222222222222222,\"#7201a8\"],[0.3333333333333333,\"#9c179e\"],[0.4444444444444444,\"#bd3786\"],[0.5555555555555556,\"#d8576b\"],[0.6666666666666666,\"#ed7953\"],[0.7777777777777778,\"#fb9f3a\"],[0.8888888888888888,\"#fdca26\"],[1.0,\"#f0f921\"]],\"type\":\"heatmapgl\"}],\"histogram\":[{\"marker\":{\"pattern\":{\"fillmode\":\"overlay\",\"size\":10,\"solidity\":0.2}},\"type\":\"histogram\"}],\"histogram2d\":[{\"colorbar\":{\"outlinewidth\":0,\"ticks\":\"\"},\"colorscale\":[[0.0,\"#0d0887\"],[0.1111111111111111,\"#46039f\"],[0.2222222222222222,\"#7201a8\"],[0.3333333333333333,\"#9c179e\"],[0.4444444444444444,\"#bd3786\"],[0.5555555555555556,\"#d8576b\"],[0.6666666666666666,\"#ed7953\"],[0.7777777777777778,\"#fb9f3a\"],[0.8888888888888888,\"#fdca26\"],[1.0,\"#f0f921\"]],\"type\":\"histogram2d\"}],\"histogram2dcontour\":[{\"colorbar\":{\"outlinewidth\":0,\"ticks\":\"\"},\"colorscale\":[[0.0,\"#0d0887\"],[0.1111111111111111,\"#46039f\"],[0.2222222222222222,\"#7201a8\"],[0.3333333333333333,\"#9c179e\"],[0.4444444444444444,\"#bd3786\"],[0.5555555555555556,\"#d8576b\"],[0.6666666666666666,\"#ed7953\"],[0.7777777777777778,\"#fb9f3a\"],[0.8888888888888888,\"#fdca26\"],[1.0,\"#f0f921\"]],\"type\":\"histogram2dcontour\"}],\"mesh3d\":[{\"colorbar\":{\"outlinewidth\":0,\"ticks\":\"\"},\"type\":\"mesh3d\"}],\"parcoords\":[{\"line\":{\"colorbar\":{\"outlinewidth\":0,\"ticks\":\"\"}},\"type\":\"parcoords\"}],\"pie\":[{\"automargin\":true,\"type\":\"pie\"}],\"scatter\":[{\"marker\":{\"colorbar\":{\"outlinewidth\":0,\"ticks\":\"\"}},\"type\":\"scatter\"}],\"scatter3d\":[{\"line\":{\"colorbar\":{\"outlinewidth\":0,\"ticks\":\"\"}},\"marker\":{\"colorbar\":{\"outlinewidth\":0,\"ticks\":\"\"}},\"type\":\"scatter3d\"}],\"scattercarpet\":[{\"marker\":{\"colorbar\":{\"outlinewidth\":0,\"ticks\":\"\"}},\"type\":\"scattercarpet\"}],\"scattergeo\":[{\"marker\":{\"colorbar\":{\"outlinewidth\":0,\"ticks\":\"\"}},\"type\":\"scattergeo\"}],\"scattergl\":[{\"marker\":{\"colorbar\":{\"outlinewidth\":0,\"ticks\":\"\"}},\"type\":\"scattergl\"}],\"scattermapbox\":[{\"marker\":{\"colorbar\":{\"outlinewidth\":0,\"ticks\":\"\"}},\"type\":\"scattermapbox\"}],\"scatterpolar\":[{\"marker\":{\"colorbar\":{\"outlinewidth\":0,\"ticks\":\"\"}},\"type\":\"scatterpolar\"}],\"scatterpolargl\":[{\"marker\":{\"colorbar\":{\"outlinewidth\":0,\"ticks\":\"\"}},\"type\":\"scatterpolargl\"}],\"scatterternary\":[{\"marker\":{\"colorbar\":{\"outlinewidth\":0,\"ticks\":\"\"}},\"type\":\"scatterternary\"}],\"surface\":[{\"colorbar\":{\"outlinewidth\":0,\"ticks\":\"\"},\"colorscale\":[[0.0,\"#0d0887\"],[0.1111111111111111,\"#46039f\"],[0.2222222222222222,\"#7201a8\"],[0.3333333333333333,\"#9c179e\"],[0.4444444444444444,\"#bd3786\"],[0.5555555555555556,\"#d8576b\"],[0.6666666666666666,\"#ed7953\"],[0.7777777777777778,\"#fb9f3a\"],[0.8888888888888888,\"#fdca26\"],[1.0,\"#f0f921\"]],\"type\":\"surface\"}],\"table\":[{\"cells\":{\"fill\":{\"color\":\"#EBF0F8\"},\"line\":{\"color\":\"white\"}},\"header\":{\"fill\":{\"color\":\"#C8D4E3\"},\"line\":{\"color\":\"white\"}},\"type\":\"table\"}]},\"layout\":{\"annotationdefaults\":{\"arrowcolor\":\"#2a3f5f\",\"arrowhead\":0,\"arrowwidth\":1},\"autotypenumbers\":\"strict\",\"coloraxis\":{\"colorbar\":{\"outlinewidth\":0,\"ticks\":\"\"}},\"colorscale\":{\"diverging\":[[0,\"#8e0152\"],[0.1,\"#c51b7d\"],[0.2,\"#de77ae\"],[0.3,\"#f1b6da\"],[0.4,\"#fde0ef\"],[0.5,\"#f7f7f7\"],[0.6,\"#e6f5d0\"],[0.7,\"#b8e186\"],[0.8,\"#7fbc41\"],[0.9,\"#4d9221\"],[1,\"#276419\"]],\"sequential\":[[0.0,\"#0d0887\"],[0.1111111111111111,\"#46039f\"],[0.2222222222222222,\"#7201a8\"],[0.3333333333333333,\"#9c179e\"],[0.4444444444444444,\"#bd3786\"],[0.5555555555555556,\"#d8576b\"],[0.6666666666666666,\"#ed7953\"],[0.7777777777777778,\"#fb9f3a\"],[0.8888888888888888,\"#fdca26\"],[1.0,\"#f0f921\"]],\"sequentialminus\":[[0.0,\"#0d0887\"],[0.1111111111111111,\"#46039f\"],[0.2222222222222222,\"#7201a8\"],[0.3333333333333333,\"#9c179e\"],[0.4444444444444444,\"#bd3786\"],[0.5555555555555556,\"#d8576b\"],[0.6666666666666666,\"#ed7953\"],[0.7777777777777778,\"#fb9f3a\"],[0.8888888888888888,\"#fdca26\"],[1.0,\"#f0f921\"]]},\"colorway\":[\"#636efa\",\"#EF553B\",\"#00cc96\",\"#ab63fa\",\"#FFA15A\",\"#19d3f3\",\"#FF6692\",\"#B6E880\",\"#FF97FF\",\"#FECB52\"],\"font\":{\"color\":\"#2a3f5f\"},\"geo\":{\"bgcolor\":\"white\",\"lakecolor\":\"white\",\"landcolor\":\"#E5ECF6\",\"showlakes\":true,\"showland\":true,\"subunitcolor\":\"white\"},\"hoverlabel\":{\"align\":\"left\"},\"hovermode\":\"closest\",\"mapbox\":{\"style\":\"light\"},\"paper_bgcolor\":\"white\",\"plot_bgcolor\":\"#E5ECF6\",\"polar\":{\"angularaxis\":{\"gridcolor\":\"white\",\"linecolor\":\"white\",\"ticks\":\"\"},\"bgcolor\":\"#E5ECF6\",\"radialaxis\":{\"gridcolor\":\"white\",\"linecolor\":\"white\",\"ticks\":\"\"}},\"scene\":{\"xaxis\":{\"backgroundcolor\":\"#E5ECF6\",\"gridcolor\":\"white\",\"gridwidth\":2,\"linecolor\":\"white\",\"showbackground\":true,\"ticks\":\"\",\"zerolinecolor\":\"white\"},\"yaxis\":{\"backgroundcolor\":\"#E5ECF6\",\"gridcolor\":\"white\",\"gridwidth\":2,\"linecolor\":\"white\",\"showbackground\":true,\"ticks\":\"\",\"zerolinecolor\":\"white\"},\"zaxis\":{\"backgroundcolor\":\"#E5ECF6\",\"gridcolor\":\"white\",\"gridwidth\":2,\"linecolor\":\"white\",\"showbackground\":true,\"ticks\":\"\",\"zerolinecolor\":\"white\"}},\"shapedefaults\":{\"line\":{\"color\":\"#2a3f5f\"}},\"ternary\":{\"aaxis\":{\"gridcolor\":\"white\",\"linecolor\":\"white\",\"ticks\":\"\"},\"baxis\":{\"gridcolor\":\"white\",\"linecolor\":\"white\",\"ticks\":\"\"},\"bgcolor\":\"#E5ECF6\",\"caxis\":{\"gridcolor\":\"white\",\"linecolor\":\"white\",\"ticks\":\"\"}},\"title\":{\"x\":0.05},\"xaxis\":{\"automargin\":true,\"gridcolor\":\"white\",\"linecolor\":\"white\",\"ticks\":\"\",\"title\":{\"standoff\":15},\"zerolinecolor\":\"white\",\"zerolinewidth\":2},\"yaxis\":{\"automargin\":true,\"gridcolor\":\"white\",\"linecolor\":\"white\",\"ticks\":\"\",\"title\":{\"standoff\":15},\"zerolinecolor\":\"white\",\"zerolinewidth\":2}}},\"xaxis\":{\"anchor\":\"y\",\"domain\":[0.0,1.0],\"title\":{\"text\":\"Total Market Cap\"}},\"yaxis\":{\"anchor\":\"x\",\"domain\":[0.0,1.0],\"title\":{\"text\":\"Industry\"}},\"legend\":{\"tracegroupgap\":0},\"title\":{\"text\":\"Industry Comparison: Total Market Cap vs Company Count\"},\"barmode\":\"relative\"},                        {\"responsive\": true}                    ).then(function(){\n",
       "                            \n",
       "var gd = document.getElementById('4157baac-5ae6-4e11-830f-ce3fdd0bd07e');\n",
       "var x = new MutationObserver(function (mutations, observer) {{\n",
       "        var display = window.getComputedStyle(gd).display;\n",
       "        if (!display || display === 'none') {{\n",
       "            console.log([gd, 'removed!']);\n",
       "            Plotly.purge(gd);\n",
       "            observer.disconnect();\n",
       "        }}\n",
       "}});\n",
       "\n",
       "// Listen for the removal of the full notebook cells\n",
       "var notebookContainer = gd.closest('#notebook-container');\n",
       "if (notebookContainer) {{\n",
       "    x.observe(notebookContainer, {childList: true});\n",
       "}}\n",
       "\n",
       "// Listen for the clearing of the current output cell\n",
       "var outputEl = gd.closest('.output');\n",
       "if (outputEl) {{\n",
       "    x.observe(outputEl, {childList: true});\n",
       "}}\n",
       "\n",
       "                        })                };                });            </script>        </div>"
      ]
     },
     "metadata": {},
     "output_type": "display_data"
    }
   ],
   "source": [
    "import pandas as pd\n",
    "import plotly.express as px\n",
    "\n",
    "\n",
    "industry_stats = data.groupby('Industry').agg(Total_Market_Cap=('Market Cap', 'sum'),\n",
    "                                              Company_Count=('Company', 'count')).reset_index()\n",
    "\n",
    "industry_stats['Total_Market_Cap'] = industry_stats['Total_Market_Cap'].apply(numerize.numerize)\n",
    "\n",
    "fig = px.bar(\n",
    "    industry_stats, \n",
    "    y='Industry', \n",
    "    x='Total_Market_Cap', \n",
    "    text='Company_Count',\n",
    "    orientation='h',\n",
    "    title='Industry Comparison: Total Market Cap vs Company Count',\n",
    "    labels={'Total_Market_Cap': 'Total Market Cap', 'Industry': 'Industry'},\n",
    "    hover_data=['Company_Count']\n",
    ")\n",
    "\n",
    "\n",
    "fig.show()\n"
   ]
  },
  {
   "cell_type": "markdown",
   "id": "3578f1b7",
   "metadata": {},
   "source": [
    "# Competitive Analysis Report: "
   ]
  },
  {
   "cell_type": "code",
   "execution_count": null,
   "id": "ee3668af",
   "metadata": {},
   "outputs": [],
   "source": []
  },
  {
   "cell_type": "raw",
   "id": "9213358d",
   "metadata": {},
   "source": []
  },
  {
   "cell_type": "code",
   "execution_count": 182,
   "id": "06ef4fa8",
   "metadata": {},
   "outputs": [
    {
     "name": "stderr",
     "output_type": "stream",
     "text": [
      "/var/folders/7h/099t5t950s10yv3y5sz80ls00000gn/T/ipykernel_56706/2130771130.py:4: SettingWithCopyWarning:\n",
      "\n",
      "\n",
      "A value is trying to be set on a copy of a slice from a DataFrame.\n",
      "Try using .loc[row_indexer,col_indexer] = value instead\n",
      "\n",
      "See the caveats in the documentation: https://pandas.pydata.org/pandas-docs/stable/user_guide/indexing.html#returning-a-view-versus-a-copy\n",
      "\n"
     ]
    },
    {
     "data": {
      "text/html": [
       "<div>\n",
       "<style scoped>\n",
       "    .dataframe tbody tr th:only-of-type {\n",
       "        vertical-align: middle;\n",
       "    }\n",
       "\n",
       "    .dataframe tbody tr th {\n",
       "        vertical-align: top;\n",
       "    }\n",
       "\n",
       "    .dataframe thead th {\n",
       "        text-align: right;\n",
       "    }\n",
       "</style>\n",
       "<table border=\"1\" class=\"dataframe\">\n",
       "  <thead>\n",
       "    <tr style=\"text-align: right;\">\n",
       "      <th></th>\n",
       "      <th>Company</th>\n",
       "      <th>Market Cap</th>\n",
       "      <th>Rank</th>\n",
       "      <th>Industry</th>\n",
       "    </tr>\n",
       "  </thead>\n",
       "  <tbody>\n",
       "    <tr>\n",
       "      <th>0</th>\n",
       "      <td>Apple Inc.</td>\n",
       "      <td>2.87T</td>\n",
       "      <td>1.0</td>\n",
       "      <td>Consumer Electronics</td>\n",
       "    </tr>\n",
       "    <tr>\n",
       "      <th>5</th>\n",
       "      <td>Samsung Electronics Co., Ltd.</td>\n",
       "      <td>392.38B</td>\n",
       "      <td>2.0</td>\n",
       "      <td>Consumer Electronics</td>\n",
       "    </tr>\n",
       "    <tr>\n",
       "      <th>22</th>\n",
       "      <td>Sony Group Corporation</td>\n",
       "      <td>117.8B</td>\n",
       "      <td>3.0</td>\n",
       "      <td>Consumer Electronics</td>\n",
       "    </tr>\n",
       "    <tr>\n",
       "      <th>54</th>\n",
       "      <td>Xiaomi Corp</td>\n",
       "      <td>47.53B</td>\n",
       "      <td>4.0</td>\n",
       "      <td>Consumer Electronics</td>\n",
       "    </tr>\n",
       "    <tr>\n",
       "      <th>100</th>\n",
       "      <td>Panasonic Corp</td>\n",
       "      <td>23.71B</td>\n",
       "      <td>5.0</td>\n",
       "      <td>Consumer Electronics</td>\n",
       "    </tr>\n",
       "    <tr>\n",
       "      <th>106</th>\n",
       "      <td>Kyocera Corp</td>\n",
       "      <td>20.75B</td>\n",
       "      <td>6.0</td>\n",
       "      <td>Consumer Electronics</td>\n",
       "    </tr>\n",
       "    <tr>\n",
       "      <th>158</th>\n",
       "      <td>LG Electronics, Inc.</td>\n",
       "      <td>12.8B</td>\n",
       "      <td>7.0</td>\n",
       "      <td>Consumer Electronics</td>\n",
       "    </tr>\n",
       "    <tr>\n",
       "      <th>267</th>\n",
       "      <td>Mohawk Group Holdings, Inc.</td>\n",
       "      <td>6.4B</td>\n",
       "      <td>8.0</td>\n",
       "      <td>Consumer Electronics</td>\n",
       "    </tr>\n",
       "    <tr>\n",
       "      <th>338</th>\n",
       "      <td>Sharp Corp</td>\n",
       "      <td>4.83B</td>\n",
       "      <td>9.0</td>\n",
       "      <td>Consumer Electronics</td>\n",
       "    </tr>\n",
       "    <tr>\n",
       "      <th>348</th>\n",
       "      <td>Anker Innovations Ltd</td>\n",
       "      <td>4.69B</td>\n",
       "      <td>10.0</td>\n",
       "      <td>Consumer Electronics</td>\n",
       "    </tr>\n",
       "    <tr>\n",
       "      <th>384</th>\n",
       "      <td>Hisense Visual Technology Co. Ltd</td>\n",
       "      <td>3.97B</td>\n",
       "      <td>11.0</td>\n",
       "      <td>Consumer Electronics</td>\n",
       "    </tr>\n",
       "    <tr>\n",
       "      <th>403</th>\n",
       "      <td>LG Display Co. Ltd</td>\n",
       "      <td>3.67B</td>\n",
       "      <td>12.0</td>\n",
       "      <td>Consumer Electronics</td>\n",
       "    </tr>\n",
       "    <tr>\n",
       "      <th>431</th>\n",
       "      <td>Rinnai Corp</td>\n",
       "      <td>3.34B</td>\n",
       "      <td>13.0</td>\n",
       "      <td>Consumer Electronics</td>\n",
       "    </tr>\n",
       "    <tr>\n",
       "      <th>442</th>\n",
       "      <td>Sichuan Changhong Electric Co.,Ltd.</td>\n",
       "      <td>3.25B</td>\n",
       "      <td>14.0</td>\n",
       "      <td>Consumer Electronics</td>\n",
       "    </tr>\n",
       "    <tr>\n",
       "      <th>494</th>\n",
       "      <td>Dometic Group AB</td>\n",
       "      <td>2.8B</td>\n",
       "      <td>15.0</td>\n",
       "      <td>Consumer Electronics</td>\n",
       "    </tr>\n",
       "    <tr>\n",
       "      <th>513</th>\n",
       "      <td>Arçelik Anonim Sirketi</td>\n",
       "      <td>2.64B</td>\n",
       "      <td>16.0</td>\n",
       "      <td>Consumer Electronics</td>\n",
       "    </tr>\n",
       "    <tr>\n",
       "      <th>558</th>\n",
       "      <td>DBG Technology Co. Ltd</td>\n",
       "      <td>2.25B</td>\n",
       "      <td>17.0</td>\n",
       "      <td>Consumer Electronics</td>\n",
       "    </tr>\n",
       "    <tr>\n",
       "      <th>598</th>\n",
       "      <td>Casio Computer Co.,Ltd.</td>\n",
       "      <td>2.02B</td>\n",
       "      <td>18.0</td>\n",
       "      <td>Consumer Electronics</td>\n",
       "    </tr>\n",
       "    <tr>\n",
       "      <th>600</th>\n",
       "      <td>Sonos, Inc.</td>\n",
       "      <td>2.01B</td>\n",
       "      <td>19.0</td>\n",
       "      <td>Consumer Electronics</td>\n",
       "    </tr>\n",
       "    <tr>\n",
       "      <th>627</th>\n",
       "      <td>Alps Alpine Co Ltd</td>\n",
       "      <td>1.83B</td>\n",
       "      <td>20.0</td>\n",
       "      <td>Consumer Electronics</td>\n",
       "    </tr>\n",
       "    <tr>\n",
       "      <th>644</th>\n",
       "      <td>Kingclean Electric Co.Ltd</td>\n",
       "      <td>1.76B</td>\n",
       "      <td>21.0</td>\n",
       "      <td>Consumer Electronics</td>\n",
       "    </tr>\n",
       "    <tr>\n",
       "      <th>651</th>\n",
       "      <td>Sharetronic Data Technology Co. Ltd</td>\n",
       "      <td>1.72B</td>\n",
       "      <td>22.0</td>\n",
       "      <td>Consumer Electronics</td>\n",
       "    </tr>\n",
       "    <tr>\n",
       "      <th>682</th>\n",
       "      <td>Appotronics Corp Ltd</td>\n",
       "      <td>1.58B</td>\n",
       "      <td>23.0</td>\n",
       "      <td>Consumer Electronics</td>\n",
       "    </tr>\n",
       "    <tr>\n",
       "      <th>715</th>\n",
       "      <td>VIZIO Holding Corp</td>\n",
       "      <td>1.47B</td>\n",
       "      <td>24.0</td>\n",
       "      <td>Consumer Electronics</td>\n",
       "    </tr>\n",
       "    <tr>\n",
       "      <th>740</th>\n",
       "      <td>Whirlpool SA</td>\n",
       "      <td>1.38B</td>\n",
       "      <td>25.0</td>\n",
       "      <td>Consumer Electronics</td>\n",
       "    </tr>\n",
       "    <tr>\n",
       "      <th>791</th>\n",
       "      <td>Maytronics Ltd</td>\n",
       "      <td>1.2B</td>\n",
       "      <td>26.5</td>\n",
       "      <td>Consumer Electronics</td>\n",
       "    </tr>\n",
       "    <tr>\n",
       "      <th>788</th>\n",
       "      <td>Sichuan Furong Technology Co. Ltd</td>\n",
       "      <td>1.2B</td>\n",
       "      <td>26.5</td>\n",
       "      <td>Consumer Electronics</td>\n",
       "    </tr>\n",
       "    <tr>\n",
       "      <th>854</th>\n",
       "      <td>iRobot Corporation</td>\n",
       "      <td>1.05B</td>\n",
       "      <td>28.0</td>\n",
       "      <td>Consumer Electronics</td>\n",
       "    </tr>\n",
       "    <tr>\n",
       "      <th>914</th>\n",
       "      <td>Coretronic Corp</td>\n",
       "      <td>946.9M</td>\n",
       "      <td>29.0</td>\n",
       "      <td>Consumer Electronics</td>\n",
       "    </tr>\n",
       "    <tr>\n",
       "      <th>933</th>\n",
       "      <td>Skyworth Group Ltd</td>\n",
       "      <td>920.1M</td>\n",
       "      <td>30.0</td>\n",
       "      <td>Consumer Electronics</td>\n",
       "    </tr>\n",
       "    <tr>\n",
       "      <th>957</th>\n",
       "      <td>Vestel Beyaz Esya Sanayi ve Ticaret A.S.</td>\n",
       "      <td>891.1M</td>\n",
       "      <td>31.0</td>\n",
       "      <td>Consumer Electronics</td>\n",
       "    </tr>\n",
       "    <tr>\n",
       "      <th>973</th>\n",
       "      <td>Shenzhen Absen Optoelectronic Co.,Ltd.</td>\n",
       "      <td>857.8M</td>\n",
       "      <td>32.0</td>\n",
       "      <td>Consumer Electronics</td>\n",
       "    </tr>\n",
       "    <tr>\n",
       "      <th>988</th>\n",
       "      <td>JVCKENWOOD Corp</td>\n",
       "      <td>831.7M</td>\n",
       "      <td>33.0</td>\n",
       "      <td>Consumer Electronics</td>\n",
       "    </tr>\n",
       "    <tr>\n",
       "      <th>990</th>\n",
       "      <td>Guodian Nanjing Automation Co. Ltd</td>\n",
       "      <td>830.4M</td>\n",
       "      <td>34.0</td>\n",
       "      <td>Consumer Electronics</td>\n",
       "    </tr>\n",
       "  </tbody>\n",
       "</table>\n",
       "</div>"
      ],
      "text/plain": [
       "                                      Company Market Cap  Rank  \\\n",
       "0                                  Apple Inc.      2.87T   1.0   \n",
       "5               Samsung Electronics Co., Ltd.    392.38B   2.0   \n",
       "22                     Sony Group Corporation     117.8B   3.0   \n",
       "54                                Xiaomi Corp     47.53B   4.0   \n",
       "100                            Panasonic Corp     23.71B   5.0   \n",
       "106                              Kyocera Corp     20.75B   6.0   \n",
       "158                      LG Electronics, Inc.      12.8B   7.0   \n",
       "267               Mohawk Group Holdings, Inc.       6.4B   8.0   \n",
       "338                                Sharp Corp      4.83B   9.0   \n",
       "348                     Anker Innovations Ltd      4.69B  10.0   \n",
       "384         Hisense Visual Technology Co. Ltd      3.97B  11.0   \n",
       "403                        LG Display Co. Ltd      3.67B  12.0   \n",
       "431                               Rinnai Corp      3.34B  13.0   \n",
       "442       Sichuan Changhong Electric Co.,Ltd.      3.25B  14.0   \n",
       "494                          Dometic Group AB       2.8B  15.0   \n",
       "513                    Arçelik Anonim Sirketi      2.64B  16.0   \n",
       "558                    DBG Technology Co. Ltd      2.25B  17.0   \n",
       "598                   Casio Computer Co.,Ltd.      2.02B  18.0   \n",
       "600                               Sonos, Inc.      2.01B  19.0   \n",
       "627                        Alps Alpine Co Ltd      1.83B  20.0   \n",
       "644                 Kingclean Electric Co.Ltd      1.76B  21.0   \n",
       "651       Sharetronic Data Technology Co. Ltd      1.72B  22.0   \n",
       "682                      Appotronics Corp Ltd      1.58B  23.0   \n",
       "715                        VIZIO Holding Corp      1.47B  24.0   \n",
       "740                              Whirlpool SA      1.38B  25.0   \n",
       "791                            Maytronics Ltd       1.2B  26.5   \n",
       "788         Sichuan Furong Technology Co. Ltd       1.2B  26.5   \n",
       "854                        iRobot Corporation      1.05B  28.0   \n",
       "914                           Coretronic Corp     946.9M  29.0   \n",
       "933                        Skyworth Group Ltd     920.1M  30.0   \n",
       "957  Vestel Beyaz Esya Sanayi ve Ticaret A.S.     891.1M  31.0   \n",
       "973    Shenzhen Absen Optoelectronic Co.,Ltd.     857.8M  32.0   \n",
       "988                           JVCKENWOOD Corp     831.7M  33.0   \n",
       "990        Guodian Nanjing Automation Co. Ltd     830.4M  34.0   \n",
       "\n",
       "                 Industry  \n",
       "0    Consumer Electronics  \n",
       "5    Consumer Electronics  \n",
       "22   Consumer Electronics  \n",
       "54   Consumer Electronics  \n",
       "100  Consumer Electronics  \n",
       "106  Consumer Electronics  \n",
       "158  Consumer Electronics  \n",
       "267  Consumer Electronics  \n",
       "338  Consumer Electronics  \n",
       "348  Consumer Electronics  \n",
       "384  Consumer Electronics  \n",
       "403  Consumer Electronics  \n",
       "431  Consumer Electronics  \n",
       "442  Consumer Electronics  \n",
       "494  Consumer Electronics  \n",
       "513  Consumer Electronics  \n",
       "558  Consumer Electronics  \n",
       "598  Consumer Electronics  \n",
       "600  Consumer Electronics  \n",
       "627  Consumer Electronics  \n",
       "644  Consumer Electronics  \n",
       "651  Consumer Electronics  \n",
       "682  Consumer Electronics  \n",
       "715  Consumer Electronics  \n",
       "740  Consumer Electronics  \n",
       "791  Consumer Electronics  \n",
       "788  Consumer Electronics  \n",
       "854  Consumer Electronics  \n",
       "914  Consumer Electronics  \n",
       "933  Consumer Electronics  \n",
       "957  Consumer Electronics  \n",
       "973  Consumer Electronics  \n",
       "988  Consumer Electronics  \n",
       "990  Consumer Electronics  "
      ]
     },
     "metadata": {},
     "output_type": "display_data"
    },
    {
     "name": "stderr",
     "output_type": "stream",
     "text": [
      "/var/folders/7h/099t5t950s10yv3y5sz80ls00000gn/T/ipykernel_56706/2130771130.py:4: SettingWithCopyWarning:\n",
      "\n",
      "\n",
      "A value is trying to be set on a copy of a slice from a DataFrame.\n",
      "Try using .loc[row_indexer,col_indexer] = value instead\n",
      "\n",
      "See the caveats in the documentation: https://pandas.pydata.org/pandas-docs/stable/user_guide/indexing.html#returning-a-view-versus-a-copy\n",
      "\n"
     ]
    },
    {
     "data": {
      "text/html": [
       "<div>\n",
       "<style scoped>\n",
       "    .dataframe tbody tr th:only-of-type {\n",
       "        vertical-align: middle;\n",
       "    }\n",
       "\n",
       "    .dataframe tbody tr th {\n",
       "        vertical-align: top;\n",
       "    }\n",
       "\n",
       "    .dataframe thead th {\n",
       "        text-align: right;\n",
       "    }\n",
       "</style>\n",
       "<table border=\"1\" class=\"dataframe\">\n",
       "  <thead>\n",
       "    <tr style=\"text-align: right;\">\n",
       "      <th></th>\n",
       "      <th>Company</th>\n",
       "      <th>Market Cap</th>\n",
       "      <th>Rank</th>\n",
       "      <th>Industry</th>\n",
       "    </tr>\n",
       "  </thead>\n",
       "  <tbody>\n",
       "    <tr>\n",
       "      <th>1</th>\n",
       "      <td>Microsoft Corporation</td>\n",
       "      <td>2.76T</td>\n",
       "      <td>1.0</td>\n",
       "      <td>Software—Infrastructure</td>\n",
       "    </tr>\n",
       "    <tr>\n",
       "      <th>7</th>\n",
       "      <td>Oracle Corporation</td>\n",
       "      <td>282.01B</td>\n",
       "      <td>2.0</td>\n",
       "      <td>Software—Infrastructure</td>\n",
       "    </tr>\n",
       "    <tr>\n",
       "      <th>8</th>\n",
       "      <td>Adobe Inc.</td>\n",
       "      <td>260.23B</td>\n",
       "      <td>3.0</td>\n",
       "      <td>Software—Infrastructure</td>\n",
       "    </tr>\n",
       "    <tr>\n",
       "      <th>29</th>\n",
       "      <td>Palo Alto Networks, Inc.</td>\n",
       "      <td>90.41B</td>\n",
       "      <td>4.0</td>\n",
       "      <td>Software—Infrastructure</td>\n",
       "    </tr>\n",
       "    <tr>\n",
       "      <th>35</th>\n",
       "      <td>Synopsys, Inc.</td>\n",
       "      <td>74.64B</td>\n",
       "      <td>5.0</td>\n",
       "      <td>Software—Infrastructure</td>\n",
       "    </tr>\n",
       "    <tr>\n",
       "      <th>...</th>\n",
       "      <td>...</td>\n",
       "      <td>...</td>\n",
       "      <td>...</td>\n",
       "      <td>...</td>\n",
       "    </tr>\n",
       "    <tr>\n",
       "      <th>937</th>\n",
       "      <td>Wirtualna Polska Holding SA</td>\n",
       "      <td>912M</td>\n",
       "      <td>100.0</td>\n",
       "      <td>Software—Infrastructure</td>\n",
       "    </tr>\n",
       "    <tr>\n",
       "      <th>941</th>\n",
       "      <td>Spirent Communications plc</td>\n",
       "      <td>908.3M</td>\n",
       "      <td>101.0</td>\n",
       "      <td>Software—Infrastructure</td>\n",
       "    </tr>\n",
       "    <tr>\n",
       "      <th>952</th>\n",
       "      <td>Equiniti Group plc</td>\n",
       "      <td>896.8M</td>\n",
       "      <td>102.0</td>\n",
       "      <td>Software—Infrastructure</td>\n",
       "    </tr>\n",
       "    <tr>\n",
       "      <th>982</th>\n",
       "      <td>Sunyard Technology Co.,Ltd</td>\n",
       "      <td>846.4M</td>\n",
       "      <td>103.0</td>\n",
       "      <td>Software—Infrastructure</td>\n",
       "    </tr>\n",
       "    <tr>\n",
       "      <th>997</th>\n",
       "      <td>Yeahka Ltd</td>\n",
       "      <td>819.3M</td>\n",
       "      <td>104.0</td>\n",
       "      <td>Software—Infrastructure</td>\n",
       "    </tr>\n",
       "  </tbody>\n",
       "</table>\n",
       "<p>104 rows × 4 columns</p>\n",
       "</div>"
      ],
      "text/plain": [
       "                         Company Market Cap   Rank                 Industry\n",
       "1          Microsoft Corporation      2.76T    1.0  Software—Infrastructure\n",
       "7             Oracle Corporation    282.01B    2.0  Software—Infrastructure\n",
       "8                     Adobe Inc.    260.23B    3.0  Software—Infrastructure\n",
       "29      Palo Alto Networks, Inc.     90.41B    4.0  Software—Infrastructure\n",
       "35                Synopsys, Inc.     74.64B    5.0  Software—Infrastructure\n",
       "..                           ...        ...    ...                      ...\n",
       "937  Wirtualna Polska Holding SA       912M  100.0  Software—Infrastructure\n",
       "941   Spirent Communications plc     908.3M  101.0  Software—Infrastructure\n",
       "952           Equiniti Group plc     896.8M  102.0  Software—Infrastructure\n",
       "982   Sunyard Technology Co.,Ltd     846.4M  103.0  Software—Infrastructure\n",
       "997                   Yeahka Ltd     819.3M  104.0  Software—Infrastructure\n",
       "\n",
       "[104 rows x 4 columns]"
      ]
     },
     "metadata": {},
     "output_type": "display_data"
    },
    {
     "name": "stderr",
     "output_type": "stream",
     "text": [
      "/var/folders/7h/099t5t950s10yv3y5sz80ls00000gn/T/ipykernel_56706/2130771130.py:4: SettingWithCopyWarning:\n",
      "\n",
      "\n",
      "A value is trying to be set on a copy of a slice from a DataFrame.\n",
      "Try using .loc[row_indexer,col_indexer] = value instead\n",
      "\n",
      "See the caveats in the documentation: https://pandas.pydata.org/pandas-docs/stable/user_guide/indexing.html#returning-a-view-versus-a-copy\n",
      "\n"
     ]
    },
    {
     "data": {
      "text/html": [
       "<div>\n",
       "<style scoped>\n",
       "    .dataframe tbody tr th:only-of-type {\n",
       "        vertical-align: middle;\n",
       "    }\n",
       "\n",
       "    .dataframe tbody tr th {\n",
       "        vertical-align: top;\n",
       "    }\n",
       "\n",
       "    .dataframe thead th {\n",
       "        text-align: right;\n",
       "    }\n",
       "</style>\n",
       "<table border=\"1\" class=\"dataframe\">\n",
       "  <thead>\n",
       "    <tr style=\"text-align: right;\">\n",
       "      <th></th>\n",
       "      <th>Company</th>\n",
       "      <th>Market Cap</th>\n",
       "      <th>Rank</th>\n",
       "      <th>Industry</th>\n",
       "    </tr>\n",
       "  </thead>\n",
       "  <tbody>\n",
       "    <tr>\n",
       "      <th>2</th>\n",
       "      <td>Nvidia Corporation</td>\n",
       "      <td>1.19T</td>\n",
       "      <td>1.0</td>\n",
       "      <td>Semiconductors</td>\n",
       "    </tr>\n",
       "    <tr>\n",
       "      <th>3</th>\n",
       "      <td>Broadcom Inc.</td>\n",
       "      <td>495.95B</td>\n",
       "      <td>2.0</td>\n",
       "      <td>Semiconductors</td>\n",
       "    </tr>\n",
       "    <tr>\n",
       "      <th>4</th>\n",
       "      <td>Taiwan Semiconductor Manufacturing Company Lim...</td>\n",
       "      <td>487.64B</td>\n",
       "      <td>3.0</td>\n",
       "      <td>Semiconductors</td>\n",
       "    </tr>\n",
       "    <tr>\n",
       "      <th>10</th>\n",
       "      <td>Advanced Micro Devices, Inc.</td>\n",
       "      <td>219.72B</td>\n",
       "      <td>4.0</td>\n",
       "      <td>Semiconductors</td>\n",
       "    </tr>\n",
       "    <tr>\n",
       "      <th>13</th>\n",
       "      <td>Intel Corporation</td>\n",
       "      <td>198.49B</td>\n",
       "      <td>5.0</td>\n",
       "      <td>Semiconductors</td>\n",
       "    </tr>\n",
       "    <tr>\n",
       "      <th>...</th>\n",
       "      <td>...</td>\n",
       "      <td>...</td>\n",
       "      <td>...</td>\n",
       "      <td>...</td>\n",
       "    </tr>\n",
       "    <tr>\n",
       "      <th>976</th>\n",
       "      <td>TKD Science and Technology Co.,Ltd.</td>\n",
       "      <td>855.5M</td>\n",
       "      <td>131.0</td>\n",
       "      <td>Semiconductors</td>\n",
       "    </tr>\n",
       "    <tr>\n",
       "      <th>980</th>\n",
       "      <td>Tri Chemical Laboratories, Inc.</td>\n",
       "      <td>848M</td>\n",
       "      <td>132.0</td>\n",
       "      <td>Semiconductors</td>\n",
       "    </tr>\n",
       "    <tr>\n",
       "      <th>984</th>\n",
       "      <td>Shanghai Bright Power Semiconductor Co. Ltd</td>\n",
       "      <td>843.3M</td>\n",
       "      <td>133.0</td>\n",
       "      <td>Semiconductors</td>\n",
       "    </tr>\n",
       "    <tr>\n",
       "      <th>987</th>\n",
       "      <td>Elite Semiconductor Microelectronics Tech, Inc.</td>\n",
       "      <td>838.2M</td>\n",
       "      <td>134.0</td>\n",
       "      <td>Semiconductors</td>\n",
       "    </tr>\n",
       "    <tr>\n",
       "      <th>993</th>\n",
       "      <td>Wuxi Chipown Micro-electronics Ltd</td>\n",
       "      <td>829.8M</td>\n",
       "      <td>135.0</td>\n",
       "      <td>Semiconductors</td>\n",
       "    </tr>\n",
       "  </tbody>\n",
       "</table>\n",
       "<p>135 rows × 4 columns</p>\n",
       "</div>"
      ],
      "text/plain": [
       "                                               Company Market Cap   Rank  \\\n",
       "2                                   Nvidia Corporation      1.19T    1.0   \n",
       "3                                        Broadcom Inc.    495.95B    2.0   \n",
       "4    Taiwan Semiconductor Manufacturing Company Lim...    487.64B    3.0   \n",
       "10                        Advanced Micro Devices, Inc.    219.72B    4.0   \n",
       "13                                   Intel Corporation    198.49B    5.0   \n",
       "..                                                 ...        ...    ...   \n",
       "976                TKD Science and Technology Co.,Ltd.     855.5M  131.0   \n",
       "980                    Tri Chemical Laboratories, Inc.       848M  132.0   \n",
       "984        Shanghai Bright Power Semiconductor Co. Ltd     843.3M  133.0   \n",
       "987    Elite Semiconductor Microelectronics Tech, Inc.     838.2M  134.0   \n",
       "993                 Wuxi Chipown Micro-electronics Ltd     829.8M  135.0   \n",
       "\n",
       "           Industry  \n",
       "2    Semiconductors  \n",
       "3    Semiconductors  \n",
       "4    Semiconductors  \n",
       "10   Semiconductors  \n",
       "13   Semiconductors  \n",
       "..              ...  \n",
       "976  Semiconductors  \n",
       "980  Semiconductors  \n",
       "984  Semiconductors  \n",
       "987  Semiconductors  \n",
       "993  Semiconductors  \n",
       "\n",
       "[135 rows x 4 columns]"
      ]
     },
     "metadata": {},
     "output_type": "display_data"
    },
    {
     "name": "stderr",
     "output_type": "stream",
     "text": [
      "/var/folders/7h/099t5t950s10yv3y5sz80ls00000gn/T/ipykernel_56706/2130771130.py:4: SettingWithCopyWarning:\n",
      "\n",
      "\n",
      "A value is trying to be set on a copy of a slice from a DataFrame.\n",
      "Try using .loc[row_indexer,col_indexer] = value instead\n",
      "\n",
      "See the caveats in the documentation: https://pandas.pydata.org/pandas-docs/stable/user_guide/indexing.html#returning-a-view-versus-a-copy\n",
      "\n"
     ]
    },
    {
     "data": {
      "text/html": [
       "<div>\n",
       "<style scoped>\n",
       "    .dataframe tbody tr th:only-of-type {\n",
       "        vertical-align: middle;\n",
       "    }\n",
       "\n",
       "    .dataframe tbody tr th {\n",
       "        vertical-align: top;\n",
       "    }\n",
       "\n",
       "    .dataframe thead th {\n",
       "        text-align: right;\n",
       "    }\n",
       "</style>\n",
       "<table border=\"1\" class=\"dataframe\">\n",
       "  <thead>\n",
       "    <tr style=\"text-align: right;\">\n",
       "      <th></th>\n",
       "      <th>Company</th>\n",
       "      <th>Market Cap</th>\n",
       "      <th>Rank</th>\n",
       "      <th>Industry</th>\n",
       "    </tr>\n",
       "  </thead>\n",
       "  <tbody>\n",
       "    <tr>\n",
       "      <th>6</th>\n",
       "      <td>ASML Holding N.V.</td>\n",
       "      <td>297.1B</td>\n",
       "      <td>1.0</td>\n",
       "      <td>Semiconductor Equipment &amp; Materials</td>\n",
       "    </tr>\n",
       "    <tr>\n",
       "      <th>20</th>\n",
       "      <td>Applied Materials, Inc.</td>\n",
       "      <td>125.87B</td>\n",
       "      <td>2.0</td>\n",
       "      <td>Semiconductor Equipment &amp; Materials</td>\n",
       "    </tr>\n",
       "    <tr>\n",
       "      <th>25</th>\n",
       "      <td>Lam Research Corporation</td>\n",
       "      <td>97.14B</td>\n",
       "      <td>3.0</td>\n",
       "      <td>Semiconductor Equipment &amp; Materials</td>\n",
       "    </tr>\n",
       "    <tr>\n",
       "      <th>30</th>\n",
       "      <td>Tokyo Electron Ltd</td>\n",
       "      <td>83.64B</td>\n",
       "      <td>4.0</td>\n",
       "      <td>Semiconductor Equipment &amp; Materials</td>\n",
       "    </tr>\n",
       "    <tr>\n",
       "      <th>33</th>\n",
       "      <td>KLA Corporation</td>\n",
       "      <td>75.13B</td>\n",
       "      <td>5.0</td>\n",
       "      <td>Semiconductor Equipment &amp; Materials</td>\n",
       "    </tr>\n",
       "    <tr>\n",
       "      <th>...</th>\n",
       "      <td>...</td>\n",
       "      <td>...</td>\n",
       "      <td>...</td>\n",
       "      <td>...</td>\n",
       "    </tr>\n",
       "    <tr>\n",
       "      <th>912</th>\n",
       "      <td>Ichor Holdings, Ltd.</td>\n",
       "      <td>948.7M</td>\n",
       "      <td>66.0</td>\n",
       "      <td>Semiconductor Equipment &amp; Materials</td>\n",
       "    </tr>\n",
       "    <tr>\n",
       "      <th>917</th>\n",
       "      <td>Jilin Sino-Microelectronics Co. Ltd</td>\n",
       "      <td>942.9M</td>\n",
       "      <td>67.0</td>\n",
       "      <td>Semiconductor Equipment &amp; Materials</td>\n",
       "    </tr>\n",
       "    <tr>\n",
       "      <th>954</th>\n",
       "      <td>Taiwan Surface Mounting Technology Corp</td>\n",
       "      <td>893.9M</td>\n",
       "      <td>68.0</td>\n",
       "      <td>Semiconductor Equipment &amp; Materials</td>\n",
       "    </tr>\n",
       "    <tr>\n",
       "      <th>983</th>\n",
       "      <td>Chipsea Technologies</td>\n",
       "      <td>843.5M</td>\n",
       "      <td>69.0</td>\n",
       "      <td>Semiconductor Equipment &amp; Materials</td>\n",
       "    </tr>\n",
       "    <tr>\n",
       "      <th>991</th>\n",
       "      <td>Jiangyin Jianghua Microelectronics Materials C...</td>\n",
       "      <td>830M</td>\n",
       "      <td>70.0</td>\n",
       "      <td>Semiconductor Equipment &amp; Materials</td>\n",
       "    </tr>\n",
       "  </tbody>\n",
       "</table>\n",
       "<p>70 rows × 4 columns</p>\n",
       "</div>"
      ],
      "text/plain": [
       "                                               Company Market Cap  Rank  \\\n",
       "6                                    ASML Holding N.V.     297.1B   1.0   \n",
       "20                             Applied Materials, Inc.    125.87B   2.0   \n",
       "25                            Lam Research Corporation     97.14B   3.0   \n",
       "30                                  Tokyo Electron Ltd     83.64B   4.0   \n",
       "33                                     KLA Corporation     75.13B   5.0   \n",
       "..                                                 ...        ...   ...   \n",
       "912                               Ichor Holdings, Ltd.     948.7M  66.0   \n",
       "917                Jilin Sino-Microelectronics Co. Ltd     942.9M  67.0   \n",
       "954            Taiwan Surface Mounting Technology Corp     893.9M  68.0   \n",
       "983                               Chipsea Technologies     843.5M  69.0   \n",
       "991  Jiangyin Jianghua Microelectronics Materials C...       830M  70.0   \n",
       "\n",
       "                                Industry  \n",
       "6    Semiconductor Equipment & Materials  \n",
       "20   Semiconductor Equipment & Materials  \n",
       "25   Semiconductor Equipment & Materials  \n",
       "30   Semiconductor Equipment & Materials  \n",
       "33   Semiconductor Equipment & Materials  \n",
       "..                                   ...  \n",
       "912  Semiconductor Equipment & Materials  \n",
       "917  Semiconductor Equipment & Materials  \n",
       "954  Semiconductor Equipment & Materials  \n",
       "983  Semiconductor Equipment & Materials  \n",
       "991  Semiconductor Equipment & Materials  \n",
       "\n",
       "[70 rows x 4 columns]"
      ]
     },
     "metadata": {},
     "output_type": "display_data"
    },
    {
     "name": "stderr",
     "output_type": "stream",
     "text": [
      "/var/folders/7h/099t5t950s10yv3y5sz80ls00000gn/T/ipykernel_56706/2130771130.py:4: SettingWithCopyWarning:\n",
      "\n",
      "\n",
      "A value is trying to be set on a copy of a slice from a DataFrame.\n",
      "Try using .loc[row_indexer,col_indexer] = value instead\n",
      "\n",
      "See the caveats in the documentation: https://pandas.pydata.org/pandas-docs/stable/user_guide/indexing.html#returning-a-view-versus-a-copy\n",
      "\n"
     ]
    },
    {
     "data": {
      "text/html": [
       "<div>\n",
       "<style scoped>\n",
       "    .dataframe tbody tr th:only-of-type {\n",
       "        vertical-align: middle;\n",
       "    }\n",
       "\n",
       "    .dataframe tbody tr th {\n",
       "        vertical-align: top;\n",
       "    }\n",
       "\n",
       "    .dataframe thead th {\n",
       "        text-align: right;\n",
       "    }\n",
       "</style>\n",
       "<table border=\"1\" class=\"dataframe\">\n",
       "  <thead>\n",
       "    <tr style=\"text-align: right;\">\n",
       "      <th></th>\n",
       "      <th>Company</th>\n",
       "      <th>Market Cap</th>\n",
       "      <th>Rank</th>\n",
       "      <th>Industry</th>\n",
       "    </tr>\n",
       "  </thead>\n",
       "  <tbody>\n",
       "    <tr>\n",
       "      <th>9</th>\n",
       "      <td>salesforce.com, inc.</td>\n",
       "      <td>243.78B</td>\n",
       "      <td>1.0</td>\n",
       "      <td>Software—Application</td>\n",
       "    </tr>\n",
       "    <tr>\n",
       "      <th>14</th>\n",
       "      <td>SAP SE</td>\n",
       "      <td>175.44B</td>\n",
       "      <td>2.0</td>\n",
       "      <td>Software—Application</td>\n",
       "    </tr>\n",
       "    <tr>\n",
       "      <th>15</th>\n",
       "      <td>Intuit Inc.</td>\n",
       "      <td>165.41B</td>\n",
       "      <td>3.0</td>\n",
       "      <td>Software—Application</td>\n",
       "    </tr>\n",
       "    <tr>\n",
       "      <th>19</th>\n",
       "      <td>ServiceNow, Inc.</td>\n",
       "      <td>138.47B</td>\n",
       "      <td>4.0</td>\n",
       "      <td>Software—Application</td>\n",
       "    </tr>\n",
       "    <tr>\n",
       "      <th>21</th>\n",
       "      <td>Uber Technologies, Inc.</td>\n",
       "      <td>119.87B</td>\n",
       "      <td>5.0</td>\n",
       "      <td>Software—Application</td>\n",
       "    </tr>\n",
       "    <tr>\n",
       "      <th>...</th>\n",
       "      <td>...</td>\n",
       "      <td>...</td>\n",
       "      <td>...</td>\n",
       "      <td>...</td>\n",
       "    </tr>\n",
       "    <tr>\n",
       "      <th>968</th>\n",
       "      <td>TomTom N.V.</td>\n",
       "      <td>869.8M</td>\n",
       "      <td>194.0</td>\n",
       "      <td>Software—Application</td>\n",
       "    </tr>\n",
       "    <tr>\n",
       "      <th>969</th>\n",
       "      <td>DuoLun Technology Corp Ltd</td>\n",
       "      <td>866.9M</td>\n",
       "      <td>195.0</td>\n",
       "      <td>Software—Application</td>\n",
       "    </tr>\n",
       "    <tr>\n",
       "      <th>985</th>\n",
       "      <td>GuoChuang Software Co.,Ltd.</td>\n",
       "      <td>842.1M</td>\n",
       "      <td>196.0</td>\n",
       "      <td>Software—Application</td>\n",
       "    </tr>\n",
       "    <tr>\n",
       "      <th>989</th>\n",
       "      <td>Olo, Inc.</td>\n",
       "      <td>830.7M</td>\n",
       "      <td>197.0</td>\n",
       "      <td>Software—Application</td>\n",
       "    </tr>\n",
       "    <tr>\n",
       "      <th>999</th>\n",
       "      <td>Fujian Foxit Software Development Joint Stock ...</td>\n",
       "      <td>811.5M</td>\n",
       "      <td>198.0</td>\n",
       "      <td>Software—Application</td>\n",
       "    </tr>\n",
       "  </tbody>\n",
       "</table>\n",
       "<p>198 rows × 4 columns</p>\n",
       "</div>"
      ],
      "text/plain": [
       "                                               Company Market Cap   Rank  \\\n",
       "9                                 salesforce.com, inc.    243.78B    1.0   \n",
       "14                                              SAP SE    175.44B    2.0   \n",
       "15                                         Intuit Inc.    165.41B    3.0   \n",
       "19                                    ServiceNow, Inc.    138.47B    4.0   \n",
       "21                             Uber Technologies, Inc.    119.87B    5.0   \n",
       "..                                                 ...        ...    ...   \n",
       "968                                        TomTom N.V.     869.8M  194.0   \n",
       "969                         DuoLun Technology Corp Ltd     866.9M  195.0   \n",
       "985                        GuoChuang Software Co.,Ltd.     842.1M  196.0   \n",
       "989                                          Olo, Inc.     830.7M  197.0   \n",
       "999  Fujian Foxit Software Development Joint Stock ...     811.5M  198.0   \n",
       "\n",
       "                 Industry  \n",
       "9    Software—Application  \n",
       "14   Software—Application  \n",
       "15   Software—Application  \n",
       "19   Software—Application  \n",
       "21   Software—Application  \n",
       "..                    ...  \n",
       "968  Software—Application  \n",
       "969  Software—Application  \n",
       "985  Software—Application  \n",
       "989  Software—Application  \n",
       "999  Software—Application  \n",
       "\n",
       "[198 rows x 4 columns]"
      ]
     },
     "metadata": {},
     "output_type": "display_data"
    },
    {
     "name": "stderr",
     "output_type": "stream",
     "text": [
      "/var/folders/7h/099t5t950s10yv3y5sz80ls00000gn/T/ipykernel_56706/2130771130.py:4: SettingWithCopyWarning:\n",
      "\n",
      "\n",
      "A value is trying to be set on a copy of a slice from a DataFrame.\n",
      "Try using .loc[row_indexer,col_indexer] = value instead\n",
      "\n",
      "See the caveats in the documentation: https://pandas.pydata.org/pandas-docs/stable/user_guide/indexing.html#returning-a-view-versus-a-copy\n",
      "\n"
     ]
    },
    {
     "data": {
      "text/html": [
       "<div>\n",
       "<style scoped>\n",
       "    .dataframe tbody tr th:only-of-type {\n",
       "        vertical-align: middle;\n",
       "    }\n",
       "\n",
       "    .dataframe tbody tr th {\n",
       "        vertical-align: top;\n",
       "    }\n",
       "\n",
       "    .dataframe thead th {\n",
       "        text-align: right;\n",
       "    }\n",
       "</style>\n",
       "<table border=\"1\" class=\"dataframe\">\n",
       "  <thead>\n",
       "    <tr style=\"text-align: right;\">\n",
       "      <th></th>\n",
       "      <th>Company</th>\n",
       "      <th>Market Cap</th>\n",
       "      <th>Rank</th>\n",
       "      <th>Industry</th>\n",
       "    </tr>\n",
       "  </thead>\n",
       "  <tbody>\n",
       "    <tr>\n",
       "      <th>11</th>\n",
       "      <td>Accenture plc</td>\n",
       "      <td>211.87B</td>\n",
       "      <td>1.0</td>\n",
       "      <td>Information Technology Services</td>\n",
       "    </tr>\n",
       "    <tr>\n",
       "      <th>18</th>\n",
       "      <td>International Business Machines Corporation</td>\n",
       "      <td>146.88B</td>\n",
       "      <td>2.0</td>\n",
       "      <td>Information Technology Services</td>\n",
       "    </tr>\n",
       "    <tr>\n",
       "      <th>23</th>\n",
       "      <td>SinoCloud Group Ltd</td>\n",
       "      <td>117.42B</td>\n",
       "      <td>3.0</td>\n",
       "      <td>Information Technology Services</td>\n",
       "    </tr>\n",
       "    <tr>\n",
       "      <th>31</th>\n",
       "      <td>Fiserv, Inc.</td>\n",
       "      <td>79.73B</td>\n",
       "      <td>4.0</td>\n",
       "      <td>Information Technology Services</td>\n",
       "    </tr>\n",
       "    <tr>\n",
       "      <th>34</th>\n",
       "      <td>Infosys Limited</td>\n",
       "      <td>74.79B</td>\n",
       "      <td>5.0</td>\n",
       "      <td>Information Technology Services</td>\n",
       "    </tr>\n",
       "    <tr>\n",
       "      <th>...</th>\n",
       "      <td>...</td>\n",
       "      <td>...</td>\n",
       "      <td>...</td>\n",
       "      <td>...</td>\n",
       "    </tr>\n",
       "    <tr>\n",
       "      <th>964</th>\n",
       "      <td>Beijing Thunisoft Co. Ltd</td>\n",
       "      <td>878.5M</td>\n",
       "      <td>125.0</td>\n",
       "      <td>Information Technology Services</td>\n",
       "    </tr>\n",
       "    <tr>\n",
       "      <th>965</th>\n",
       "      <td>Shanghai Golden Bridge Info Tech Co. Ltd</td>\n",
       "      <td>876.3M</td>\n",
       "      <td>126.0</td>\n",
       "      <td>Information Technology Services</td>\n",
       "    </tr>\n",
       "    <tr>\n",
       "      <th>972</th>\n",
       "      <td>GFT Technologies SE</td>\n",
       "      <td>858.3M</td>\n",
       "      <td>127.0</td>\n",
       "      <td>Information Technology Services</td>\n",
       "    </tr>\n",
       "    <tr>\n",
       "      <th>978</th>\n",
       "      <td>Systena Corp</td>\n",
       "      <td>850M</td>\n",
       "      <td>128.0</td>\n",
       "      <td>Information Technology Services</td>\n",
       "    </tr>\n",
       "    <tr>\n",
       "      <th>996</th>\n",
       "      <td>transcosmos, Inc.</td>\n",
       "      <td>819.5M</td>\n",
       "      <td>129.0</td>\n",
       "      <td>Information Technology Services</td>\n",
       "    </tr>\n",
       "  </tbody>\n",
       "</table>\n",
       "<p>129 rows × 4 columns</p>\n",
       "</div>"
      ],
      "text/plain": [
       "                                         Company Market Cap   Rank  \\\n",
       "11                                 Accenture plc    211.87B    1.0   \n",
       "18   International Business Machines Corporation    146.88B    2.0   \n",
       "23                           SinoCloud Group Ltd    117.42B    3.0   \n",
       "31                                  Fiserv, Inc.     79.73B    4.0   \n",
       "34                               Infosys Limited     74.79B    5.0   \n",
       "..                                           ...        ...    ...   \n",
       "964                    Beijing Thunisoft Co. Ltd     878.5M  125.0   \n",
       "965     Shanghai Golden Bridge Info Tech Co. Ltd     876.3M  126.0   \n",
       "972                          GFT Technologies SE     858.3M  127.0   \n",
       "978                                 Systena Corp       850M  128.0   \n",
       "996                            transcosmos, Inc.     819.5M  129.0   \n",
       "\n",
       "                            Industry  \n",
       "11   Information Technology Services  \n",
       "18   Information Technology Services  \n",
       "23   Information Technology Services  \n",
       "31   Information Technology Services  \n",
       "34   Information Technology Services  \n",
       "..                               ...  \n",
       "964  Information Technology Services  \n",
       "965  Information Technology Services  \n",
       "972  Information Technology Services  \n",
       "978  Information Technology Services  \n",
       "996  Information Technology Services  \n",
       "\n",
       "[129 rows x 4 columns]"
      ]
     },
     "metadata": {},
     "output_type": "display_data"
    },
    {
     "name": "stderr",
     "output_type": "stream",
     "text": [
      "/var/folders/7h/099t5t950s10yv3y5sz80ls00000gn/T/ipykernel_56706/2130771130.py:4: SettingWithCopyWarning:\n",
      "\n",
      "\n",
      "A value is trying to be set on a copy of a slice from a DataFrame.\n",
      "Try using .loc[row_indexer,col_indexer] = value instead\n",
      "\n",
      "See the caveats in the documentation: https://pandas.pydata.org/pandas-docs/stable/user_guide/indexing.html#returning-a-view-versus-a-copy\n",
      "\n"
     ]
    },
    {
     "data": {
      "text/html": [
       "<div>\n",
       "<style scoped>\n",
       "    .dataframe tbody tr th:only-of-type {\n",
       "        vertical-align: middle;\n",
       "    }\n",
       "\n",
       "    .dataframe tbody tr th {\n",
       "        vertical-align: top;\n",
       "    }\n",
       "\n",
       "    .dataframe thead th {\n",
       "        text-align: right;\n",
       "    }\n",
       "</style>\n",
       "<table border=\"1\" class=\"dataframe\">\n",
       "  <thead>\n",
       "    <tr style=\"text-align: right;\">\n",
       "      <th></th>\n",
       "      <th>Company</th>\n",
       "      <th>Market Cap</th>\n",
       "      <th>Rank</th>\n",
       "      <th>Industry</th>\n",
       "    </tr>\n",
       "  </thead>\n",
       "  <tbody>\n",
       "    <tr>\n",
       "      <th>12</th>\n",
       "      <td>Cisco Systems, Inc.</td>\n",
       "      <td>205.21B</td>\n",
       "      <td>1.0</td>\n",
       "      <td>Communication Equipment</td>\n",
       "    </tr>\n",
       "    <tr>\n",
       "      <th>48</th>\n",
       "      <td>Motorola Solutions, Inc.</td>\n",
       "      <td>51.78B</td>\n",
       "      <td>2.0</td>\n",
       "      <td>Communication Equipment</td>\n",
       "    </tr>\n",
       "    <tr>\n",
       "      <th>63</th>\n",
       "      <td>Foxconn Industrial Internet Co. Ltd</td>\n",
       "      <td>38.82B</td>\n",
       "      <td>3.0</td>\n",
       "      <td>Communication Equipment</td>\n",
       "    </tr>\n",
       "    <tr>\n",
       "      <th>104</th>\n",
       "      <td>Hewlett Packard Enterprise Company</td>\n",
       "      <td>22.15B</td>\n",
       "      <td>4.0</td>\n",
       "      <td>Communication Equipment</td>\n",
       "    </tr>\n",
       "    <tr>\n",
       "      <th>105</th>\n",
       "      <td>Telefonaktiebolaget LM Ericsson</td>\n",
       "      <td>20.89B</td>\n",
       "      <td>5.0</td>\n",
       "      <td>Communication Equipment</td>\n",
       "    </tr>\n",
       "    <tr>\n",
       "      <th>...</th>\n",
       "      <td>...</td>\n",
       "      <td>...</td>\n",
       "      <td>...</td>\n",
       "      <td>...</td>\n",
       "    </tr>\n",
       "    <tr>\n",
       "      <th>922</th>\n",
       "      <td>Shenzhen Gongjin Electronics Co. Ltd</td>\n",
       "      <td>931.9M</td>\n",
       "      <td>65.0</td>\n",
       "      <td>Communication Equipment</td>\n",
       "    </tr>\n",
       "    <tr>\n",
       "      <th>958</th>\n",
       "      <td>Digi International Inc.</td>\n",
       "      <td>888.7M</td>\n",
       "      <td>66.0</td>\n",
       "      <td>Communication Equipment</td>\n",
       "    </tr>\n",
       "    <tr>\n",
       "      <th>961</th>\n",
       "      <td>Invisio AB</td>\n",
       "      <td>885.8M</td>\n",
       "      <td>67.0</td>\n",
       "      <td>Communication Equipment</td>\n",
       "    </tr>\n",
       "    <tr>\n",
       "      <th>974</th>\n",
       "      <td>WuHan Yangtze Communication Industry Group Co....</td>\n",
       "      <td>856.9M</td>\n",
       "      <td>68.0</td>\n",
       "      <td>Communication Equipment</td>\n",
       "    </tr>\n",
       "    <tr>\n",
       "      <th>979</th>\n",
       "      <td>Hengxin Shambala Culture Co.,Ltd.</td>\n",
       "      <td>849.9M</td>\n",
       "      <td>69.0</td>\n",
       "      <td>Communication Equipment</td>\n",
       "    </tr>\n",
       "  </tbody>\n",
       "</table>\n",
       "<p>69 rows × 4 columns</p>\n",
       "</div>"
      ],
      "text/plain": [
       "                                               Company Market Cap  Rank  \\\n",
       "12                                 Cisco Systems, Inc.    205.21B   1.0   \n",
       "48                            Motorola Solutions, Inc.     51.78B   2.0   \n",
       "63                 Foxconn Industrial Internet Co. Ltd     38.82B   3.0   \n",
       "104                 Hewlett Packard Enterprise Company     22.15B   4.0   \n",
       "105                    Telefonaktiebolaget LM Ericsson     20.89B   5.0   \n",
       "..                                                 ...        ...   ...   \n",
       "922               Shenzhen Gongjin Electronics Co. Ltd     931.9M  65.0   \n",
       "958                            Digi International Inc.     888.7M  66.0   \n",
       "961                                         Invisio AB     885.8M  67.0   \n",
       "974  WuHan Yangtze Communication Industry Group Co....     856.9M  68.0   \n",
       "979                  Hengxin Shambala Culture Co.,Ltd.     849.9M  69.0   \n",
       "\n",
       "                    Industry  \n",
       "12   Communication Equipment  \n",
       "48   Communication Equipment  \n",
       "63   Communication Equipment  \n",
       "104  Communication Equipment  \n",
       "105  Communication Equipment  \n",
       "..                       ...  \n",
       "922  Communication Equipment  \n",
       "958  Communication Equipment  \n",
       "961  Communication Equipment  \n",
       "974  Communication Equipment  \n",
       "979  Communication Equipment  \n",
       "\n",
       "[69 rows x 4 columns]"
      ]
     },
     "metadata": {},
     "output_type": "display_data"
    },
    {
     "name": "stderr",
     "output_type": "stream",
     "text": [
      "/var/folders/7h/099t5t950s10yv3y5sz80ls00000gn/T/ipykernel_56706/2130771130.py:4: SettingWithCopyWarning:\n",
      "\n",
      "\n",
      "A value is trying to be set on a copy of a slice from a DataFrame.\n",
      "Try using .loc[row_indexer,col_indexer] = value instead\n",
      "\n",
      "See the caveats in the documentation: https://pandas.pydata.org/pandas-docs/stable/user_guide/indexing.html#returning-a-view-versus-a-copy\n",
      "\n"
     ]
    },
    {
     "data": {
      "text/html": [
       "<div>\n",
       "<style scoped>\n",
       "    .dataframe tbody tr th:only-of-type {\n",
       "        vertical-align: middle;\n",
       "    }\n",
       "\n",
       "    .dataframe tbody tr th {\n",
       "        vertical-align: top;\n",
       "    }\n",
       "\n",
       "    .dataframe thead th {\n",
       "        text-align: right;\n",
       "    }\n",
       "</style>\n",
       "<table border=\"1\" class=\"dataframe\">\n",
       "  <thead>\n",
       "    <tr style=\"text-align: right;\">\n",
       "      <th></th>\n",
       "      <th>Company</th>\n",
       "      <th>Market Cap</th>\n",
       "      <th>Rank</th>\n",
       "      <th>Industry</th>\n",
       "    </tr>\n",
       "  </thead>\n",
       "  <tbody>\n",
       "    <tr>\n",
       "      <th>24</th>\n",
       "      <td>Keyence Corp</td>\n",
       "      <td>106.65B</td>\n",
       "      <td>1.0</td>\n",
       "      <td>Scientific &amp; Technical Instruments</td>\n",
       "    </tr>\n",
       "    <tr>\n",
       "      <th>73</th>\n",
       "      <td>Hexagon AB</td>\n",
       "      <td>32.17B</td>\n",
       "      <td>2.0</td>\n",
       "      <td>Scientific &amp; Technical Instruments</td>\n",
       "    </tr>\n",
       "    <tr>\n",
       "      <th>89</th>\n",
       "      <td>Keysight Technologies, Inc.</td>\n",
       "      <td>26.37B</td>\n",
       "      <td>3.0</td>\n",
       "      <td>Scientific &amp; Technical Instruments</td>\n",
       "    </tr>\n",
       "    <tr>\n",
       "      <th>97</th>\n",
       "      <td>Fortive Corporation</td>\n",
       "      <td>25.13B</td>\n",
       "      <td>4.0</td>\n",
       "      <td>Scientific &amp; Technical Instruments</td>\n",
       "    </tr>\n",
       "    <tr>\n",
       "      <th>99</th>\n",
       "      <td>Garmin Ltd.</td>\n",
       "      <td>23.75B</td>\n",
       "      <td>5.0</td>\n",
       "      <td>Scientific &amp; Technical Instruments</td>\n",
       "    </tr>\n",
       "    <tr>\n",
       "      <th>103</th>\n",
       "      <td>Lasertec Corp</td>\n",
       "      <td>23.1B</td>\n",
       "      <td>6.0</td>\n",
       "      <td>Scientific &amp; Technical Instruments</td>\n",
       "    </tr>\n",
       "    <tr>\n",
       "      <th>108</th>\n",
       "      <td>Teledyne Technologies Incorporated</td>\n",
       "      <td>20.73B</td>\n",
       "      <td>7.0</td>\n",
       "      <td>Scientific &amp; Technical Instruments</td>\n",
       "    </tr>\n",
       "    <tr>\n",
       "      <th>160</th>\n",
       "      <td>Trimble Inc.</td>\n",
       "      <td>12.69B</td>\n",
       "      <td>8.0</td>\n",
       "      <td>Scientific &amp; Technical Instruments</td>\n",
       "    </tr>\n",
       "    <tr>\n",
       "      <th>220</th>\n",
       "      <td>Shimadzu Corp</td>\n",
       "      <td>8.33B</td>\n",
       "      <td>9.0</td>\n",
       "      <td>Scientific &amp; Technical Instruments</td>\n",
       "    </tr>\n",
       "    <tr>\n",
       "      <th>258</th>\n",
       "      <td>Cognex Corporation</td>\n",
       "      <td>6.72B</td>\n",
       "      <td>10.0</td>\n",
       "      <td>Scientific &amp; Technical Instruments</td>\n",
       "    </tr>\n",
       "    <tr>\n",
       "      <th>263</th>\n",
       "      <td>MKS Instruments, Inc.</td>\n",
       "      <td>6.54B</td>\n",
       "      <td>11.0</td>\n",
       "      <td>Scientific &amp; Technical Instruments</td>\n",
       "    </tr>\n",
       "    <tr>\n",
       "      <th>274</th>\n",
       "      <td>Coherent, Inc.</td>\n",
       "      <td>6.23B</td>\n",
       "      <td>12.0</td>\n",
       "      <td>Scientific &amp; Technical Instruments</td>\n",
       "    </tr>\n",
       "    <tr>\n",
       "      <th>298</th>\n",
       "      <td>Novanta Inc.</td>\n",
       "      <td>5.58B</td>\n",
       "      <td>13.0</td>\n",
       "      <td>Scientific &amp; Technical Instruments</td>\n",
       "    </tr>\n",
       "    <tr>\n",
       "      <th>302</th>\n",
       "      <td>Sensata Technologies Holding plc</td>\n",
       "      <td>5.48B</td>\n",
       "      <td>14.0</td>\n",
       "      <td>Scientific &amp; Technical Instruments</td>\n",
       "    </tr>\n",
       "    <tr>\n",
       "      <th>304</th>\n",
       "      <td>II-VI Incorporated</td>\n",
       "      <td>5.44B</td>\n",
       "      <td>15.0</td>\n",
       "      <td>Scientific &amp; Technical Instruments</td>\n",
       "    </tr>\n",
       "    <tr>\n",
       "      <th>313</th>\n",
       "      <td>Vontier Corporation</td>\n",
       "      <td>5.16B</td>\n",
       "      <td>16.0</td>\n",
       "      <td>Scientific &amp; Technical Instruments</td>\n",
       "    </tr>\n",
       "    <tr>\n",
       "      <th>333</th>\n",
       "      <td>Spectris plc</td>\n",
       "      <td>4.89B</td>\n",
       "      <td>17.0</td>\n",
       "      <td>Scientific &amp; Technical Instruments</td>\n",
       "    </tr>\n",
       "    <tr>\n",
       "      <th>411</th>\n",
       "      <td>Zhonghang Electronic Measuring Instruments Co....</td>\n",
       "      <td>3.54B</td>\n",
       "      <td>18.0</td>\n",
       "      <td>Scientific &amp; Technical Instruments</td>\n",
       "    </tr>\n",
       "    <tr>\n",
       "      <th>421</th>\n",
       "      <td>INFICON Holding AG</td>\n",
       "      <td>3.39B</td>\n",
       "      <td>19.0</td>\n",
       "      <td>Scientific &amp; Technical Instruments</td>\n",
       "    </tr>\n",
       "    <tr>\n",
       "      <th>433</th>\n",
       "      <td>Renishaw plc</td>\n",
       "      <td>3.32B</td>\n",
       "      <td>20.0</td>\n",
       "      <td>Scientific &amp; Technical Instruments</td>\n",
       "    </tr>\n",
       "    <tr>\n",
       "      <th>447</th>\n",
       "      <td>Itron, Inc.</td>\n",
       "      <td>3.22B</td>\n",
       "      <td>21.0</td>\n",
       "      <td>Scientific &amp; Technical Instruments</td>\n",
       "    </tr>\n",
       "    <tr>\n",
       "      <th>458</th>\n",
       "      <td>HORIBA Ltd</td>\n",
       "      <td>3.13B</td>\n",
       "      <td>22.0</td>\n",
       "      <td>Scientific &amp; Technical Instruments</td>\n",
       "    </tr>\n",
       "    <tr>\n",
       "      <th>468</th>\n",
       "      <td>Wuhan Jingce Electronic Group Co. Ltd</td>\n",
       "      <td>3.02B</td>\n",
       "      <td>23.0</td>\n",
       "      <td>Scientific &amp; Technical Instruments</td>\n",
       "    </tr>\n",
       "    <tr>\n",
       "      <th>478</th>\n",
       "      <td>Chroma ATE, Inc.</td>\n",
       "      <td>2.98B</td>\n",
       "      <td>24.0</td>\n",
       "      <td>Scientific &amp; Technical Instruments</td>\n",
       "    </tr>\n",
       "    <tr>\n",
       "      <th>506</th>\n",
       "      <td>ESCO Technologies Inc.</td>\n",
       "      <td>2.68B</td>\n",
       "      <td>25.0</td>\n",
       "      <td>Scientific &amp; Technical Instruments</td>\n",
       "    </tr>\n",
       "    <tr>\n",
       "      <th>547</th>\n",
       "      <td>Comet Holding AG</td>\n",
       "      <td>2.31B</td>\n",
       "      <td>26.0</td>\n",
       "      <td>Scientific &amp; Technical Instruments</td>\n",
       "    </tr>\n",
       "    <tr>\n",
       "      <th>553</th>\n",
       "      <td>Navtech, Inc.</td>\n",
       "      <td>2.28B</td>\n",
       "      <td>27.0</td>\n",
       "      <td>Scientific &amp; Technical Instruments</td>\n",
       "    </tr>\n",
       "    <tr>\n",
       "      <th>567</th>\n",
       "      <td>Shanghai Huace Navigation Technology Ltd</td>\n",
       "      <td>2.19B</td>\n",
       "      <td>28.0</td>\n",
       "      <td>Scientific &amp; Technical Instruments</td>\n",
       "    </tr>\n",
       "    <tr>\n",
       "      <th>573</th>\n",
       "      <td>JEOL Ltd</td>\n",
       "      <td>2.16B</td>\n",
       "      <td>29.0</td>\n",
       "      <td>Scientific &amp; Technical Instruments</td>\n",
       "    </tr>\n",
       "    <tr>\n",
       "      <th>653</th>\n",
       "      <td>Wuhan Raycus Fiber Laser Technologies Co.,Ltd.</td>\n",
       "      <td>1.72B</td>\n",
       "      <td>30.0</td>\n",
       "      <td>Scientific &amp; Technical Instruments</td>\n",
       "    </tr>\n",
       "    <tr>\n",
       "      <th>658</th>\n",
       "      <td>Amano Corp</td>\n",
       "      <td>1.7B</td>\n",
       "      <td>31.0</td>\n",
       "      <td>Scientific &amp; Technical Instruments</td>\n",
       "    </tr>\n",
       "    <tr>\n",
       "      <th>670</th>\n",
       "      <td>Jingjin Environmental Protection Co.,Ltd.</td>\n",
       "      <td>1.64B</td>\n",
       "      <td>32.0</td>\n",
       "      <td>Scientific &amp; Technical Instruments</td>\n",
       "    </tr>\n",
       "    <tr>\n",
       "      <th>696</th>\n",
       "      <td>Vaisala Oyj</td>\n",
       "      <td>1.52B</td>\n",
       "      <td>33.0</td>\n",
       "      <td>Scientific &amp; Technical Instruments</td>\n",
       "    </tr>\n",
       "    <tr>\n",
       "      <th>721</th>\n",
       "      <td>Sensirion Holding AG</td>\n",
       "      <td>1.45B</td>\n",
       "      <td>34.0</td>\n",
       "      <td>Scientific &amp; Technical Instruments</td>\n",
       "    </tr>\n",
       "    <tr>\n",
       "      <th>732</th>\n",
       "      <td>Ningbo Yongxin Optics Co. Ltd</td>\n",
       "      <td>1.42B</td>\n",
       "      <td>35.0</td>\n",
       "      <td>Scientific &amp; Technical Instruments</td>\n",
       "    </tr>\n",
       "    <tr>\n",
       "      <th>755</th>\n",
       "      <td>SuperMap Software Co. Ltd</td>\n",
       "      <td>1.33B</td>\n",
       "      <td>36.0</td>\n",
       "      <td>Scientific &amp; Technical Instruments</td>\n",
       "    </tr>\n",
       "    <tr>\n",
       "      <th>794</th>\n",
       "      <td>Suzhou Sushi Testing Group Co.,Ltd.</td>\n",
       "      <td>1.19B</td>\n",
       "      <td>37.0</td>\n",
       "      <td>Scientific &amp; Technical Instruments</td>\n",
       "    </tr>\n",
       "    <tr>\n",
       "      <th>799</th>\n",
       "      <td>Topcon Corp</td>\n",
       "      <td>1.17B</td>\n",
       "      <td>38.0</td>\n",
       "      <td>Scientific &amp; Technical Instruments</td>\n",
       "    </tr>\n",
       "    <tr>\n",
       "      <th>813</th>\n",
       "      <td>Beijing Ctrowell Technology Corp Ltd</td>\n",
       "      <td>1.15B</td>\n",
       "      <td>39.0</td>\n",
       "      <td>Scientific &amp; Technical Instruments</td>\n",
       "    </tr>\n",
       "    <tr>\n",
       "      <th>872</th>\n",
       "      <td>Codan Limited</td>\n",
       "      <td>1.01B</td>\n",
       "      <td>40.0</td>\n",
       "      <td>Scientific &amp; Technical Instruments</td>\n",
       "    </tr>\n",
       "    <tr>\n",
       "      <th>892</th>\n",
       "      <td>Beijing Highlander Digital Technology Co. Ltd</td>\n",
       "      <td>968.7M</td>\n",
       "      <td>41.0</td>\n",
       "      <td>Scientific &amp; Technical Instruments</td>\n",
       "    </tr>\n",
       "    <tr>\n",
       "      <th>893</th>\n",
       "      <td>ChemoMetec A/S</td>\n",
       "      <td>968.3M</td>\n",
       "      <td>42.0</td>\n",
       "      <td>Scientific &amp; Technical Instruments</td>\n",
       "    </tr>\n",
       "    <tr>\n",
       "      <th>913</th>\n",
       "      <td>Focused Photonics</td>\n",
       "      <td>948.1M</td>\n",
       "      <td>43.0</td>\n",
       "      <td>Scientific &amp; Technical Instruments</td>\n",
       "    </tr>\n",
       "    <tr>\n",
       "      <th>921</th>\n",
       "      <td>Qingdao Eastsoft Communication Technology Co.,Ltd</td>\n",
       "      <td>931.9M</td>\n",
       "      <td>44.0</td>\n",
       "      <td>Scientific &amp; Technical Instruments</td>\n",
       "    </tr>\n",
       "    <tr>\n",
       "      <th>930</th>\n",
       "      <td>Jiangsu DongHua Testing Technology Co. Ltd</td>\n",
       "      <td>921.1M</td>\n",
       "      <td>45.0</td>\n",
       "      <td>Scientific &amp; Technical Instruments</td>\n",
       "    </tr>\n",
       "    <tr>\n",
       "      <th>970</th>\n",
       "      <td>Hanwei Electronics Group Corp</td>\n",
       "      <td>861.4M</td>\n",
       "      <td>46.0</td>\n",
       "      <td>Scientific &amp; Technical Instruments</td>\n",
       "    </tr>\n",
       "    <tr>\n",
       "      <th>994</th>\n",
       "      <td>Qingdao Topscomm Communication, Inc.</td>\n",
       "      <td>829.4M</td>\n",
       "      <td>47.0</td>\n",
       "      <td>Scientific &amp; Technical Instruments</td>\n",
       "    </tr>\n",
       "    <tr>\n",
       "      <th>995</th>\n",
       "      <td>Henan Thinker Automatic Equipment Co.,Ltd.</td>\n",
       "      <td>825.4M</td>\n",
       "      <td>48.0</td>\n",
       "      <td>Scientific &amp; Technical Instruments</td>\n",
       "    </tr>\n",
       "    <tr>\n",
       "      <th>998</th>\n",
       "      <td>Beijing Wanji Technology Co. Ltd</td>\n",
       "      <td>816.1M</td>\n",
       "      <td>49.0</td>\n",
       "      <td>Scientific &amp; Technical Instruments</td>\n",
       "    </tr>\n",
       "  </tbody>\n",
       "</table>\n",
       "</div>"
      ],
      "text/plain": [
       "                                               Company Market Cap  Rank  \\\n",
       "24                                        Keyence Corp    106.65B   1.0   \n",
       "73                                          Hexagon AB     32.17B   2.0   \n",
       "89                         Keysight Technologies, Inc.     26.37B   3.0   \n",
       "97                                 Fortive Corporation     25.13B   4.0   \n",
       "99                                         Garmin Ltd.     23.75B   5.0   \n",
       "103                                      Lasertec Corp      23.1B   6.0   \n",
       "108                 Teledyne Technologies Incorporated     20.73B   7.0   \n",
       "160                                       Trimble Inc.     12.69B   8.0   \n",
       "220                                      Shimadzu Corp      8.33B   9.0   \n",
       "258                                 Cognex Corporation      6.72B  10.0   \n",
       "263                              MKS Instruments, Inc.      6.54B  11.0   \n",
       "274                                     Coherent, Inc.      6.23B  12.0   \n",
       "298                                       Novanta Inc.      5.58B  13.0   \n",
       "302                   Sensata Technologies Holding plc      5.48B  14.0   \n",
       "304                                 II-VI Incorporated      5.44B  15.0   \n",
       "313                                Vontier Corporation      5.16B  16.0   \n",
       "333                                       Spectris plc      4.89B  17.0   \n",
       "411  Zhonghang Electronic Measuring Instruments Co....      3.54B  18.0   \n",
       "421                                 INFICON Holding AG      3.39B  19.0   \n",
       "433                                       Renishaw plc      3.32B  20.0   \n",
       "447                                        Itron, Inc.      3.22B  21.0   \n",
       "458                                         HORIBA Ltd      3.13B  22.0   \n",
       "468              Wuhan Jingce Electronic Group Co. Ltd      3.02B  23.0   \n",
       "478                                   Chroma ATE, Inc.      2.98B  24.0   \n",
       "506                             ESCO Technologies Inc.      2.68B  25.0   \n",
       "547                                   Comet Holding AG      2.31B  26.0   \n",
       "553                                      Navtech, Inc.      2.28B  27.0   \n",
       "567           Shanghai Huace Navigation Technology Ltd      2.19B  28.0   \n",
       "573                                           JEOL Ltd      2.16B  29.0   \n",
       "653     Wuhan Raycus Fiber Laser Technologies Co.,Ltd.      1.72B  30.0   \n",
       "658                                         Amano Corp       1.7B  31.0   \n",
       "670          Jingjin Environmental Protection Co.,Ltd.      1.64B  32.0   \n",
       "696                                        Vaisala Oyj      1.52B  33.0   \n",
       "721                               Sensirion Holding AG      1.45B  34.0   \n",
       "732                      Ningbo Yongxin Optics Co. Ltd      1.42B  35.0   \n",
       "755                          SuperMap Software Co. Ltd      1.33B  36.0   \n",
       "794                Suzhou Sushi Testing Group Co.,Ltd.      1.19B  37.0   \n",
       "799                                        Topcon Corp      1.17B  38.0   \n",
       "813               Beijing Ctrowell Technology Corp Ltd      1.15B  39.0   \n",
       "872                                      Codan Limited      1.01B  40.0   \n",
       "892      Beijing Highlander Digital Technology Co. Ltd     968.7M  41.0   \n",
       "893                                     ChemoMetec A/S     968.3M  42.0   \n",
       "913                                  Focused Photonics     948.1M  43.0   \n",
       "921  Qingdao Eastsoft Communication Technology Co.,Ltd     931.9M  44.0   \n",
       "930         Jiangsu DongHua Testing Technology Co. Ltd     921.1M  45.0   \n",
       "970                      Hanwei Electronics Group Corp     861.4M  46.0   \n",
       "994               Qingdao Topscomm Communication, Inc.     829.4M  47.0   \n",
       "995         Henan Thinker Automatic Equipment Co.,Ltd.     825.4M  48.0   \n",
       "998                   Beijing Wanji Technology Co. Ltd     816.1M  49.0   \n",
       "\n",
       "                               Industry  \n",
       "24   Scientific & Technical Instruments  \n",
       "73   Scientific & Technical Instruments  \n",
       "89   Scientific & Technical Instruments  \n",
       "97   Scientific & Technical Instruments  \n",
       "99   Scientific & Technical Instruments  \n",
       "103  Scientific & Technical Instruments  \n",
       "108  Scientific & Technical Instruments  \n",
       "160  Scientific & Technical Instruments  \n",
       "220  Scientific & Technical Instruments  \n",
       "258  Scientific & Technical Instruments  \n",
       "263  Scientific & Technical Instruments  \n",
       "274  Scientific & Technical Instruments  \n",
       "298  Scientific & Technical Instruments  \n",
       "302  Scientific & Technical Instruments  \n",
       "304  Scientific & Technical Instruments  \n",
       "313  Scientific & Technical Instruments  \n",
       "333  Scientific & Technical Instruments  \n",
       "411  Scientific & Technical Instruments  \n",
       "421  Scientific & Technical Instruments  \n",
       "433  Scientific & Technical Instruments  \n",
       "447  Scientific & Technical Instruments  \n",
       "458  Scientific & Technical Instruments  \n",
       "468  Scientific & Technical Instruments  \n",
       "478  Scientific & Technical Instruments  \n",
       "506  Scientific & Technical Instruments  \n",
       "547  Scientific & Technical Instruments  \n",
       "553  Scientific & Technical Instruments  \n",
       "567  Scientific & Technical Instruments  \n",
       "573  Scientific & Technical Instruments  \n",
       "653  Scientific & Technical Instruments  \n",
       "658  Scientific & Technical Instruments  \n",
       "670  Scientific & Technical Instruments  \n",
       "696  Scientific & Technical Instruments  \n",
       "721  Scientific & Technical Instruments  \n",
       "732  Scientific & Technical Instruments  \n",
       "755  Scientific & Technical Instruments  \n",
       "794  Scientific & Technical Instruments  \n",
       "799  Scientific & Technical Instruments  \n",
       "813  Scientific & Technical Instruments  \n",
       "872  Scientific & Technical Instruments  \n",
       "892  Scientific & Technical Instruments  \n",
       "893  Scientific & Technical Instruments  \n",
       "913  Scientific & Technical Instruments  \n",
       "921  Scientific & Technical Instruments  \n",
       "930  Scientific & Technical Instruments  \n",
       "970  Scientific & Technical Instruments  \n",
       "994  Scientific & Technical Instruments  \n",
       "995  Scientific & Technical Instruments  \n",
       "998  Scientific & Technical Instruments  "
      ]
     },
     "metadata": {},
     "output_type": "display_data"
    },
    {
     "name": "stderr",
     "output_type": "stream",
     "text": [
      "/var/folders/7h/099t5t950s10yv3y5sz80ls00000gn/T/ipykernel_56706/2130771130.py:4: SettingWithCopyWarning:\n",
      "\n",
      "\n",
      "A value is trying to be set on a copy of a slice from a DataFrame.\n",
      "Try using .loc[row_indexer,col_indexer] = value instead\n",
      "\n",
      "See the caveats in the documentation: https://pandas.pydata.org/pandas-docs/stable/user_guide/indexing.html#returning-a-view-versus-a-copy\n",
      "\n"
     ]
    },
    {
     "data": {
      "text/html": [
       "<div>\n",
       "<style scoped>\n",
       "    .dataframe tbody tr th:only-of-type {\n",
       "        vertical-align: middle;\n",
       "    }\n",
       "\n",
       "    .dataframe tbody tr th {\n",
       "        vertical-align: top;\n",
       "    }\n",
       "\n",
       "    .dataframe thead th {\n",
       "        text-align: right;\n",
       "    }\n",
       "</style>\n",
       "<table border=\"1\" class=\"dataframe\">\n",
       "  <thead>\n",
       "    <tr style=\"text-align: right;\">\n",
       "      <th></th>\n",
       "      <th>Company</th>\n",
       "      <th>Market Cap</th>\n",
       "      <th>Rank</th>\n",
       "      <th>Industry</th>\n",
       "    </tr>\n",
       "  </thead>\n",
       "  <tbody>\n",
       "    <tr>\n",
       "      <th>36</th>\n",
       "      <td>Arista Networks, Inc.</td>\n",
       "      <td>71.73B</td>\n",
       "      <td>1.0</td>\n",
       "      <td>Computer Hardware</td>\n",
       "    </tr>\n",
       "    <tr>\n",
       "      <th>46</th>\n",
       "      <td>Dell Technologies Inc.</td>\n",
       "      <td>54.51B</td>\n",
       "      <td>2.0</td>\n",
       "      <td>Computer Hardware</td>\n",
       "    </tr>\n",
       "    <tr>\n",
       "      <th>79</th>\n",
       "      <td>HP Inc.</td>\n",
       "      <td>29.63B</td>\n",
       "      <td>3.0</td>\n",
       "      <td>Computer Hardware</td>\n",
       "    </tr>\n",
       "    <tr>\n",
       "      <th>86</th>\n",
       "      <td>Quanta Computer, Inc.</td>\n",
       "      <td>27.51B</td>\n",
       "      <td>4.0</td>\n",
       "      <td>Computer Hardware</td>\n",
       "    </tr>\n",
       "    <tr>\n",
       "      <th>90</th>\n",
       "      <td>Canon Inc.</td>\n",
       "      <td>25.94B</td>\n",
       "      <td>5.0</td>\n",
       "      <td>Computer Hardware</td>\n",
       "    </tr>\n",
       "    <tr>\n",
       "      <th>118</th>\n",
       "      <td>NetApp, Inc.</td>\n",
       "      <td>17.78B</td>\n",
       "      <td>6.0</td>\n",
       "      <td>Computer Hardware</td>\n",
       "    </tr>\n",
       "    <tr>\n",
       "      <th>126</th>\n",
       "      <td>Seagate Technology plc</td>\n",
       "      <td>16.9B</td>\n",
       "      <td>7.0</td>\n",
       "      <td>Computer Hardware</td>\n",
       "    </tr>\n",
       "    <tr>\n",
       "      <th>133</th>\n",
       "      <td>Western Digital Corporation</td>\n",
       "      <td>16.33B</td>\n",
       "      <td>8.0</td>\n",
       "      <td>Computer Hardware</td>\n",
       "    </tr>\n",
       "    <tr>\n",
       "      <th>134</th>\n",
       "      <td>Super Micro Computer, Inc.</td>\n",
       "      <td>16.13B</td>\n",
       "      <td>9.0</td>\n",
       "      <td>Computer Hardware</td>\n",
       "    </tr>\n",
       "    <tr>\n",
       "      <th>135</th>\n",
       "      <td>Lenovo Group Ltd</td>\n",
       "      <td>15.97B</td>\n",
       "      <td>10.0</td>\n",
       "      <td>Computer Hardware</td>\n",
       "    </tr>\n",
       "    <tr>\n",
       "      <th>145</th>\n",
       "      <td>Logitech International SA</td>\n",
       "      <td>14.57B</td>\n",
       "      <td>11.0</td>\n",
       "      <td>Computer Hardware</td>\n",
       "    </tr>\n",
       "    <tr>\n",
       "      <th>164</th>\n",
       "      <td>Pure Storage, Inc.</td>\n",
       "      <td>11.63B</td>\n",
       "      <td>12.0</td>\n",
       "      <td>Computer Hardware</td>\n",
       "    </tr>\n",
       "    <tr>\n",
       "      <th>170</th>\n",
       "      <td>ASUSTeK Computer, Inc.</td>\n",
       "      <td>11.26B</td>\n",
       "      <td>13.0</td>\n",
       "      <td>Computer Hardware</td>\n",
       "    </tr>\n",
       "    <tr>\n",
       "      <th>185</th>\n",
       "      <td>Advantech Co. Ltd</td>\n",
       "      <td>10.07B</td>\n",
       "      <td>14.0</td>\n",
       "      <td>Computer Hardware</td>\n",
       "    </tr>\n",
       "    <tr>\n",
       "      <th>188</th>\n",
       "      <td>Wiwynn Corp</td>\n",
       "      <td>9.95B</td>\n",
       "      <td>15.0</td>\n",
       "      <td>Computer Hardware</td>\n",
       "    </tr>\n",
       "    <tr>\n",
       "      <th>210</th>\n",
       "      <td>Wistron Corp</td>\n",
       "      <td>8.78B</td>\n",
       "      <td>16.0</td>\n",
       "      <td>Computer Hardware</td>\n",
       "    </tr>\n",
       "    <tr>\n",
       "      <th>212</th>\n",
       "      <td>Lite-On Technology Corp</td>\n",
       "      <td>8.61B</td>\n",
       "      <td>17.0</td>\n",
       "      <td>Computer Hardware</td>\n",
       "    </tr>\n",
       "    <tr>\n",
       "      <th>233</th>\n",
       "      <td>Dawning Information Industry Co. Ltd</td>\n",
       "      <td>7.77B</td>\n",
       "      <td>18.0</td>\n",
       "      <td>Computer Hardware</td>\n",
       "    </tr>\n",
       "    <tr>\n",
       "      <th>242</th>\n",
       "      <td>Pegatron Corp</td>\n",
       "      <td>7.41B</td>\n",
       "      <td>19.0</td>\n",
       "      <td>Computer Hardware</td>\n",
       "    </tr>\n",
       "    <tr>\n",
       "      <th>284</th>\n",
       "      <td>Inventec Corp</td>\n",
       "      <td>5.99B</td>\n",
       "      <td>20.0</td>\n",
       "      <td>Computer Hardware</td>\n",
       "    </tr>\n",
       "    <tr>\n",
       "      <th>311</th>\n",
       "      <td>Compal Electronics, Inc.</td>\n",
       "      <td>5.25B</td>\n",
       "      <td>21.0</td>\n",
       "      <td>Computer Hardware</td>\n",
       "    </tr>\n",
       "    <tr>\n",
       "      <th>317</th>\n",
       "      <td>Micro-Star International Co. Ltd</td>\n",
       "      <td>5.12B</td>\n",
       "      <td>22.0</td>\n",
       "      <td>Computer Hardware</td>\n",
       "    </tr>\n",
       "    <tr>\n",
       "      <th>319</th>\n",
       "      <td>Giga-Byte Technology Co. Ltd</td>\n",
       "      <td>5.11B</td>\n",
       "      <td>23.0</td>\n",
       "      <td>Computer Hardware</td>\n",
       "    </tr>\n",
       "    <tr>\n",
       "      <th>323</th>\n",
       "      <td>Seiko Epson Corp</td>\n",
       "      <td>5.07B</td>\n",
       "      <td>24.0</td>\n",
       "      <td>Computer Hardware</td>\n",
       "    </tr>\n",
       "    <tr>\n",
       "      <th>345</th>\n",
       "      <td>Acer, Inc.</td>\n",
       "      <td>4.72B</td>\n",
       "      <td>25.0</td>\n",
       "      <td>Computer Hardware</td>\n",
       "    </tr>\n",
       "    <tr>\n",
       "      <th>363</th>\n",
       "      <td>Chicony Electronics Co. Ltd</td>\n",
       "      <td>4.26B</td>\n",
       "      <td>26.0</td>\n",
       "      <td>Computer Hardware</td>\n",
       "    </tr>\n",
       "    <tr>\n",
       "      <th>367</th>\n",
       "      <td>Ingenic Semiconductor Co.,Ltd.</td>\n",
       "      <td>4.22B</td>\n",
       "      <td>27.0</td>\n",
       "      <td>Computer Hardware</td>\n",
       "    </tr>\n",
       "    <tr>\n",
       "      <th>436</th>\n",
       "      <td>Tsinghua Tongfang Co. Ltd</td>\n",
       "      <td>3.28B</td>\n",
       "      <td>28.0</td>\n",
       "      <td>Computer Hardware</td>\n",
       "    </tr>\n",
       "    <tr>\n",
       "      <th>450</th>\n",
       "      <td>Phison Electronics Corp</td>\n",
       "      <td>3.2B</td>\n",
       "      <td>29.0</td>\n",
       "      <td>Computer Hardware</td>\n",
       "    </tr>\n",
       "    <tr>\n",
       "      <th>467</th>\n",
       "      <td>Qisda Corp</td>\n",
       "      <td>3.03B</td>\n",
       "      <td>30.0</td>\n",
       "      <td>Computer Hardware</td>\n",
       "    </tr>\n",
       "    <tr>\n",
       "      <th>525</th>\n",
       "      <td>Razer, Inc.</td>\n",
       "      <td>2.58B</td>\n",
       "      <td>31.0</td>\n",
       "      <td>Computer Hardware</td>\n",
       "    </tr>\n",
       "    <tr>\n",
       "      <th>528</th>\n",
       "      <td>China Marine Information Electronics Company Ltd</td>\n",
       "      <td>2.5B</td>\n",
       "      <td>32.0</td>\n",
       "      <td>Computer Hardware</td>\n",
       "    </tr>\n",
       "    <tr>\n",
       "      <th>538</th>\n",
       "      <td>Foxconn Technology Co. Ltd</td>\n",
       "      <td>2.39B</td>\n",
       "      <td>33.0</td>\n",
       "      <td>Computer Hardware</td>\n",
       "    </tr>\n",
       "    <tr>\n",
       "      <th>577</th>\n",
       "      <td>Legend Holdings Corp</td>\n",
       "      <td>2.12B</td>\n",
       "      <td>34.0</td>\n",
       "      <td>Computer Hardware</td>\n",
       "    </tr>\n",
       "    <tr>\n",
       "      <th>589</th>\n",
       "      <td>Getac Technology Corp</td>\n",
       "      <td>2.05B</td>\n",
       "      <td>35.0</td>\n",
       "      <td>Computer Hardware</td>\n",
       "    </tr>\n",
       "    <tr>\n",
       "      <th>656</th>\n",
       "      <td>Founder Technology Group Corp</td>\n",
       "      <td>1.71B</td>\n",
       "      <td>36.0</td>\n",
       "      <td>Computer Hardware</td>\n",
       "    </tr>\n",
       "    <tr>\n",
       "      <th>664</th>\n",
       "      <td>MiTAC Holdings Corp</td>\n",
       "      <td>1.67B</td>\n",
       "      <td>37.0</td>\n",
       "      <td>Computer Hardware</td>\n",
       "    </tr>\n",
       "    <tr>\n",
       "      <th>714</th>\n",
       "      <td>Genius Electronic Optical Co. Ltd</td>\n",
       "      <td>1.48B</td>\n",
       "      <td>38.0</td>\n",
       "      <td>Computer Hardware</td>\n",
       "    </tr>\n",
       "    <tr>\n",
       "      <th>716</th>\n",
       "      <td>Société Industrielle et Financière de l'Artois SA</td>\n",
       "      <td>1.47B</td>\n",
       "      <td>39.0</td>\n",
       "      <td>Computer Hardware</td>\n",
       "    </tr>\n",
       "    <tr>\n",
       "      <th>731</th>\n",
       "      <td>Cricut, Inc.</td>\n",
       "      <td>1.42B</td>\n",
       "      <td>40.0</td>\n",
       "      <td>Computer Hardware</td>\n",
       "    </tr>\n",
       "    <tr>\n",
       "      <th>737</th>\n",
       "      <td>Corsair Gaming, Inc.</td>\n",
       "      <td>1.4B</td>\n",
       "      <td>41.0</td>\n",
       "      <td>Computer Hardware</td>\n",
       "    </tr>\n",
       "    <tr>\n",
       "      <th>745</th>\n",
       "      <td>Bizlink Holding, Inc.</td>\n",
       "      <td>1.36B</td>\n",
       "      <td>42.0</td>\n",
       "      <td>Computer Hardware</td>\n",
       "    </tr>\n",
       "    <tr>\n",
       "      <th>805</th>\n",
       "      <td>S&amp;T AG</td>\n",
       "      <td>1.16B</td>\n",
       "      <td>43.5</td>\n",
       "      <td>Computer Hardware</td>\n",
       "    </tr>\n",
       "    <tr>\n",
       "      <th>809</th>\n",
       "      <td>Ennoconn Corp</td>\n",
       "      <td>1.16B</td>\n",
       "      <td>43.5</td>\n",
       "      <td>Computer Hardware</td>\n",
       "    </tr>\n",
       "    <tr>\n",
       "      <th>814</th>\n",
       "      <td>HannStar Display Corp</td>\n",
       "      <td>1.14B</td>\n",
       "      <td>45.0</td>\n",
       "      <td>Computer Hardware</td>\n",
       "    </tr>\n",
       "    <tr>\n",
       "      <th>830</th>\n",
       "      <td>Transcend Information, Inc.</td>\n",
       "      <td>1.1B</td>\n",
       "      <td>46.0</td>\n",
       "      <td>Computer Hardware</td>\n",
       "    </tr>\n",
       "    <tr>\n",
       "      <th>847</th>\n",
       "      <td>Toshiba Tec Corp</td>\n",
       "      <td>1.06B</td>\n",
       "      <td>47.5</td>\n",
       "      <td>Computer Hardware</td>\n",
       "    </tr>\n",
       "    <tr>\n",
       "      <th>848</th>\n",
       "      <td>Fujian Start Group Co.Ltd</td>\n",
       "      <td>1.06B</td>\n",
       "      <td>47.5</td>\n",
       "      <td>Computer Hardware</td>\n",
       "    </tr>\n",
       "    <tr>\n",
       "      <th>874</th>\n",
       "      <td>Primax Electronics Ltd</td>\n",
       "      <td>1B</td>\n",
       "      <td>49.0</td>\n",
       "      <td>Computer Hardware</td>\n",
       "    </tr>\n",
       "    <tr>\n",
       "      <th>875</th>\n",
       "      <td>Elecom Co. Ltd</td>\n",
       "      <td>997.2M</td>\n",
       "      <td>50.0</td>\n",
       "      <td>Computer Hardware</td>\n",
       "    </tr>\n",
       "    <tr>\n",
       "      <th>895</th>\n",
       "      <td>Chenbro Micom Co. Ltd</td>\n",
       "      <td>966.8M</td>\n",
       "      <td>51.0</td>\n",
       "      <td>Computer Hardware</td>\n",
       "    </tr>\n",
       "    <tr>\n",
       "      <th>897</th>\n",
       "      <td>Stratasys Ltd.</td>\n",
       "      <td>964.2M</td>\n",
       "      <td>52.0</td>\n",
       "      <td>Computer Hardware</td>\n",
       "    </tr>\n",
       "    <tr>\n",
       "      <th>935</th>\n",
       "      <td>ASROCK InCorp</td>\n",
       "      <td>915.8M</td>\n",
       "      <td>53.0</td>\n",
       "      <td>Computer Hardware</td>\n",
       "    </tr>\n",
       "    <tr>\n",
       "      <th>944</th>\n",
       "      <td>Auras Technology Co. Ltd</td>\n",
       "      <td>906.3M</td>\n",
       "      <td>54.0</td>\n",
       "      <td>Computer Hardware</td>\n",
       "    </tr>\n",
       "    <tr>\n",
       "      <th>949</th>\n",
       "      <td>Netac Technology Co. Ltd</td>\n",
       "      <td>899M</td>\n",
       "      <td>55.0</td>\n",
       "      <td>Computer Hardware</td>\n",
       "    </tr>\n",
       "    <tr>\n",
       "      <th>955</th>\n",
       "      <td>AAEON Technology, Inc.</td>\n",
       "      <td>892M</td>\n",
       "      <td>56.0</td>\n",
       "      <td>Computer Hardware</td>\n",
       "    </tr>\n",
       "    <tr>\n",
       "      <th>967</th>\n",
       "      <td>Muehlbauer Holding AG</td>\n",
       "      <td>869.9M</td>\n",
       "      <td>57.0</td>\n",
       "      <td>Computer Hardware</td>\n",
       "    </tr>\n",
       "    <tr>\n",
       "      <th>977</th>\n",
       "      <td>Toyou Feiji Electronics Co. Ltd</td>\n",
       "      <td>851.1M</td>\n",
       "      <td>58.0</td>\n",
       "      <td>Computer Hardware</td>\n",
       "    </tr>\n",
       "    <tr>\n",
       "      <th>981</th>\n",
       "      <td>Clevo Co.</td>\n",
       "      <td>847.8M</td>\n",
       "      <td>59.0</td>\n",
       "      <td>Computer Hardware</td>\n",
       "    </tr>\n",
       "    <tr>\n",
       "      <th>986</th>\n",
       "      <td>Innodisk Corp</td>\n",
       "      <td>839.8M</td>\n",
       "      <td>60.0</td>\n",
       "      <td>Computer Hardware</td>\n",
       "    </tr>\n",
       "  </tbody>\n",
       "</table>\n",
       "</div>"
      ],
      "text/plain": [
       "                                               Company Market Cap  Rank  \\\n",
       "36                               Arista Networks, Inc.     71.73B   1.0   \n",
       "46                              Dell Technologies Inc.     54.51B   2.0   \n",
       "79                                             HP Inc.     29.63B   3.0   \n",
       "86                               Quanta Computer, Inc.     27.51B   4.0   \n",
       "90                                          Canon Inc.     25.94B   5.0   \n",
       "118                                       NetApp, Inc.     17.78B   6.0   \n",
       "126                             Seagate Technology plc      16.9B   7.0   \n",
       "133                        Western Digital Corporation     16.33B   8.0   \n",
       "134                         Super Micro Computer, Inc.     16.13B   9.0   \n",
       "135                                   Lenovo Group Ltd     15.97B  10.0   \n",
       "145                          Logitech International SA     14.57B  11.0   \n",
       "164                                 Pure Storage, Inc.     11.63B  12.0   \n",
       "170                             ASUSTeK Computer, Inc.     11.26B  13.0   \n",
       "185                                  Advantech Co. Ltd     10.07B  14.0   \n",
       "188                                        Wiwynn Corp      9.95B  15.0   \n",
       "210                                       Wistron Corp      8.78B  16.0   \n",
       "212                            Lite-On Technology Corp      8.61B  17.0   \n",
       "233               Dawning Information Industry Co. Ltd      7.77B  18.0   \n",
       "242                                      Pegatron Corp      7.41B  19.0   \n",
       "284                                      Inventec Corp      5.99B  20.0   \n",
       "311                           Compal Electronics, Inc.      5.25B  21.0   \n",
       "317                   Micro-Star International Co. Ltd      5.12B  22.0   \n",
       "319                       Giga-Byte Technology Co. Ltd      5.11B  23.0   \n",
       "323                                   Seiko Epson Corp      5.07B  24.0   \n",
       "345                                         Acer, Inc.      4.72B  25.0   \n",
       "363                        Chicony Electronics Co. Ltd      4.26B  26.0   \n",
       "367                     Ingenic Semiconductor Co.,Ltd.      4.22B  27.0   \n",
       "436                          Tsinghua Tongfang Co. Ltd      3.28B  28.0   \n",
       "450                            Phison Electronics Corp       3.2B  29.0   \n",
       "467                                         Qisda Corp      3.03B  30.0   \n",
       "525                                        Razer, Inc.      2.58B  31.0   \n",
       "528   China Marine Information Electronics Company Ltd       2.5B  32.0   \n",
       "538                         Foxconn Technology Co. Ltd      2.39B  33.0   \n",
       "577                               Legend Holdings Corp      2.12B  34.0   \n",
       "589                              Getac Technology Corp      2.05B  35.0   \n",
       "656                      Founder Technology Group Corp      1.71B  36.0   \n",
       "664                                MiTAC Holdings Corp      1.67B  37.0   \n",
       "714                  Genius Electronic Optical Co. Ltd      1.48B  38.0   \n",
       "716  Société Industrielle et Financière de l'Artois SA      1.47B  39.0   \n",
       "731                                       Cricut, Inc.      1.42B  40.0   \n",
       "737                               Corsair Gaming, Inc.       1.4B  41.0   \n",
       "745                              Bizlink Holding, Inc.      1.36B  42.0   \n",
       "805                                             S&T AG      1.16B  43.5   \n",
       "809                                      Ennoconn Corp      1.16B  43.5   \n",
       "814                              HannStar Display Corp      1.14B  45.0   \n",
       "830                        Transcend Information, Inc.       1.1B  46.0   \n",
       "847                                   Toshiba Tec Corp      1.06B  47.5   \n",
       "848                          Fujian Start Group Co.Ltd      1.06B  47.5   \n",
       "874                             Primax Electronics Ltd         1B  49.0   \n",
       "875                                     Elecom Co. Ltd     997.2M  50.0   \n",
       "895                              Chenbro Micom Co. Ltd     966.8M  51.0   \n",
       "897                                     Stratasys Ltd.     964.2M  52.0   \n",
       "935                                      ASROCK InCorp     915.8M  53.0   \n",
       "944                           Auras Technology Co. Ltd     906.3M  54.0   \n",
       "949                           Netac Technology Co. Ltd       899M  55.0   \n",
       "955                             AAEON Technology, Inc.       892M  56.0   \n",
       "967                              Muehlbauer Holding AG     869.9M  57.0   \n",
       "977                    Toyou Feiji Electronics Co. Ltd     851.1M  58.0   \n",
       "981                                          Clevo Co.     847.8M  59.0   \n",
       "986                                      Innodisk Corp     839.8M  60.0   \n",
       "\n",
       "              Industry  \n",
       "36   Computer Hardware  \n",
       "46   Computer Hardware  \n",
       "79   Computer Hardware  \n",
       "86   Computer Hardware  \n",
       "90   Computer Hardware  \n",
       "118  Computer Hardware  \n",
       "126  Computer Hardware  \n",
       "133  Computer Hardware  \n",
       "134  Computer Hardware  \n",
       "135  Computer Hardware  \n",
       "145  Computer Hardware  \n",
       "164  Computer Hardware  \n",
       "170  Computer Hardware  \n",
       "185  Computer Hardware  \n",
       "188  Computer Hardware  \n",
       "210  Computer Hardware  \n",
       "212  Computer Hardware  \n",
       "233  Computer Hardware  \n",
       "242  Computer Hardware  \n",
       "284  Computer Hardware  \n",
       "311  Computer Hardware  \n",
       "317  Computer Hardware  \n",
       "319  Computer Hardware  \n",
       "323  Computer Hardware  \n",
       "345  Computer Hardware  \n",
       "363  Computer Hardware  \n",
       "367  Computer Hardware  \n",
       "436  Computer Hardware  \n",
       "450  Computer Hardware  \n",
       "467  Computer Hardware  \n",
       "525  Computer Hardware  \n",
       "528  Computer Hardware  \n",
       "538  Computer Hardware  \n",
       "577  Computer Hardware  \n",
       "589  Computer Hardware  \n",
       "656  Computer Hardware  \n",
       "664  Computer Hardware  \n",
       "714  Computer Hardware  \n",
       "716  Computer Hardware  \n",
       "731  Computer Hardware  \n",
       "737  Computer Hardware  \n",
       "745  Computer Hardware  \n",
       "805  Computer Hardware  \n",
       "809  Computer Hardware  \n",
       "814  Computer Hardware  \n",
       "830  Computer Hardware  \n",
       "847  Computer Hardware  \n",
       "848  Computer Hardware  \n",
       "874  Computer Hardware  \n",
       "875  Computer Hardware  \n",
       "895  Computer Hardware  \n",
       "897  Computer Hardware  \n",
       "935  Computer Hardware  \n",
       "944  Computer Hardware  \n",
       "949  Computer Hardware  \n",
       "955  Computer Hardware  \n",
       "967  Computer Hardware  \n",
       "977  Computer Hardware  \n",
       "981  Computer Hardware  \n",
       "986  Computer Hardware  "
      ]
     },
     "metadata": {},
     "output_type": "display_data"
    },
    {
     "name": "stderr",
     "output_type": "stream",
     "text": [
      "/var/folders/7h/099t5t950s10yv3y5sz80ls00000gn/T/ipykernel_56706/2130771130.py:4: SettingWithCopyWarning:\n",
      "\n",
      "\n",
      "A value is trying to be set on a copy of a slice from a DataFrame.\n",
      "Try using .loc[row_indexer,col_indexer] = value instead\n",
      "\n",
      "See the caveats in the documentation: https://pandas.pydata.org/pandas-docs/stable/user_guide/indexing.html#returning-a-view-versus-a-copy\n",
      "\n"
     ]
    },
    {
     "data": {
      "text/html": [
       "<div>\n",
       "<style scoped>\n",
       "    .dataframe tbody tr th:only-of-type {\n",
       "        vertical-align: middle;\n",
       "    }\n",
       "\n",
       "    .dataframe tbody tr th {\n",
       "        vertical-align: top;\n",
       "    }\n",
       "\n",
       "    .dataframe thead th {\n",
       "        text-align: right;\n",
       "    }\n",
       "</style>\n",
       "<table border=\"1\" class=\"dataframe\">\n",
       "  <thead>\n",
       "    <tr style=\"text-align: right;\">\n",
       "      <th></th>\n",
       "      <th>Company</th>\n",
       "      <th>Market Cap</th>\n",
       "      <th>Rank</th>\n",
       "      <th>Industry</th>\n",
       "    </tr>\n",
       "  </thead>\n",
       "  <tbody>\n",
       "    <tr>\n",
       "      <th>43</th>\n",
       "      <td>Amphenol Corporation</td>\n",
       "      <td>56.89B</td>\n",
       "      <td>1.0</td>\n",
       "      <td>Electronic Components</td>\n",
       "    </tr>\n",
       "    <tr>\n",
       "      <th>55</th>\n",
       "      <td>Hon Hai Precision Industry Co. Ltd</td>\n",
       "      <td>47.43B</td>\n",
       "      <td>2.0</td>\n",
       "      <td>Electronic Components</td>\n",
       "    </tr>\n",
       "    <tr>\n",
       "      <th>58</th>\n",
       "      <td>TE Connectivity Ltd.</td>\n",
       "      <td>42.62B</td>\n",
       "      <td>3.0</td>\n",
       "      <td>Electronic Components</td>\n",
       "    </tr>\n",
       "    <tr>\n",
       "      <th>61</th>\n",
       "      <td>Murata Manufacturing Co. Ltd</td>\n",
       "      <td>40.27B</td>\n",
       "      <td>4.0</td>\n",
       "      <td>Electronic Components</td>\n",
       "    </tr>\n",
       "    <tr>\n",
       "      <th>91</th>\n",
       "      <td>Corning Incorporated</td>\n",
       "      <td>25.83B</td>\n",
       "      <td>5.0</td>\n",
       "      <td>Electronic Components</td>\n",
       "    </tr>\n",
       "    <tr>\n",
       "      <th>...</th>\n",
       "      <td>...</td>\n",
       "      <td>...</td>\n",
       "      <td>...</td>\n",
       "      <td>...</td>\n",
       "    </tr>\n",
       "    <tr>\n",
       "      <th>942</th>\n",
       "      <td>Flexium Interconnect, Inc.</td>\n",
       "      <td>908.1M</td>\n",
       "      <td>118.5</td>\n",
       "      <td>Electronic Components</td>\n",
       "    </tr>\n",
       "    <tr>\n",
       "      <th>943</th>\n",
       "      <td>Hongli Zhihui Group Co. Ltd</td>\n",
       "      <td>908.1M</td>\n",
       "      <td>118.5</td>\n",
       "      <td>Electronic Components</td>\n",
       "    </tr>\n",
       "    <tr>\n",
       "      <th>945</th>\n",
       "      <td>Zhejiang Firstar Panel Technology Co. Ltd</td>\n",
       "      <td>906.2M</td>\n",
       "      <td>120.0</td>\n",
       "      <td>Electronic Components</td>\n",
       "    </tr>\n",
       "    <tr>\n",
       "      <th>948</th>\n",
       "      <td>Chilisin Electronics Corp</td>\n",
       "      <td>899.6M</td>\n",
       "      <td>121.0</td>\n",
       "      <td>Electronic Components</td>\n",
       "    </tr>\n",
       "    <tr>\n",
       "      <th>992</th>\n",
       "      <td>Union Optech Co.,Ltd.</td>\n",
       "      <td>829.8M</td>\n",
       "      <td>122.0</td>\n",
       "      <td>Electronic Components</td>\n",
       "    </tr>\n",
       "  </tbody>\n",
       "</table>\n",
       "<p>122 rows × 4 columns</p>\n",
       "</div>"
      ],
      "text/plain": [
       "                                       Company Market Cap   Rank  \\\n",
       "43                        Amphenol Corporation     56.89B    1.0   \n",
       "55          Hon Hai Precision Industry Co. Ltd     47.43B    2.0   \n",
       "58                        TE Connectivity Ltd.     42.62B    3.0   \n",
       "61                Murata Manufacturing Co. Ltd     40.27B    4.0   \n",
       "91                        Corning Incorporated     25.83B    5.0   \n",
       "..                                         ...        ...    ...   \n",
       "942                 Flexium Interconnect, Inc.     908.1M  118.5   \n",
       "943                Hongli Zhihui Group Co. Ltd     908.1M  118.5   \n",
       "945  Zhejiang Firstar Panel Technology Co. Ltd     906.2M  120.0   \n",
       "948                  Chilisin Electronics Corp     899.6M  121.0   \n",
       "992                      Union Optech Co.,Ltd.     829.8M  122.0   \n",
       "\n",
       "                  Industry  \n",
       "43   Electronic Components  \n",
       "55   Electronic Components  \n",
       "58   Electronic Components  \n",
       "61   Electronic Components  \n",
       "91   Electronic Components  \n",
       "..                     ...  \n",
       "942  Electronic Components  \n",
       "943  Electronic Components  \n",
       "945  Electronic Components  \n",
       "948  Electronic Components  \n",
       "992  Electronic Components  \n",
       "\n",
       "[122 rows x 4 columns]"
      ]
     },
     "metadata": {},
     "output_type": "display_data"
    },
    {
     "name": "stderr",
     "output_type": "stream",
     "text": [
      "/var/folders/7h/099t5t950s10yv3y5sz80ls00000gn/T/ipykernel_56706/2130771130.py:4: SettingWithCopyWarning:\n",
      "\n",
      "\n",
      "A value is trying to be set on a copy of a slice from a DataFrame.\n",
      "Try using .loc[row_indexer,col_indexer] = value instead\n",
      "\n",
      "See the caveats in the documentation: https://pandas.pydata.org/pandas-docs/stable/user_guide/indexing.html#returning-a-view-versus-a-copy\n",
      "\n"
     ]
    },
    {
     "data": {
      "text/html": [
       "<div>\n",
       "<style scoped>\n",
       "    .dataframe tbody tr th:only-of-type {\n",
       "        vertical-align: middle;\n",
       "    }\n",
       "\n",
       "    .dataframe tbody tr th {\n",
       "        vertical-align: top;\n",
       "    }\n",
       "\n",
       "    .dataframe thead th {\n",
       "        text-align: right;\n",
       "    }\n",
       "</style>\n",
       "<table border=\"1\" class=\"dataframe\">\n",
       "  <thead>\n",
       "    <tr style=\"text-align: right;\">\n",
       "      <th></th>\n",
       "      <th>Company</th>\n",
       "      <th>Market Cap</th>\n",
       "      <th>Rank</th>\n",
       "      <th>Industry</th>\n",
       "    </tr>\n",
       "  </thead>\n",
       "  <tbody>\n",
       "    <tr>\n",
       "      <th>116</th>\n",
       "      <td>First Solar, Inc.</td>\n",
       "      <td>17.88B</td>\n",
       "      <td>1.0</td>\n",
       "      <td>Solar</td>\n",
       "    </tr>\n",
       "    <tr>\n",
       "      <th>130</th>\n",
       "      <td>Enphase Energy, Inc.</td>\n",
       "      <td>16.75B</td>\n",
       "      <td>2.0</td>\n",
       "      <td>Solar</td>\n",
       "    </tr>\n",
       "    <tr>\n",
       "      <th>216</th>\n",
       "      <td>Trina Solar Co. Ltd</td>\n",
       "      <td>8.41B</td>\n",
       "      <td>3.0</td>\n",
       "      <td>Solar</td>\n",
       "    </tr>\n",
       "    <tr>\n",
       "      <th>330</th>\n",
       "      <td>SolarEdge Technologies, Inc.</td>\n",
       "      <td>4.91B</td>\n",
       "      <td>4.0</td>\n",
       "      <td>Solar</td>\n",
       "    </tr>\n",
       "    <tr>\n",
       "      <th>347</th>\n",
       "      <td>Xinyi Solar Holdings Ltd</td>\n",
       "      <td>4.7B</td>\n",
       "      <td>5.0</td>\n",
       "      <td>Solar</td>\n",
       "    </tr>\n",
       "    <tr>\n",
       "      <th>364</th>\n",
       "      <td>Shanghai Aiko Solar Energy Co. Ltd</td>\n",
       "      <td>4.24B</td>\n",
       "      <td>6.0</td>\n",
       "      <td>Solar</td>\n",
       "    </tr>\n",
       "    <tr>\n",
       "      <th>380</th>\n",
       "      <td>Sunrun Inc.</td>\n",
       "      <td>4.02B</td>\n",
       "      <td>7.0</td>\n",
       "      <td>Solar</td>\n",
       "    </tr>\n",
       "    <tr>\n",
       "      <th>394</th>\n",
       "      <td>GCL-Poly Energy Holdings Ltd</td>\n",
       "      <td>3.86B</td>\n",
       "      <td>8.0</td>\n",
       "      <td>Solar</td>\n",
       "    </tr>\n",
       "    <tr>\n",
       "      <th>530</th>\n",
       "      <td>Shoals Technologies Group, Inc.</td>\n",
       "      <td>2.5B</td>\n",
       "      <td>9.0</td>\n",
       "      <td>Solar</td>\n",
       "    </tr>\n",
       "    <tr>\n",
       "      <th>575</th>\n",
       "      <td>SMA Solar Technology AG</td>\n",
       "      <td>2.14B</td>\n",
       "      <td>10.0</td>\n",
       "      <td>Solar</td>\n",
       "    </tr>\n",
       "    <tr>\n",
       "      <th>622</th>\n",
       "      <td>Xinte Energy Co. Ltd</td>\n",
       "      <td>1.88B</td>\n",
       "      <td>11.0</td>\n",
       "      <td>Solar</td>\n",
       "    </tr>\n",
       "    <tr>\n",
       "      <th>636</th>\n",
       "      <td>Sunnova Energy International Inc.</td>\n",
       "      <td>1.78B</td>\n",
       "      <td>12.0</td>\n",
       "      <td>Solar</td>\n",
       "    </tr>\n",
       "    <tr>\n",
       "      <th>661</th>\n",
       "      <td>JinkoSolar Holding Co., Ltd.</td>\n",
       "      <td>1.69B</td>\n",
       "      <td>13.0</td>\n",
       "      <td>Solar</td>\n",
       "    </tr>\n",
       "    <tr>\n",
       "      <th>692</th>\n",
       "      <td>Canadian Solar Inc.</td>\n",
       "      <td>1.54B</td>\n",
       "      <td>14.0</td>\n",
       "      <td>Solar</td>\n",
       "    </tr>\n",
       "    <tr>\n",
       "      <th>702</th>\n",
       "      <td>Jolywood</td>\n",
       "      <td>1.52B</td>\n",
       "      <td>15.0</td>\n",
       "      <td>Solar</td>\n",
       "    </tr>\n",
       "    <tr>\n",
       "      <th>775</th>\n",
       "      <td>Arctech Solar Holding Co. Ltd</td>\n",
       "      <td>1.26B</td>\n",
       "      <td>16.0</td>\n",
       "      <td>Solar</td>\n",
       "    </tr>\n",
       "    <tr>\n",
       "      <th>887</th>\n",
       "      <td>Clenergy</td>\n",
       "      <td>975.2M</td>\n",
       "      <td>17.0</td>\n",
       "      <td>Solar</td>\n",
       "    </tr>\n",
       "    <tr>\n",
       "      <th>923</th>\n",
       "      <td>O.Y. Nofar Energy Ltd</td>\n",
       "      <td>931.4M</td>\n",
       "      <td>18.0</td>\n",
       "      <td>Solar</td>\n",
       "    </tr>\n",
       "    <tr>\n",
       "      <th>953</th>\n",
       "      <td>EGing Photovoltaic Technology Co.,Ltd.</td>\n",
       "      <td>894.5M</td>\n",
       "      <td>19.0</td>\n",
       "      <td>Solar</td>\n",
       "    </tr>\n",
       "  </tbody>\n",
       "</table>\n",
       "</div>"
      ],
      "text/plain": [
       "                                    Company Market Cap  Rank Industry\n",
       "116                       First Solar, Inc.     17.88B   1.0    Solar\n",
       "130                    Enphase Energy, Inc.     16.75B   2.0    Solar\n",
       "216                     Trina Solar Co. Ltd      8.41B   3.0    Solar\n",
       "330            SolarEdge Technologies, Inc.      4.91B   4.0    Solar\n",
       "347                Xinyi Solar Holdings Ltd       4.7B   5.0    Solar\n",
       "364      Shanghai Aiko Solar Energy Co. Ltd      4.24B   6.0    Solar\n",
       "380                             Sunrun Inc.      4.02B   7.0    Solar\n",
       "394            GCL-Poly Energy Holdings Ltd      3.86B   8.0    Solar\n",
       "530         Shoals Technologies Group, Inc.       2.5B   9.0    Solar\n",
       "575                 SMA Solar Technology AG      2.14B  10.0    Solar\n",
       "622                    Xinte Energy Co. Ltd      1.88B  11.0    Solar\n",
       "636       Sunnova Energy International Inc.      1.78B  12.0    Solar\n",
       "661            JinkoSolar Holding Co., Ltd.      1.69B  13.0    Solar\n",
       "692                     Canadian Solar Inc.      1.54B  14.0    Solar\n",
       "702                                Jolywood      1.52B  15.0    Solar\n",
       "775           Arctech Solar Holding Co. Ltd      1.26B  16.0    Solar\n",
       "887                                Clenergy     975.2M  17.0    Solar\n",
       "923                   O.Y. Nofar Energy Ltd     931.4M  18.0    Solar\n",
       "953  EGing Photovoltaic Technology Co.,Ltd.     894.5M  19.0    Solar"
      ]
     },
     "metadata": {},
     "output_type": "display_data"
    },
    {
     "name": "stderr",
     "output_type": "stream",
     "text": [
      "/var/folders/7h/099t5t950s10yv3y5sz80ls00000gn/T/ipykernel_56706/2130771130.py:4: SettingWithCopyWarning:\n",
      "\n",
      "\n",
      "A value is trying to be set on a copy of a slice from a DataFrame.\n",
      "Try using .loc[row_indexer,col_indexer] = value instead\n",
      "\n",
      "See the caveats in the documentation: https://pandas.pydata.org/pandas-docs/stable/user_guide/indexing.html#returning-a-view-versus-a-copy\n",
      "\n"
     ]
    },
    {
     "data": {
      "text/html": [
       "<div>\n",
       "<style scoped>\n",
       "    .dataframe tbody tr th:only-of-type {\n",
       "        vertical-align: middle;\n",
       "    }\n",
       "\n",
       "    .dataframe tbody tr th {\n",
       "        vertical-align: top;\n",
       "    }\n",
       "\n",
       "    .dataframe thead th {\n",
       "        text-align: right;\n",
       "    }\n",
       "</style>\n",
       "<table border=\"1\" class=\"dataframe\">\n",
       "  <thead>\n",
       "    <tr style=\"text-align: right;\">\n",
       "      <th></th>\n",
       "      <th>Company</th>\n",
       "      <th>Market Cap</th>\n",
       "      <th>Rank</th>\n",
       "      <th>Industry</th>\n",
       "    </tr>\n",
       "  </thead>\n",
       "  <tbody>\n",
       "    <tr>\n",
       "      <th>236</th>\n",
       "      <td>Otsuka Corp</td>\n",
       "      <td>7.7B</td>\n",
       "      <td>1.0</td>\n",
       "      <td>Electronics &amp; Computer Distribution</td>\n",
       "    </tr>\n",
       "    <tr>\n",
       "      <th>269</th>\n",
       "      <td>Arrow Electronics, Inc.</td>\n",
       "      <td>6.39B</td>\n",
       "      <td>2.0</td>\n",
       "      <td>Electronics &amp; Computer Distribution</td>\n",
       "    </tr>\n",
       "    <tr>\n",
       "      <th>356</th>\n",
       "      <td>WPG Holdings Ltd</td>\n",
       "      <td>4.45B</td>\n",
       "      <td>3.0</td>\n",
       "      <td>Electronics &amp; Computer Distribution</td>\n",
       "    </tr>\n",
       "    <tr>\n",
       "      <th>361</th>\n",
       "      <td>Avnet, Inc.</td>\n",
       "      <td>4.3B</td>\n",
       "      <td>4.0</td>\n",
       "      <td>Electronics &amp; Computer Distribution</td>\n",
       "    </tr>\n",
       "    <tr>\n",
       "      <th>635</th>\n",
       "      <td>Com7 Public Company Ltd</td>\n",
       "      <td>1.79B</td>\n",
       "      <td>5.0</td>\n",
       "      <td>Electronics &amp; Computer Distribution</td>\n",
       "    </tr>\n",
       "    <tr>\n",
       "      <th>663</th>\n",
       "      <td>PC Connection, Inc.</td>\n",
       "      <td>1.67B</td>\n",
       "      <td>6.0</td>\n",
       "      <td>Electronics &amp; Computer Distribution</td>\n",
       "    </tr>\n",
       "    <tr>\n",
       "      <th>728</th>\n",
       "      <td>Dicker Data Limited</td>\n",
       "      <td>1.42B</td>\n",
       "      <td>7.0</td>\n",
       "      <td>Electronics &amp; Computer Distribution</td>\n",
       "    </tr>\n",
       "    <tr>\n",
       "      <th>765</th>\n",
       "      <td>Kanematsu Corp</td>\n",
       "      <td>1.3B</td>\n",
       "      <td>8.0</td>\n",
       "      <td>Electronics &amp; Computer Distribution</td>\n",
       "    </tr>\n",
       "    <tr>\n",
       "      <th>802</th>\n",
       "      <td>Kaga Electronics Co.,Ltd.</td>\n",
       "      <td>1.16B</td>\n",
       "      <td>9.0</td>\n",
       "      <td>Electronics &amp; Computer Distribution</td>\n",
       "    </tr>\n",
       "    <tr>\n",
       "      <th>911</th>\n",
       "      <td>ScanSource, Inc.</td>\n",
       "      <td>948.7M</td>\n",
       "      <td>10.0</td>\n",
       "      <td>Electronics &amp; Computer Distribution</td>\n",
       "    </tr>\n",
       "    <tr>\n",
       "      <th>940</th>\n",
       "      <td>Wuhan P&amp;S Information Technology Co. Ltd</td>\n",
       "      <td>909.1M</td>\n",
       "      <td>11.0</td>\n",
       "      <td>Electronics &amp; Computer Distribution</td>\n",
       "    </tr>\n",
       "  </tbody>\n",
       "</table>\n",
       "</div>"
      ],
      "text/plain": [
       "                                      Company Market Cap  Rank  \\\n",
       "236                               Otsuka Corp       7.7B   1.0   \n",
       "269                   Arrow Electronics, Inc.      6.39B   2.0   \n",
       "356                          WPG Holdings Ltd      4.45B   3.0   \n",
       "361                               Avnet, Inc.       4.3B   4.0   \n",
       "635                   Com7 Public Company Ltd      1.79B   5.0   \n",
       "663                       PC Connection, Inc.      1.67B   6.0   \n",
       "728                       Dicker Data Limited      1.42B   7.0   \n",
       "765                            Kanematsu Corp       1.3B   8.0   \n",
       "802                 Kaga Electronics Co.,Ltd.      1.16B   9.0   \n",
       "911                          ScanSource, Inc.     948.7M  10.0   \n",
       "940  Wuhan P&S Information Technology Co. Ltd     909.1M  11.0   \n",
       "\n",
       "                                Industry  \n",
       "236  Electronics & Computer Distribution  \n",
       "269  Electronics & Computer Distribution  \n",
       "356  Electronics & Computer Distribution  \n",
       "361  Electronics & Computer Distribution  \n",
       "635  Electronics & Computer Distribution  \n",
       "663  Electronics & Computer Distribution  \n",
       "728  Electronics & Computer Distribution  \n",
       "765  Electronics & Computer Distribution  \n",
       "802  Electronics & Computer Distribution  \n",
       "911  Electronics & Computer Distribution  \n",
       "940  Electronics & Computer Distribution  "
      ]
     },
     "metadata": {},
     "output_type": "display_data"
    }
   ],
   "source": [
    "for industry in data['Industry'].unique():\n",
    "    industry_data = data[data['Industry'] == industry]\n",
    "    test_data = industry_data.copy()\n",
    "    industry_data['Rank'] = industry_data['Market Cap'].rank(ascending=False)\n",
    "    industry_data = industry_data.sort_values('Rank')\n",
    "    industry_data['Market Cap'] = industry_data['Market Cap'].apply(numerize.numerize)\n",
    "    display(industry_data[['Company', 'Market Cap', 'Rank','Industry']])\n",
    "    \n",
    "    \n",
    "    \n",
    "    \n",
    "    "
   ]
  },
  {
   "cell_type": "code",
   "execution_count": 184,
   "id": "a628cdc3",
   "metadata": {},
   "outputs": [
    {
     "data": {
      "image/png": "[encoded data removed]",
      "text/plain": [
       "<Figure size 720x432 with 1 Axes>"
      ]
     },
     "metadata": {
      "needs_background": "light"
     },
     "output_type": "display_data"
    }
   ],
   "source": [
    "industry_data_sorted = test_data.sort_values('Market Cap', ascending='False')\n",
    "plt.figure(figsize=(10,6))\n",
    "\n",
    "sns.barplot(x=\"Market Cap\", y=\"Company\", data=industry_data_sorted, palette='viridis')\n",
    "plt.title(f\"Market Cap of Companies in {'Electronics & Computer Distribution'} Industry\")\n",
    "plt.xlabel(\"Market Cap (in Billion USD)\")\n",
    "plt.ylabel(\"Company\")\n",
    "\n",
    "plt.show()\n"
   ]
  },
  {
   "cell_type": "code",
   "execution_count": null,
   "id": "f9136907",
   "metadata": {},
   "outputs": [],
   "source": []
  },
  {
   "cell_type": "code",
   "execution_count": null,
   "id": "7c8a5af0",
   "metadata": {},
   "outputs": [],
   "source": []
  },
  {
   "cell_type": "code",
   "execution_count": null,
   "id": "188361ca",
   "metadata": {},
   "outputs": [],
   "source": []
  },
  {
   "cell_type": "code",
   "execution_count": null,
   "id": "34317ce3",
   "metadata": {},
   "outputs": [],
   "source": []
  },
  {
   "cell_type": "code",
   "execution_count": null,
   "id": "ff7a025a",
   "metadata": {},
   "outputs": [],
   "source": []
  },
  {
   "cell_type": "code",
   "execution_count": null,
   "id": "a9647c68",
   "metadata": {},
   "outputs": [],
   "source": []
  },
  {
   "cell_type": "code",
   "execution_count": null,
   "id": "7e567727",
   "metadata": {},
   "outputs": [],
   "source": []
  }
 ],
 "metadata": {
  "kernelspec": {
   "display_name": "Python 3 (ipykernel)",
   "language": "python",
   "name": "python3"
  },
  "language_info": {
   "codemirror_mode": {
    "name": "ipython",
    "version": 3
   },
   "file_extension": ".py",
   "mimetype": "text/x-python",
   "name": "python",
   "nbconvert_exporter": "python",
   "pygments_lexer": "ipython3",
   "version": "3.9.7"
  }
 },
 "nbformat": 4,
 "nbformat_minor": 5
}
