{
 "cells": [
  {
   "cell_type": "markdown",
   "metadata": {},
   "source": [
    "#### **Name**: Prasad GVS\n",
    "#### **SDS Profile Link**: https://community.superdatascience.com/u/d95a79a9"
   ]
  },
  {
   "cell_type": "markdown",
   "metadata": {},
   "source": [
    "### **Project Brief:**\n",
    "The technology sector is one of the most dynamic and rapidly evolving industries. This project aims to analyze the leading technology companies globally by leveraging a dataset containing their rankings, market capitalization, stock tickers, country of operation, and the sector and industry they belong to. The goal is to uncover insights into the market dynamics of top tech companies, identify trends in market capitalization across regions, and understand the competitive landscape within various sectors and industries. This analysis will provide a comprehensive overview of the global tech industry, highlighting major players and trends that could inform business decisions, investment strategies, and market positioning."
   ]
  },
  {
   "cell_type": "markdown",
   "metadata": {},
   "source": [
    "#### Project Objectives\n",
    "**Analyze Market Capitalization Trends:** Understand the distribution of market cap among the top tech companies, identifying companies with the largest and smallest market caps, and examining trends in the dataset.\n",
    "\n",
    "**Regional Insights:** Investigate how tech companies' market caps and rankings vary across different countries and regions, and identify which regions dominate the global tech landscape.\n",
    "\n",
    "**Sector and Industry Breakdown:** Examine the various sectors and industries within the tech field, identifying key players and emerging competitors in each industry (software, hardware, telecommunications, etc.).\n",
    "\n",
    "**Competitive Positioning:** Assess how companies rank against their peers within the same sector and industry, providing insights into competitive strengths and weaknesses.\n",
    "\n",
    "**Provide Strategic Recommendations (optional):** Based on the analysis, offer data-driven recommendations on potential opportunities for growth, investment, or expansion within the tech sector.\n",
    "\n",
    "#### Business Questions to Answer:\n",
    "1. Which companies hold the largest market share in the global tech industry?\n",
    "2. How does market capitalization vary across countries or regions?\n",
    "3. What are the leading sectors and industries within the tech space?\n",
    "4. Which companies have shown consistent growth in market capitalization over time?\n",
    "5. What emerging tech companies are rising in rankings?\n",
    "\n",
    "#### Project Deliverables\n",
    "1. **Data Exploration Report:** Initial findings on the distribution of rankings, market caps, and company performance across countries, sectors, and industries.\n",
    "2. **Regional Market Analysis:** Detailed analysis of how tech companies are distributed geographically, highlighting regions with the largest market caps and the most competitive landscapes.\n",
    "3. **Sector and Industry Insights:** Breakdown of leading companies by sector and industry, identifying key players, trends, and emerging competitors.\n",
    "4. **Competitive Analysis Report:** Comparative report showing company rankings within specific industries, analyzing how different companies perform against their peers.\n",
    "5. **Strategic Recommendations:** Actionable insights and recommendations for businesses on areas of growth, investment, or strategic expansion.\n",
    "6. **Dashboard (Optional):** Interactive visualization that allows users to explore market cap, ranking, and other key metrics across companies, regions, and sectors."
   ]
  },
  {
   "cell_type": "markdown",
   "metadata": {
    "jp-MarkdownHeadingCollapsed": true
   },
   "source": [
    "### **Import the libraries**"
   ]
  },
  {
   "cell_type": "code",
   "execution_count": 4,
   "metadata": {},
   "outputs": [],
   "source": [
    "import pandas as pd\n",
    "import numpy as np\n",
    "import matplotlib.pyplot as plt\n",
    "import seaborn as sns"
   ]
  },
  {
   "cell_type": "markdown",
   "metadata": {
    "jp-MarkdownHeadingCollapsed": true
   },
   "source": [
    "### **Import the dataset**"
   ]
  },
  {
   "cell_type": "code",
   "execution_count": 5,
   "metadata": {},
   "outputs": [],
   "source": [
    "df = pd.read_csv('../../data/tech-companies.csv')"
   ]
  },
  {
   "cell_type": "markdown",
   "metadata": {},
   "source": [
    "#### **Initial analysis of dataset**"
   ]
  },
  {
   "cell_type": "code",
   "execution_count": 6,
   "metadata": {},
   "outputs": [
    {
     "data": {
      "text/html": [
       "<div>\n",
       "<style scoped>\n",
       "    .dataframe tbody tr th:only-of-type {\n",
       "        vertical-align: middle;\n",
       "    }\n",
       "\n",
       "    .dataframe tbody tr th {\n",
       "        vertical-align: top;\n",
       "    }\n",
       "\n",
       "    .dataframe thead th {\n",
       "        text-align: right;\n",
       "    }\n",
       "</style>\n",
       "<table border=\"1\" class=\"dataframe\">\n",
       "  <thead>\n",
       "    <tr style=\"text-align: right;\">\n",
       "      <th></th>\n",
       "      <th>Ranking</th>\n",
       "      <th>Company</th>\n",
       "      <th>Market Cap</th>\n",
       "      <th>Stock</th>\n",
       "      <th>Country</th>\n",
       "      <th>Sector</th>\n",
       "      <th>Industry</th>\n",
       "    </tr>\n",
       "  </thead>\n",
       "  <tbody>\n",
       "    <tr>\n",
       "      <th>0</th>\n",
       "      <td>1</td>\n",
       "      <td>Apple Inc.</td>\n",
       "      <td>$2.866 T</td>\n",
       "      <td>AAPL</td>\n",
       "      <td>United States</td>\n",
       "      <td>Technology</td>\n",
       "      <td>Consumer Electronics</td>\n",
       "    </tr>\n",
       "    <tr>\n",
       "      <th>1</th>\n",
       "      <td>2</td>\n",
       "      <td>Microsoft Corporation</td>\n",
       "      <td>$2.755 T</td>\n",
       "      <td>MSFT</td>\n",
       "      <td>United States</td>\n",
       "      <td>Technology</td>\n",
       "      <td>Software—Infrastructure</td>\n",
       "    </tr>\n",
       "    <tr>\n",
       "      <th>2</th>\n",
       "      <td>3</td>\n",
       "      <td>Nvidia Corporation</td>\n",
       "      <td>$1.186 T</td>\n",
       "      <td>NVDA</td>\n",
       "      <td>United States</td>\n",
       "      <td>Technology</td>\n",
       "      <td>Semiconductors</td>\n",
       "    </tr>\n",
       "    <tr>\n",
       "      <th>3</th>\n",
       "      <td>4</td>\n",
       "      <td>Broadcom Inc.</td>\n",
       "      <td>$495.95 B</td>\n",
       "      <td>AVGO</td>\n",
       "      <td>United States</td>\n",
       "      <td>Technology</td>\n",
       "      <td>Semiconductors</td>\n",
       "    </tr>\n",
       "    <tr>\n",
       "      <th>4</th>\n",
       "      <td>5</td>\n",
       "      <td>Taiwan Semiconductor Manufacturing Company Lim...</td>\n",
       "      <td>$487.64 B</td>\n",
       "      <td>2330</td>\n",
       "      <td>Taiwan</td>\n",
       "      <td>Technology</td>\n",
       "      <td>Semiconductors</td>\n",
       "    </tr>\n",
       "  </tbody>\n",
       "</table>\n",
       "</div>"
      ],
      "text/plain": [
       "   Ranking                                            Company Market Cap  \\\n",
       "0        1                                         Apple Inc.   $2.866 T   \n",
       "1        2                              Microsoft Corporation   $2.755 T   \n",
       "2        3                                 Nvidia Corporation   $1.186 T   \n",
       "3        4                                      Broadcom Inc.  $495.95 B   \n",
       "4        5  Taiwan Semiconductor Manufacturing Company Lim...  $487.64 B   \n",
       "\n",
       "  Stock        Country      Sector                 Industry  \n",
       "0  AAPL  United States  Technology     Consumer Electronics  \n",
       "1  MSFT  United States  Technology  Software—Infrastructure  \n",
       "2  NVDA  United States  Technology           Semiconductors  \n",
       "3  AVGO  United States  Technology           Semiconductors  \n",
       "4  2330         Taiwan  Technology           Semiconductors  "
      ]
     },
     "execution_count": 6,
     "metadata": {},
     "output_type": "execute_result"
    }
   ],
   "source": [
    "df.head()"
   ]
  },
  {
   "cell_type": "code",
   "execution_count": 8,
   "metadata": {},
   "outputs": [
    {
     "data": {
      "text/plain": [
       "(1000, 7)"
      ]
     },
     "execution_count": 8,
     "metadata": {},
     "output_type": "execute_result"
    }
   ],
   "source": [
    "df.shape"
   ]
  },
  {
   "cell_type": "code",
   "execution_count": 9,
   "metadata": {},
   "outputs": [
    {
     "name": "stdout",
     "output_type": "stream",
     "text": [
      "<class 'pandas.core.frame.DataFrame'>\n",
      "RangeIndex: 1000 entries, 0 to 999\n",
      "Data columns (total 7 columns):\n",
      " #   Column      Non-Null Count  Dtype \n",
      "---  ------      --------------  ----- \n",
      " 0   Ranking     1000 non-null   int64 \n",
      " 1   Company     1000 non-null   object\n",
      " 2   Market Cap  1000 non-null   object\n",
      " 3   Stock       1000 non-null   object\n",
      " 4   Country     1000 non-null   object\n",
      " 5   Sector      1000 non-null   object\n",
      " 6   Industry    1000 non-null   object\n",
      "dtypes: int64(1), object(6)\n",
      "memory usage: 54.8+ KB\n"
     ]
    }
   ],
   "source": [
    "df.info()"
   ]
  },
  {
   "cell_type": "code",
   "execution_count": 11,
   "metadata": {},
   "outputs": [
    {
     "data": {
      "text/html": [
       "<div>\n",
       "<style scoped>\n",
       "    .dataframe tbody tr th:only-of-type {\n",
       "        vertical-align: middle;\n",
       "    }\n",
       "\n",
       "    .dataframe tbody tr th {\n",
       "        vertical-align: top;\n",
       "    }\n",
       "\n",
       "    .dataframe thead th {\n",
       "        text-align: right;\n",
       "    }\n",
       "</style>\n",
       "<table border=\"1\" class=\"dataframe\">\n",
       "  <thead>\n",
       "    <tr style=\"text-align: right;\">\n",
       "      <th></th>\n",
       "      <th>Ranking</th>\n",
       "    </tr>\n",
       "  </thead>\n",
       "  <tbody>\n",
       "    <tr>\n",
       "      <th>count</th>\n",
       "      <td>1000.000000</td>\n",
       "    </tr>\n",
       "    <tr>\n",
       "      <th>mean</th>\n",
       "      <td>500.500000</td>\n",
       "    </tr>\n",
       "    <tr>\n",
       "      <th>std</th>\n",
       "      <td>288.819436</td>\n",
       "    </tr>\n",
       "    <tr>\n",
       "      <th>min</th>\n",
       "      <td>1.000000</td>\n",
       "    </tr>\n",
       "    <tr>\n",
       "      <th>25%</th>\n",
       "      <td>250.750000</td>\n",
       "    </tr>\n",
       "    <tr>\n",
       "      <th>50%</th>\n",
       "      <td>500.500000</td>\n",
       "    </tr>\n",
       "    <tr>\n",
       "      <th>75%</th>\n",
       "      <td>750.250000</td>\n",
       "    </tr>\n",
       "    <tr>\n",
       "      <th>max</th>\n",
       "      <td>1000.000000</td>\n",
       "    </tr>\n",
       "  </tbody>\n",
       "</table>\n",
       "</div>"
      ],
      "text/plain": [
       "           Ranking\n",
       "count  1000.000000\n",
       "mean    500.500000\n",
       "std     288.819436\n",
       "min       1.000000\n",
       "25%     250.750000\n",
       "50%     500.500000\n",
       "75%     750.250000\n",
       "max    1000.000000"
      ]
     },
     "execution_count": 11,
     "metadata": {},
     "output_type": "execute_result"
    }
   ],
   "source": [
    "df.describe()"
   ]
  },
  {
   "cell_type": "code",
   "execution_count": 12,
   "metadata": {},
   "outputs": [
    {
     "data": {
      "text/html": [
       "<div>\n",
       "<style scoped>\n",
       "    .dataframe tbody tr th:only-of-type {\n",
       "        vertical-align: middle;\n",
       "    }\n",
       "\n",
       "    .dataframe tbody tr th {\n",
       "        vertical-align: top;\n",
       "    }\n",
       "\n",
       "    .dataframe thead th {\n",
       "        text-align: right;\n",
       "    }\n",
       "</style>\n",
       "<table border=\"1\" class=\"dataframe\">\n",
       "  <thead>\n",
       "    <tr style=\"text-align: right;\">\n",
       "      <th></th>\n",
       "      <th>Company</th>\n",
       "      <th>Market Cap</th>\n",
       "      <th>Stock</th>\n",
       "      <th>Country</th>\n",
       "      <th>Sector</th>\n",
       "      <th>Industry</th>\n",
       "    </tr>\n",
       "  </thead>\n",
       "  <tbody>\n",
       "    <tr>\n",
       "      <th>count</th>\n",
       "      <td>1000</td>\n",
       "      <td>1000</td>\n",
       "      <td>1000</td>\n",
       "      <td>1000</td>\n",
       "      <td>1000</td>\n",
       "      <td>1000</td>\n",
       "    </tr>\n",
       "    <tr>\n",
       "      <th>unique</th>\n",
       "      <td>1000</td>\n",
       "      <td>684</td>\n",
       "      <td>996</td>\n",
       "      <td>38</td>\n",
       "      <td>1</td>\n",
       "      <td>12</td>\n",
       "    </tr>\n",
       "    <tr>\n",
       "      <th>top</th>\n",
       "      <td>Apple Inc.</td>\n",
       "      <td>$1.16 B</td>\n",
       "      <td>2382</td>\n",
       "      <td>United States</td>\n",
       "      <td>Technology</td>\n",
       "      <td>Software—Application</td>\n",
       "    </tr>\n",
       "    <tr>\n",
       "      <th>freq</th>\n",
       "      <td>1</td>\n",
       "      <td>9</td>\n",
       "      <td>2</td>\n",
       "      <td>317</td>\n",
       "      <td>1000</td>\n",
       "      <td>198</td>\n",
       "    </tr>\n",
       "  </tbody>\n",
       "</table>\n",
       "</div>"
      ],
      "text/plain": [
       "           Company Market Cap Stock        Country      Sector  \\\n",
       "count         1000       1000  1000           1000        1000   \n",
       "unique        1000        684   996             38           1   \n",
       "top     Apple Inc.    $1.16 B  2382  United States  Technology   \n",
       "freq             1          9     2            317        1000   \n",
       "\n",
       "                    Industry  \n",
       "count                   1000  \n",
       "unique                    12  \n",
       "top     Software—Application  \n",
       "freq                     198  "
      ]
     },
     "execution_count": 12,
     "metadata": {},
     "output_type": "execute_result"
    }
   ],
   "source": [
    "df.describe(include='object')"
   ]
  },
  {
   "cell_type": "markdown",
   "metadata": {},
   "source": [
    "### **EDA**"
   ]
  },
  {
   "cell_type": "markdown",
   "metadata": {
    "jp-MarkdownHeadingCollapsed": true
   },
   "source": [
    "#### **Cleaning Missing data**"
   ]
  },
  {
   "cell_type": "code",
   "execution_count": 10,
   "metadata": {},
   "outputs": [
    {
     "data": {
      "text/plain": [
       "Ranking       0\n",
       "Company       0\n",
       "Market Cap    0\n",
       "Stock         0\n",
       "Country       0\n",
       "Sector        0\n",
       "Industry      0\n",
       "dtype: int64"
      ]
     },
     "execution_count": 10,
     "metadata": {},
     "output_type": "execute_result"
    }
   ],
   "source": [
    "df.isna().sum()"
   ]
  },
  {
   "cell_type": "markdown",
   "metadata": {},
   "source": [
    "##### <font color='blue'>**There is no missing data in the dataset**</font>"
   ]
  },
  {
   "cell_type": "markdown",
   "metadata": {},
   "source": [
    "#### **Cleaning duplicate data**"
   ]
  },
  {
   "cell_type": "code",
   "execution_count": 14,
   "metadata": {},
   "outputs": [
    {
     "data": {
      "text/plain": [
       "False    1000\n",
       "Name: count, dtype: int64"
      ]
     },
     "execution_count": 14,
     "metadata": {},
     "output_type": "execute_result"
    }
   ],
   "source": [
    "df.duplicated().value_counts()"
   ]
  },
  {
   "cell_type": "markdown",
   "metadata": {},
   "source": [
    "##### <font color='blue'>**No duplicate rows in the dataset**</font>"
   ]
  },
  {
   "cell_type": "code",
   "execution_count": null,
   "metadata": {},
   "outputs": [],
   "source": []
  },
  {
   "cell_type": "markdown",
   "metadata": {},
   "source": [
    "#### **Convert curreny data**"
   ]
  },
  {
   "cell_type": "markdown",
   "metadata": {},
   "source": [
    "#### **Encoding categorical data**"
   ]
  },
  {
   "cell_type": "markdown",
   "metadata": {},
   "source": [
    "#### **Outliers**"
   ]
  },
  {
   "cell_type": "code",
   "execution_count": null,
   "metadata": {},
   "outputs": [],
   "source": []
  }
 ],
 "metadata": {
  "kernelspec": {
   "display_name": "Python 3 (ipykernel)",
   "language": "python",
   "name": "python3"
  },
  "language_info": {
   "codemirror_mode": {
    "name": "ipython",
    "version": 3
   },
   "file_extension": ".py",
   "mimetype": "text/x-python",
   "name": "python",
   "nbconvert_exporter": "python",
   "pygments_lexer": "ipython3",
   "version": "3.12.4"
  }
 },
 "nbformat": 4,
 "nbformat_minor": 4
}
