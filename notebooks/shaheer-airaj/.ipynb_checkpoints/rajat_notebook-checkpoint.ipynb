{
 "cells": [
  {
   "cell_type": "code",
   "execution_count": 194,
   "id": "de4575cd",
   "metadata": {},
   "outputs": [],
   "source": [
    "import pandas as pd"
   ]
  },
  {
   "cell_type": "markdown",
   "id": "9151110d",
   "metadata": {},
   "source": [
    "# Data Exploration & Cleaning (Week 1)"
   ]
  },
  {
   "cell_type": "code",
   "execution_count": 195,
   "id": "159d7a90",
   "metadata": {},
   "outputs": [],
   "source": [
    "data = pd.read_csv(\"/Users/rajatthakur/Desktop/SuperDataScienceML/CollaborationProjects/SDS-CP010-tech-companies-analysis/data/tech-companies.csv\")"
   ]
  },
  {
   "cell_type": "code",
   "execution_count": 196,
   "id": "ca9ffcd0",
   "metadata": {},
   "outputs": [
    {
     "data": {
      "text/html": [
       "<div>\n",
       "<style scoped>\n",
       "    .dataframe tbody tr th:only-of-type {\n",
       "        vertical-align: middle;\n",
       "    }\n",
       "\n",
       "    .dataframe tbody tr th {\n",
       "        vertical-align: top;\n",
       "    }\n",
       "\n",
       "    .dataframe thead th {\n",
       "        text-align: right;\n",
       "    }\n",
       "</style>\n",
       "<table border=\"1\" class=\"dataframe\">\n",
       "  <thead>\n",
       "    <tr style=\"text-align: right;\">\n",
       "      <th></th>\n",
       "      <th>Ranking</th>\n",
       "      <th>Company</th>\n",
       "      <th>Market Cap</th>\n",
       "      <th>Stock</th>\n",
       "      <th>Country</th>\n",
       "      <th>Sector</th>\n",
       "      <th>Industry</th>\n",
       "    </tr>\n",
       "  </thead>\n",
       "  <tbody>\n",
       "    <tr>\n",
       "      <th>0</th>\n",
       "      <td>1</td>\n",
       "      <td>Apple Inc.</td>\n",
       "      <td>$2.866 T</td>\n",
       "      <td>AAPL</td>\n",
       "      <td>United States</td>\n",
       "      <td>Technology</td>\n",
       "      <td>Consumer Electronics</td>\n",
       "    </tr>\n",
       "    <tr>\n",
       "      <th>1</th>\n",
       "      <td>2</td>\n",
       "      <td>Microsoft Corporation</td>\n",
       "      <td>$2.755 T</td>\n",
       "      <td>MSFT</td>\n",
       "      <td>United States</td>\n",
       "      <td>Technology</td>\n",
       "      <td>Software—Infrastructure</td>\n",
       "    </tr>\n",
       "    <tr>\n",
       "      <th>2</th>\n",
       "      <td>3</td>\n",
       "      <td>Nvidia Corporation</td>\n",
       "      <td>$1.186 T</td>\n",
       "      <td>NVDA</td>\n",
       "      <td>United States</td>\n",
       "      <td>Technology</td>\n",
       "      <td>Semiconductors</td>\n",
       "    </tr>\n",
       "    <tr>\n",
       "      <th>3</th>\n",
       "      <td>4</td>\n",
       "      <td>Broadcom Inc.</td>\n",
       "      <td>$495.95 B</td>\n",
       "      <td>AVGO</td>\n",
       "      <td>United States</td>\n",
       "      <td>Technology</td>\n",
       "      <td>Semiconductors</td>\n",
       "    </tr>\n",
       "    <tr>\n",
       "      <th>4</th>\n",
       "      <td>5</td>\n",
       "      <td>Taiwan Semiconductor Manufacturing Company Lim...</td>\n",
       "      <td>$487.64 B</td>\n",
       "      <td>2330</td>\n",
       "      <td>Taiwan</td>\n",
       "      <td>Technology</td>\n",
       "      <td>Semiconductors</td>\n",
       "    </tr>\n",
       "    <tr>\n",
       "      <th>...</th>\n",
       "      <td>...</td>\n",
       "      <td>...</td>\n",
       "      <td>...</td>\n",
       "      <td>...</td>\n",
       "      <td>...</td>\n",
       "      <td>...</td>\n",
       "      <td>...</td>\n",
       "    </tr>\n",
       "    <tr>\n",
       "      <th>995</th>\n",
       "      <td>996</td>\n",
       "      <td>Henan Thinker Automatic Equipment Co.,Ltd.</td>\n",
       "      <td>$825.4 M</td>\n",
       "      <td>603508</td>\n",
       "      <td>China</td>\n",
       "      <td>Technology</td>\n",
       "      <td>Scientific &amp; Technical Instruments</td>\n",
       "    </tr>\n",
       "    <tr>\n",
       "      <th>996</th>\n",
       "      <td>997</td>\n",
       "      <td>transcosmos, Inc.</td>\n",
       "      <td>$819.5 M</td>\n",
       "      <td>9715</td>\n",
       "      <td>Japan</td>\n",
       "      <td>Technology</td>\n",
       "      <td>Information Technology Services</td>\n",
       "    </tr>\n",
       "    <tr>\n",
       "      <th>997</th>\n",
       "      <td>998</td>\n",
       "      <td>Yeahka Ltd</td>\n",
       "      <td>$819.3 M</td>\n",
       "      <td>9923</td>\n",
       "      <td>China</td>\n",
       "      <td>Technology</td>\n",
       "      <td>Software—Infrastructure</td>\n",
       "    </tr>\n",
       "    <tr>\n",
       "      <th>998</th>\n",
       "      <td>999</td>\n",
       "      <td>Beijing Wanji Technology Co. Ltd</td>\n",
       "      <td>$816.1 M</td>\n",
       "      <td>300552</td>\n",
       "      <td>China</td>\n",
       "      <td>Technology</td>\n",
       "      <td>Scientific &amp; Technical Instruments</td>\n",
       "    </tr>\n",
       "    <tr>\n",
       "      <th>999</th>\n",
       "      <td>1000</td>\n",
       "      <td>Fujian Foxit Software Development Joint Stock ...</td>\n",
       "      <td>$811.5 M</td>\n",
       "      <td>688095</td>\n",
       "      <td>China</td>\n",
       "      <td>Technology</td>\n",
       "      <td>Software—Application</td>\n",
       "    </tr>\n",
       "  </tbody>\n",
       "</table>\n",
       "<p>1000 rows × 7 columns</p>\n",
       "</div>"
      ],
      "text/plain": [
       "     Ranking                                            Company Market Cap  \\\n",
       "0          1                                         Apple Inc.   $2.866 T   \n",
       "1          2                              Microsoft Corporation   $2.755 T   \n",
       "2          3                                 Nvidia Corporation   $1.186 T   \n",
       "3          4                                      Broadcom Inc.  $495.95 B   \n",
       "4          5  Taiwan Semiconductor Manufacturing Company Lim...  $487.64 B   \n",
       "..       ...                                                ...        ...   \n",
       "995      996         Henan Thinker Automatic Equipment Co.,Ltd.   $825.4 M   \n",
       "996      997                                  transcosmos, Inc.   $819.5 M   \n",
       "997      998                                         Yeahka Ltd   $819.3 M   \n",
       "998      999                   Beijing Wanji Technology Co. Ltd   $816.1 M   \n",
       "999     1000  Fujian Foxit Software Development Joint Stock ...   $811.5 M   \n",
       "\n",
       "      Stock        Country      Sector                            Industry  \n",
       "0      AAPL  United States  Technology                Consumer Electronics  \n",
       "1      MSFT  United States  Technology             Software—Infrastructure  \n",
       "2      NVDA  United States  Technology                      Semiconductors  \n",
       "3      AVGO  United States  Technology                      Semiconductors  \n",
       "4      2330         Taiwan  Technology                      Semiconductors  \n",
       "..      ...            ...         ...                                 ...  \n",
       "995  603508          China  Technology  Scientific & Technical Instruments  \n",
       "996    9715          Japan  Technology     Information Technology Services  \n",
       "997    9923          China  Technology             Software—Infrastructure  \n",
       "998  300552          China  Technology  Scientific & Technical Instruments  \n",
       "999  688095          China  Technology                Software—Application  \n",
       "\n",
       "[1000 rows x 7 columns]"
      ]
     },
     "execution_count": 196,
     "metadata": {},
     "output_type": "execute_result"
    }
   ],
   "source": [
    "data"
   ]
  },
  {
   "cell_type": "code",
   "execution_count": 197,
   "id": "9cdebde2",
   "metadata": {},
   "outputs": [
    {
     "name": "stdout",
     "output_type": "stream",
     "text": [
      "<class 'pandas.core.frame.DataFrame'>\n",
      "RangeIndex: 1000 entries, 0 to 999\n",
      "Data columns (total 7 columns):\n",
      " #   Column      Non-Null Count  Dtype \n",
      "---  ------      --------------  ----- \n",
      " 0   Ranking     1000 non-null   int64 \n",
      " 1   Company     1000 non-null   object\n",
      " 2   Market Cap  1000 non-null   object\n",
      " 3   Stock       1000 non-null   object\n",
      " 4   Country     1000 non-null   object\n",
      " 5   Sector      1000 non-null   object\n",
      " 6   Industry    1000 non-null   object\n",
      "dtypes: int64(1), object(6)\n",
      "memory usage: 54.8+ KB\n"
     ]
    }
   ],
   "source": [
    "data.info()"
   ]
  },
  {
   "cell_type": "code",
   "execution_count": 198,
   "id": "6461a990",
   "metadata": {},
   "outputs": [],
   "source": [
    "# Summary Statistics:"
   ]
  },
  {
   "cell_type": "code",
   "execution_count": 199,
   "id": "8b87b6d7",
   "metadata": {},
   "outputs": [
    {
     "name": "stderr",
     "output_type": "stream",
     "text": [
      "/var/folders/7h/099t5t950s10yv3y5sz80ls00000gn/T/ipykernel_37881/547994546.py:14: SettingWithCopyWarning: \n",
      "A value is trying to be set on a copy of a slice from a DataFrame\n",
      "\n",
      "See the caveats in the documentation: https://pandas.pydata.org/pandas-docs/stable/user_guide/indexing.html#returning-a-view-versus-a-copy\n",
      "  data['Market Cap'][i] = marketCap\n"
     ]
    }
   ],
   "source": [
    "#Transformation of Market Cap to Numeric data to understand Marktet Cap Statistics\n",
    "for i, marketCap in enumerate(data['Market Cap']):\n",
    "    marketCap = marketCap.replace('$', '')\n",
    "    \n",
    "    if 'T' in marketCap:\n",
    "        marketCap = float(marketCap.replace('T', '')) * 1e12\n",
    "    elif 'B' in marketCap:\n",
    "        marketCap = float(marketCap.replace('B', '')) * 1e9\n",
    "    elif 'M' in marketCap:\n",
    "        marketCap = float(marketCap.replace('M', '')) * 1e6\n",
    "    else:\n",
    "        marketCap = float(marketCap) \n",
    "    \n",
    "    data['Market Cap'][i] = marketCap\n"
   ]
  },
  {
   "cell_type": "code",
   "execution_count": 213,
   "id": "1e8b7862",
   "metadata": {},
   "outputs": [
    {
     "data": {
      "text/html": [
       "<div>\n",
       "<style scoped>\n",
       "    .dataframe tbody tr th:only-of-type {\n",
       "        vertical-align: middle;\n",
       "    }\n",
       "\n",
       "    .dataframe tbody tr th {\n",
       "        vertical-align: top;\n",
       "    }\n",
       "\n",
       "    .dataframe thead th {\n",
       "        text-align: right;\n",
       "    }\n",
       "</style>\n",
       "<table border=\"1\" class=\"dataframe\">\n",
       "  <thead>\n",
       "    <tr style=\"text-align: right;\">\n",
       "      <th></th>\n",
       "      <th>Ranking</th>\n",
       "      <th>Company</th>\n",
       "      <th>Market Cap</th>\n",
       "      <th>Stock</th>\n",
       "      <th>Country</th>\n",
       "      <th>Sector</th>\n",
       "      <th>Industry</th>\n",
       "    </tr>\n",
       "  </thead>\n",
       "  <tbody>\n",
       "    <tr>\n",
       "      <th>0</th>\n",
       "      <td>1</td>\n",
       "      <td>Apple Inc.</td>\n",
       "      <td>2866000000000.0</td>\n",
       "      <td>AAPL</td>\n",
       "      <td>United States</td>\n",
       "      <td>Technology</td>\n",
       "      <td>Consumer Electronics</td>\n",
       "    </tr>\n",
       "    <tr>\n",
       "      <th>1</th>\n",
       "      <td>2</td>\n",
       "      <td>Microsoft Corporation</td>\n",
       "      <td>2755000000000.0</td>\n",
       "      <td>MSFT</td>\n",
       "      <td>United States</td>\n",
       "      <td>Technology</td>\n",
       "      <td>Software—Infrastructure</td>\n",
       "    </tr>\n",
       "    <tr>\n",
       "      <th>2</th>\n",
       "      <td>3</td>\n",
       "      <td>Nvidia Corporation</td>\n",
       "      <td>1186000000000.0</td>\n",
       "      <td>NVDA</td>\n",
       "      <td>United States</td>\n",
       "      <td>Technology</td>\n",
       "      <td>Semiconductors</td>\n",
       "    </tr>\n",
       "    <tr>\n",
       "      <th>3</th>\n",
       "      <td>4</td>\n",
       "      <td>Broadcom Inc.</td>\n",
       "      <td>495950000000.0</td>\n",
       "      <td>AVGO</td>\n",
       "      <td>United States</td>\n",
       "      <td>Technology</td>\n",
       "      <td>Semiconductors</td>\n",
       "    </tr>\n",
       "    <tr>\n",
       "      <th>4</th>\n",
       "      <td>5</td>\n",
       "      <td>Taiwan Semiconductor Manufacturing Company Lim...</td>\n",
       "      <td>487640000000.0</td>\n",
       "      <td>2330</td>\n",
       "      <td>Taiwan</td>\n",
       "      <td>Technology</td>\n",
       "      <td>Semiconductors</td>\n",
       "    </tr>\n",
       "    <tr>\n",
       "      <th>...</th>\n",
       "      <td>...</td>\n",
       "      <td>...</td>\n",
       "      <td>...</td>\n",
       "      <td>...</td>\n",
       "      <td>...</td>\n",
       "      <td>...</td>\n",
       "      <td>...</td>\n",
       "    </tr>\n",
       "    <tr>\n",
       "      <th>995</th>\n",
       "      <td>996</td>\n",
       "      <td>Henan Thinker Automatic Equipment Co.,Ltd.</td>\n",
       "      <td>825400000.0</td>\n",
       "      <td>603508</td>\n",
       "      <td>China</td>\n",
       "      <td>Technology</td>\n",
       "      <td>Scientific &amp; Technical Instruments</td>\n",
       "    </tr>\n",
       "    <tr>\n",
       "      <th>996</th>\n",
       "      <td>997</td>\n",
       "      <td>transcosmos, Inc.</td>\n",
       "      <td>819500000.0</td>\n",
       "      <td>9715</td>\n",
       "      <td>Japan</td>\n",
       "      <td>Technology</td>\n",
       "      <td>Information Technology Services</td>\n",
       "    </tr>\n",
       "    <tr>\n",
       "      <th>997</th>\n",
       "      <td>998</td>\n",
       "      <td>Yeahka Ltd</td>\n",
       "      <td>819300000.0</td>\n",
       "      <td>9923</td>\n",
       "      <td>China</td>\n",
       "      <td>Technology</td>\n",
       "      <td>Software—Infrastructure</td>\n",
       "    </tr>\n",
       "    <tr>\n",
       "      <th>998</th>\n",
       "      <td>999</td>\n",
       "      <td>Beijing Wanji Technology Co. Ltd</td>\n",
       "      <td>816100000.0</td>\n",
       "      <td>300552</td>\n",
       "      <td>China</td>\n",
       "      <td>Technology</td>\n",
       "      <td>Scientific &amp; Technical Instruments</td>\n",
       "    </tr>\n",
       "    <tr>\n",
       "      <th>999</th>\n",
       "      <td>1000</td>\n",
       "      <td>Fujian Foxit Software Development Joint Stock ...</td>\n",
       "      <td>811500000.0</td>\n",
       "      <td>688095</td>\n",
       "      <td>China</td>\n",
       "      <td>Technology</td>\n",
       "      <td>Software—Application</td>\n",
       "    </tr>\n",
       "  </tbody>\n",
       "</table>\n",
       "<p>1000 rows × 7 columns</p>\n",
       "</div>"
      ],
      "text/plain": [
       "     Ranking                                            Company  \\\n",
       "0          1                                         Apple Inc.   \n",
       "1          2                              Microsoft Corporation   \n",
       "2          3                                 Nvidia Corporation   \n",
       "3          4                                      Broadcom Inc.   \n",
       "4          5  Taiwan Semiconductor Manufacturing Company Lim...   \n",
       "..       ...                                                ...   \n",
       "995      996         Henan Thinker Automatic Equipment Co.,Ltd.   \n",
       "996      997                                  transcosmos, Inc.   \n",
       "997      998                                         Yeahka Ltd   \n",
       "998      999                   Beijing Wanji Technology Co. Ltd   \n",
       "999     1000  Fujian Foxit Software Development Joint Stock ...   \n",
       "\n",
       "          Market Cap   Stock        Country      Sector  \\\n",
       "0    2866000000000.0    AAPL  United States  Technology   \n",
       "1    2755000000000.0    MSFT  United States  Technology   \n",
       "2    1186000000000.0    NVDA  United States  Technology   \n",
       "3     495950000000.0    AVGO  United States  Technology   \n",
       "4     487640000000.0    2330         Taiwan  Technology   \n",
       "..               ...     ...            ...         ...   \n",
       "995      825400000.0  603508          China  Technology   \n",
       "996      819500000.0    9715          Japan  Technology   \n",
       "997      819300000.0    9923          China  Technology   \n",
       "998      816100000.0  300552          China  Technology   \n",
       "999      811500000.0  688095          China  Technology   \n",
       "\n",
       "                               Industry  \n",
       "0                  Consumer Electronics  \n",
       "1               Software—Infrastructure  \n",
       "2                        Semiconductors  \n",
       "3                        Semiconductors  \n",
       "4                        Semiconductors  \n",
       "..                                  ...  \n",
       "995  Scientific & Technical Instruments  \n",
       "996     Information Technology Services  \n",
       "997             Software—Infrastructure  \n",
       "998  Scientific & Technical Instruments  \n",
       "999                Software—Application  \n",
       "\n",
       "[1000 rows x 7 columns]"
      ]
     },
     "execution_count": 213,
     "metadata": {},
     "output_type": "execute_result"
    }
   ],
   "source": [
    "data"
   ]
  },
  {
   "cell_type": "code",
   "execution_count": 200,
   "id": "5f17564a",
   "metadata": {},
   "outputs": [
    {
     "name": "stdout",
     "output_type": "stream",
     "text": [
      "Requirement already satisfied: numerize in /Users/rajatthakur/opt/anaconda3/lib/python3.9/site-packages (0.12)\n",
      "Note: you may need to restart the kernel to use updated packages.\n"
     ]
    }
   ],
   "source": [
    "pip install numerize "
   ]
  },
  {
   "cell_type": "code",
   "execution_count": 201,
   "id": "16114364",
   "metadata": {},
   "outputs": [],
   "source": [
    "from numerize import numerize "
   ]
  },
  {
   "cell_type": "code",
   "execution_count": 202,
   "id": "0b5ebb60",
   "metadata": {
    "scrolled": true
   },
   "outputs": [
    {
     "name": "stdout",
     "output_type": "stream",
     "text": [
      "Average Market Cap of Top 1000 Companies:  18.76B\n"
     ]
    }
   ],
   "source": [
    "averageMarketCap = numerize.numerize(data['Market Cap'].mean())\n",
    "print('Average Market Cap of Top 1000 Companies: ',averageMarketCap)"
   ]
  },
  {
   "cell_type": "code",
   "execution_count": 203,
   "id": "1b853214",
   "metadata": {},
   "outputs": [
    {
     "name": "stdout",
     "output_type": "stream",
     "text": [
      "Standard Deviation(Market Cap Variation):  135.73B\n"
     ]
    }
   ],
   "source": [
    "marketCapVariation = numerize.numerize(data['Market Cap'].std())\n",
    "print('Standard Deviation(Market Cap Variation): ', marketCapVariation)"
   ]
  },
  {
   "cell_type": "code",
   "execution_count": 204,
   "id": "953ef2e6",
   "metadata": {},
   "outputs": [
    {
     "name": "stdout",
     "output_type": "stream",
     "text": [
      "Meidan Market Cap:  2.74B\n"
     ]
    }
   ],
   "source": [
    "medianMarketCap = numerize.numerize(data['Market Cap'].median())\n",
    "print('Meidan Market Cap: ', medianMarketCap)"
   ]
  },
  {
   "cell_type": "code",
   "execution_count": 243,
   "id": "d4fe2a18",
   "metadata": {
    "collapsed": true
   },
   "outputs": [
    {
     "data": {
      "text/plain": [
       "'Top Ten Companies according to their Market Cap'"
      ]
     },
     "metadata": {},
     "output_type": "display_data"
    },
    {
     "data": {
      "text/plain": [
       "0                                           Apple Inc.\n",
       "1                                Microsoft Corporation\n",
       "2                                   Nvidia Corporation\n",
       "3                                        Broadcom Inc.\n",
       "4    Taiwan Semiconductor Manufacturing Company Lim...\n",
       "5                        Samsung Electronics Co., Ltd.\n",
       "6                                    ASML Holding N.V.\n",
       "7                                   Oracle Corporation\n",
       "8                                           Adobe Inc.\n",
       "9                                 salesforce.com, inc.\n",
       "Name: Company, dtype: object"
      ]
     },
     "metadata": {},
     "output_type": "display_data"
    },
    {
     "data": {
      "text/plain": [
       "0      2.87T\n",
       "1      2.76T\n",
       "2      1.19T\n",
       "3    495.95B\n",
       "4    487.64B\n",
       "5    392.38B\n",
       "6     297.1B\n",
       "7    282.01B\n",
       "8    260.23B\n",
       "9    243.78B\n",
       "Name: Market Cap, dtype: object"
      ]
     },
     "metadata": {},
     "output_type": "display_data"
    }
   ],
   "source": [
    "topTenCompanies = data[['Company', 'Market Cap']].head(10)\n",
    "display('Top Ten Companies according to their Market Cap', topTenCompanies['Company'], topTenCompanies['Market Cap'].apply(numerize.numerize))"
   ]
  },
  {
   "cell_type": "code",
   "execution_count": 205,
   "id": "73a98abf",
   "metadata": {},
   "outputs": [
    {
     "name": "stdout",
     "output_type": "stream",
     "text": [
      "38 countries are represented by the companies there.\n"
     ]
    }
   ],
   "source": [
    "totalCountries = data['Country'].unique().size\n",
    "print(totalCountries ,'countries are represented by the companies there.')"
   ]
  },
  {
   "cell_type": "code",
   "execution_count": 206,
   "id": "f54a1ef9",
   "metadata": {},
   "outputs": [
    {
     "name": "stdout",
     "output_type": "stream",
     "text": [
      "Total number of Industries:  12\n"
     ]
    }
   ],
   "source": [
    "totalIndustries = data['Industry'].unique().size\n",
    "print('Total number of Industries: ', totalIndustries)"
   ]
  },
  {
   "cell_type": "code",
   "execution_count": 207,
   "id": "ed1cd058",
   "metadata": {},
   "outputs": [
    {
     "name": "stdout",
     "output_type": "stream",
     "text": [
      "All the industries belongs to ['Technology'] sector\n"
     ]
    }
   ],
   "source": [
    "industriesSector = data['Sector'].unique()\n",
    "print('All the industries belongs to', industriesSector, 'sector')"
   ]
  },
  {
   "cell_type": "code",
   "execution_count": 208,
   "id": "de5e6c15",
   "metadata": {},
   "outputs": [
    {
     "data": {
      "text/html": [
       "<div>\n",
       "<style scoped>\n",
       "    .dataframe tbody tr th:only-of-type {\n",
       "        vertical-align: middle;\n",
       "    }\n",
       "\n",
       "    .dataframe tbody tr th {\n",
       "        vertical-align: top;\n",
       "    }\n",
       "\n",
       "    .dataframe thead th {\n",
       "        text-align: right;\n",
       "    }\n",
       "</style>\n",
       "<table border=\"1\" class=\"dataframe\">\n",
       "  <thead>\n",
       "    <tr style=\"text-align: right;\">\n",
       "      <th></th>\n",
       "      <th>Ranking</th>\n",
       "      <th>Company</th>\n",
       "      <th>Market Cap</th>\n",
       "      <th>Stock</th>\n",
       "      <th>Country</th>\n",
       "      <th>Sector</th>\n",
       "      <th>Industry</th>\n",
       "    </tr>\n",
       "  </thead>\n",
       "  <tbody>\n",
       "    <tr>\n",
       "      <th>0</th>\n",
       "      <td>1</td>\n",
       "      <td>Apple Inc.</td>\n",
       "      <td>2866000000000.0</td>\n",
       "      <td>AAPL</td>\n",
       "      <td>United States</td>\n",
       "      <td>Technology</td>\n",
       "      <td>Consumer Electronics</td>\n",
       "    </tr>\n",
       "    <tr>\n",
       "      <th>1</th>\n",
       "      <td>2</td>\n",
       "      <td>Microsoft Corporation</td>\n",
       "      <td>2755000000000.0</td>\n",
       "      <td>MSFT</td>\n",
       "      <td>United States</td>\n",
       "      <td>Technology</td>\n",
       "      <td>Software—Infrastructure</td>\n",
       "    </tr>\n",
       "    <tr>\n",
       "      <th>2</th>\n",
       "      <td>3</td>\n",
       "      <td>Nvidia Corporation</td>\n",
       "      <td>1186000000000.0</td>\n",
       "      <td>NVDA</td>\n",
       "      <td>United States</td>\n",
       "      <td>Technology</td>\n",
       "      <td>Semiconductors</td>\n",
       "    </tr>\n",
       "    <tr>\n",
       "      <th>3</th>\n",
       "      <td>4</td>\n",
       "      <td>Broadcom Inc.</td>\n",
       "      <td>495950000000.0</td>\n",
       "      <td>AVGO</td>\n",
       "      <td>United States</td>\n",
       "      <td>Technology</td>\n",
       "      <td>Semiconductors</td>\n",
       "    </tr>\n",
       "    <tr>\n",
       "      <th>4</th>\n",
       "      <td>5</td>\n",
       "      <td>Taiwan Semiconductor Manufacturing Company Lim...</td>\n",
       "      <td>487640000000.0</td>\n",
       "      <td>2330</td>\n",
       "      <td>Taiwan</td>\n",
       "      <td>Technology</td>\n",
       "      <td>Semiconductors</td>\n",
       "    </tr>\n",
       "    <tr>\n",
       "      <th>...</th>\n",
       "      <td>...</td>\n",
       "      <td>...</td>\n",
       "      <td>...</td>\n",
       "      <td>...</td>\n",
       "      <td>...</td>\n",
       "      <td>...</td>\n",
       "      <td>...</td>\n",
       "    </tr>\n",
       "    <tr>\n",
       "      <th>995</th>\n",
       "      <td>996</td>\n",
       "      <td>Henan Thinker Automatic Equipment Co.,Ltd.</td>\n",
       "      <td>825400000.0</td>\n",
       "      <td>603508</td>\n",
       "      <td>China</td>\n",
       "      <td>Technology</td>\n",
       "      <td>Scientific &amp; Technical Instruments</td>\n",
       "    </tr>\n",
       "    <tr>\n",
       "      <th>996</th>\n",
       "      <td>997</td>\n",
       "      <td>transcosmos, Inc.</td>\n",
       "      <td>819500000.0</td>\n",
       "      <td>9715</td>\n",
       "      <td>Japan</td>\n",
       "      <td>Technology</td>\n",
       "      <td>Information Technology Services</td>\n",
       "    </tr>\n",
       "    <tr>\n",
       "      <th>997</th>\n",
       "      <td>998</td>\n",
       "      <td>Yeahka Ltd</td>\n",
       "      <td>819300000.0</td>\n",
       "      <td>9923</td>\n",
       "      <td>China</td>\n",
       "      <td>Technology</td>\n",
       "      <td>Software—Infrastructure</td>\n",
       "    </tr>\n",
       "    <tr>\n",
       "      <th>998</th>\n",
       "      <td>999</td>\n",
       "      <td>Beijing Wanji Technology Co. Ltd</td>\n",
       "      <td>816100000.0</td>\n",
       "      <td>300552</td>\n",
       "      <td>China</td>\n",
       "      <td>Technology</td>\n",
       "      <td>Scientific &amp; Technical Instruments</td>\n",
       "    </tr>\n",
       "    <tr>\n",
       "      <th>999</th>\n",
       "      <td>1000</td>\n",
       "      <td>Fujian Foxit Software Development Joint Stock ...</td>\n",
       "      <td>811500000.0</td>\n",
       "      <td>688095</td>\n",
       "      <td>China</td>\n",
       "      <td>Technology</td>\n",
       "      <td>Software—Application</td>\n",
       "    </tr>\n",
       "  </tbody>\n",
       "</table>\n",
       "<p>1000 rows × 7 columns</p>\n",
       "</div>"
      ],
      "text/plain": [
       "     Ranking                                            Company  \\\n",
       "0          1                                         Apple Inc.   \n",
       "1          2                              Microsoft Corporation   \n",
       "2          3                                 Nvidia Corporation   \n",
       "3          4                                      Broadcom Inc.   \n",
       "4          5  Taiwan Semiconductor Manufacturing Company Lim...   \n",
       "..       ...                                                ...   \n",
       "995      996         Henan Thinker Automatic Equipment Co.,Ltd.   \n",
       "996      997                                  transcosmos, Inc.   \n",
       "997      998                                         Yeahka Ltd   \n",
       "998      999                   Beijing Wanji Technology Co. Ltd   \n",
       "999     1000  Fujian Foxit Software Development Joint Stock ...   \n",
       "\n",
       "          Market Cap   Stock        Country      Sector  \\\n",
       "0    2866000000000.0    AAPL  United States  Technology   \n",
       "1    2755000000000.0    MSFT  United States  Technology   \n",
       "2    1186000000000.0    NVDA  United States  Technology   \n",
       "3     495950000000.0    AVGO  United States  Technology   \n",
       "4     487640000000.0    2330         Taiwan  Technology   \n",
       "..               ...     ...            ...         ...   \n",
       "995      825400000.0  603508          China  Technology   \n",
       "996      819500000.0    9715          Japan  Technology   \n",
       "997      819300000.0    9923          China  Technology   \n",
       "998      816100000.0  300552          China  Technology   \n",
       "999      811500000.0  688095          China  Technology   \n",
       "\n",
       "                               Industry  \n",
       "0                  Consumer Electronics  \n",
       "1               Software—Infrastructure  \n",
       "2                        Semiconductors  \n",
       "3                        Semiconductors  \n",
       "4                        Semiconductors  \n",
       "..                                  ...  \n",
       "995  Scientific & Technical Instruments  \n",
       "996     Information Technology Services  \n",
       "997             Software—Infrastructure  \n",
       "998  Scientific & Technical Instruments  \n",
       "999                Software—Application  \n",
       "\n",
       "[1000 rows x 7 columns]"
      ]
     },
     "execution_count": 208,
     "metadata": {},
     "output_type": "execute_result"
    }
   ],
   "source": [
    "data"
   ]
  },
  {
   "cell_type": "code",
   "execution_count": 209,
   "id": "f34e4bc8",
   "metadata": {},
   "outputs": [],
   "source": [
    "# Plotting Histogram"
   ]
  },
  {
   "cell_type": "code",
   "execution_count": 210,
   "id": "a467767b",
   "metadata": {},
   "outputs": [],
   "source": [
    "import matplotlib.pyplot as plt\n",
    "import numpy as np"
   ]
  },
  {
   "cell_type": "code",
   "execution_count": 211,
   "id": "b6c72018",
   "metadata": {},
   "outputs": [
    {
     "data": {
      "image/png": "[encoded data removed]",
      "text/plain": [
       "<Figure size 864x720 with 1 Axes>"
      ]
     },
     "metadata": {
      "needs_background": "light"
     },
     "output_type": "display_data"
    }
   ],
   "source": [
    "countryMarketCap = data.groupby('Country')['Market Cap'].sum()\n",
    "\n",
    "countryWiseMarketCap = countryMarketCap.apply(numerize.numerize)\n",
    "\n",
    "plt.figure(figsize=(12,10))\n",
    "plt.bar(countryWiseMarketCap.index, countryWiseMarketCap.values, color='skyblue')\n",
    "plt.xlabel('Country')\n",
    "plt.ylabel('Market Cap ($)')\n",
    "plt.title('Countries by Market Cap Grouped by Country.')\n",
    "plt.xticks(rotation=90)\n",
    "plt.tight_layout()\n",
    "plt.show()"
   ]
  },
  {
   "cell_type": "code",
   "execution_count": 212,
   "id": "70b75f10",
   "metadata": {},
   "outputs": [
    {
     "name": "stdout",
     "output_type": "stream",
     "text": [
      "Country\n",
      "Australia                 97.9B\n",
      "Austria                   2.23B\n",
      "Belgium                   7.88B\n",
      "Bermuda                  56.38B\n",
      "Brazil                   13.51B\n",
      "Canada                  224.57B\n",
      "Cayman Islands           18.24B\n",
      "China                   863.73B\n",
      "Czechia                   8.72B\n",
      "Denmark                   8.14B\n",
      "Finland                   25.6B\n",
      "France                  137.47B\n",
      "Germany                 271.43B\n",
      "Hong Kong               148.71B\n",
      "India                   108.54B\n",
      "Ireland                 228.77B\n",
      "Israel                   73.99B\n",
      "Italy                    21.31B\n",
      "Japan                   842.89B\n",
      "Kazakhstan               18.64B\n",
      "Luxembourg                9.49B\n",
      "Mauritius                 1.51B\n",
      "Netherlands             432.19B\n",
      "New Zealand              12.12B\n",
      "Norway                    9.58B\n",
      "Poland                    2.18B\n",
      "Portugal                 925.3M\n",
      "Singapore                18.01B\n",
      "South Korea             490.98B\n",
      "Spain                    33.87B\n",
      "Sweden                   67.09B\n",
      "Switzerland             144.37B\n",
      "Taiwan                    1.03T\n",
      "Thailand                  4.87B\n",
      "Turkey                    3.53B\n",
      "United Arab Emirates      3.57B\n",
      "United Kingdom           54.49B\n",
      "United States            13.26T\n",
      "Name: Market Cap, dtype: object\n"
     ]
    }
   ],
   "source": [
    "print(countryWiseMarketCap)\n"
   ]
  },
  {
   "cell_type": "code",
   "execution_count": null,
   "id": "7267cf92",
   "metadata": {},
   "outputs": [],
   "source": []
  },
  {
   "cell_type": "code",
   "execution_count": null,
   "id": "99409fee",
   "metadata": {},
   "outputs": [],
   "source": []
  },
  {
   "cell_type": "code",
   "execution_count": null,
   "id": "74ee5d22",
   "metadata": {},
   "outputs": [],
   "source": []
  }
 ],
 "metadata": {
  "kernelspec": {
   "display_name": "Python 3 (ipykernel)",
   "language": "python",
   "name": "python3"
  },
  "language_info": {
   "codemirror_mode": {
    "name": "ipython",
    "version": 3
   },
   "file_extension": ".py",
   "mimetype": "text/x-python",
   "name": "python",
   "nbconvert_exporter": "python",
   "pygments_lexer": "ipython3",
   "version": "3.9.7"
  }
 },
 "nbformat": 4,
 "nbformat_minor": 5
}
